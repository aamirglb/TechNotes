{
 "cells": [
  {
   "cell_type": "markdown",
   "id": "f3aaea8a",
   "metadata": {},
   "source": [
    "# Numpy"
   ]
  },
  {
   "cell_type": "markdown",
   "id": "a60a0d4b",
   "metadata": {},
   "source": [
    "optimized **LAPACK** and **BLAS** libraries for low-level vector, matrix, and linear algebra routines; or other specialized libraries"
   ]
  },
  {
   "cell_type": "markdown",
   "id": "ae4d366f",
   "metadata": {},
   "source": [
    "The **SciPy** organization and its web site www.scipy.org provide a\n",
    "centralized resource for information about the core packages in the scientific Python ecosystem, and lists of additional specialized packages, as well as documentation and tutorials.\n",
    "\n",
    "Another great resource is the **Numeric and Scientific** page on the official Python Wiki: http://wiki.python.org/moin/NumericAndScientific."
   ]
  },
  {
   "cell_type": "markdown",
   "id": "6fd2d4ad",
   "metadata": {},
   "source": [
    "REPL: Read–Evaluate–Print–Loop\n",
    "\n",
    "IPython is an enhanced command-line REPL environment for\n",
    "Python, with additional features for interactive and exploratory computing."
   ]
  },
  {
   "cell_type": "markdown",
   "id": "ccd6425f",
   "metadata": {},
   "source": [
    "The core of NumPy is implemented in C\n",
    "and provides efficient functions for manipulating and processing arrays."
   ]
  },
  {
   "cell_type": "code",
   "execution_count": null,
   "id": "b6b160b5",
   "metadata": {},
   "outputs": [],
   "source": [
    "import numpy as np\n",
    "print(np.__version__)\n",
    "# help(np.ndarray)"
   ]
  },
  {
   "cell_type": "markdown",
   "id": "f6a076fb",
   "metadata": {},
   "source": [
    "The core of the NumPy library is the data structures for representing multidimensional arrays of homogeneous data. The main data structure for multidimensional arrays in NumPy is the **ndarray**. **ndarray** also contains important metadata about the array, such as its _shape_, _size_, _data type_, and other attributes."
   ]
  },
  {
   "cell_type": "code",
   "execution_count": null,
   "id": "598addf0",
   "metadata": {},
   "outputs": [],
   "source": [
    "data = np.array([ [1, 2], [3, 4], [5, 6] ])\n",
    "print(type(data))\n",
    "print(data)\n",
    "print(data.ndim)\n",
    "print(data.shape)\n",
    "print(data.size)\n",
    "print(data.dtype)\n",
    "print(data.nbytes)"
   ]
  },
  {
   "cell_type": "markdown",
   "id": "ec87510d",
   "metadata": {},
   "source": [
    "### Basic Numpy Data Types\n",
    "\n",
    "| dtype | Variants | Description |\n",
    "|-------|----------|--------------|\n",
    "|int | int8, int16, int32, int64 | Integers |\n",
    "|uint | uint8, uint16, uint32, uint64 | Unsigned (nonnegative) integers |\n",
    "|bool | Bool | Boolean (True or False) |\n",
    "|float | float16, float32, float64, float128 | Floating-point numbers |\n",
    "|complex | complex64, complex128, complex256 | Complex-valued floating-point numbers |"
   ]
  },
  {
   "cell_type": "code",
   "execution_count": null,
   "id": "80996c10",
   "metadata": {},
   "outputs": [],
   "source": [
    "np.array([1, 2, 3, 4], dtype=np.int32)"
   ]
  },
  {
   "cell_type": "code",
   "execution_count": null,
   "id": "7333193b",
   "metadata": {},
   "outputs": [],
   "source": [
    "np.array([1, 2, 3], dtype=np.float32)"
   ]
  },
  {
   "cell_type": "code",
   "execution_count": null,
   "id": "03621a22",
   "metadata": {},
   "outputs": [],
   "source": [
    "np.array([1, 2, 3], dtype=np.complex64)"
   ]
  },
  {
   "cell_type": "code",
   "execution_count": null,
   "id": "7103d858",
   "metadata": {},
   "outputs": [],
   "source": [
    "data = np.array([1, 2, 3], dtype=np.float32)\n",
    "print(data)"
   ]
  },
  {
   "cell_type": "code",
   "execution_count": null,
   "id": "8d07e9d1",
   "metadata": {},
   "outputs": [],
   "source": [
    "data.astype(np.int32)"
   ]
  },
  {
   "cell_type": "markdown",
   "id": "d4b1f46e",
   "metadata": {},
   "source": [
    "A **NumPy** array can be specified to be stored in _row-major_ format, using the keyword argument `order='C'`, and column-major format, using the keyword argument `order='F'`, when the array is created or reshaped. The default format is _row-major_."
   ]
  },
  {
   "cell_type": "markdown",
   "id": "b6c1a5e8",
   "metadata": {},
   "source": [
    "The NumPy array attribute ndarray.strides defines exactly how\n",
    "this mapping is done. The strides attribute is a tuple of the same length as the number\n",
    "of axes (dimensions) of the array. Each value in strides is the factor by which the index\n",
    "for the corresponding axis is multiplied when calculating the memory offset (in bytes)\n",
    "for a given index expression."
   ]
  },
  {
   "cell_type": "code",
   "execution_count": null,
   "id": "f4dd128d",
   "metadata": {},
   "outputs": [],
   "source": [
    "row_major=np.array([ [1, 2, 3], [4, 5, 6]], dtype=np.int32)\n",
    "print(row_major.shape)\n",
    "print(row_major.size)\n",
    "print(row_major.strides)"
   ]
  },
  {
   "cell_type": "code",
   "execution_count": null,
   "id": "94b29c0a",
   "metadata": {},
   "outputs": [],
   "source": [
    "col_major = np.array([ [1, 2, 3], [4, 5, 6]], dtype=np.int32, order='F')\n",
    "print(col_major)\n",
    "print(col_major.strides)"
   ]
  },
  {
   "cell_type": "markdown",
   "id": "fd451794",
   "metadata": {},
   "source": [
    "| Function Name | Type of Array |\n",
    "|-------|----------|\n",
    "| **np.array** | Creates an array for which the elements are given by an array-like object, which, for example, can be a (nested) Python list, a tuple, an iterable sequence, or another ndarray instance. |\n",
    "| **np.zeros** | Creates an array with the specified dimensions and data type that is filled with zeros. |\n",
    "| **np.ones** | Creates an array with the specified dimensions and data type that is filled with ones. |\n",
    "| **np.diag** | Creates a diagonal array with specified values along the diagonal and zeros elsewhere. |\n",
    "| **np.arange** | Creates an array with evenly spaced values between the specified start, end, and increment values. |\n",
    "| **np.linspace** | Creates an array with evenly spaced values between specified start and end values, using a specified number of elements. |\n",
    "| **np.logspace** | Creates an array with values that are logarithmically spaced between the given start and end values. |\n",
    "| **np.meshgrid** | Generates coordinate matrices (and higher-dimensional coordinate arrays) from one-dimensional coordinate vectors. |\n",
    "| **np.fromfunction** | Creates an array and fills it with values specified by a given function, which is evaluated for each combination of indices for the given array size. |\n",
    "| **np.fromfile** | Creates an array with the data from a binary (or text) file. NumPy also provides a corresponding function np.tofile with which NumPy arrays can be stored to disk and later read back using np.fromfile. |\n",
    "| **np.genfromtxt,np.loadtxt** | Create an array from data read from a text file, for example, a comma-separated value (CSV) file. The function np.genfromtxt also supports data files with missing values. |\n",
    "| **np.random.rand** | Generates an array with random numbers that are uniformly distributed between 0 and 1. Other types of distributions are also available in the np.random module. |"
   ]
  },
  {
   "cell_type": "markdown",
   "id": "e3e58185",
   "metadata": {},
   "source": [
    "Using the **np.array** function, NumPy arrays can be constructed from explicit Python lists, iterable expressions, and other array-like objects (such as other ndarray instances)."
   ]
  },
  {
   "cell_type": "code",
   "execution_count": null,
   "id": "834c0b3d",
   "metadata": {},
   "outputs": [],
   "source": [
    "data = np.array([1, 2, 3, 4])\n",
    "data"
   ]
  },
  {
   "cell_type": "code",
   "execution_count": null,
   "id": "7a71a060",
   "metadata": {},
   "outputs": [],
   "source": [
    "data.ndim"
   ]
  },
  {
   "cell_type": "code",
   "execution_count": null,
   "id": "c2059d1e",
   "metadata": {},
   "outputs": [],
   "source": [
    "data.shape"
   ]
  },
  {
   "cell_type": "code",
   "execution_count": null,
   "id": "949c439b",
   "metadata": {},
   "outputs": [],
   "source": [
    "d = np.array([ [1, 2], [3, 4], [5, 6]])\n",
    "d"
   ]
  },
  {
   "cell_type": "code",
   "execution_count": null,
   "id": "bd96c1db",
   "metadata": {},
   "outputs": [],
   "source": [
    "d.ndim"
   ]
  },
  {
   "cell_type": "code",
   "execution_count": null,
   "id": "9bf5bfbb",
   "metadata": {},
   "outputs": [],
   "source": [
    "d.shape"
   ]
  },
  {
   "cell_type": "markdown",
   "id": "a64e768e",
   "metadata": {},
   "source": [
    "**np.zeros** and **np.ones** take, as first argument, an integer or a tuple that describes the number of elements along each dimension of the array.\n",
    "\n",
    "By default, the data type is `float64`, and it can be changed to the required type by explicitly specifying the dtype argument."
   ]
  },
  {
   "cell_type": "code",
   "execution_count": null,
   "id": "cb56b231",
   "metadata": {},
   "outputs": [],
   "source": [
    "np.zeros((2, 3))"
   ]
  },
  {
   "cell_type": "code",
   "execution_count": null,
   "id": "f67fdf3a",
   "metadata": {},
   "outputs": [],
   "source": [
    "np.ones(4)"
   ]
  },
  {
   "cell_type": "code",
   "execution_count": null,
   "id": "e480d9f2",
   "metadata": {},
   "outputs": [],
   "source": [
    "o = np.ones(4)\n",
    "o.dtype"
   ]
  },
  {
   "cell_type": "code",
   "execution_count": null,
   "id": "f84d8323",
   "metadata": {},
   "outputs": [],
   "source": [
    "o2 = np.ones(4, dtype=np.int64)\n",
    "o2.dtype"
   ]
  },
  {
   "cell_type": "markdown",
   "id": "2f024342",
   "metadata": {},
   "source": [
    "NumPy also provides the function **np.full** to fill an array with an arbitrary constant value."
   ]
  },
  {
   "cell_type": "code",
   "execution_count": null,
   "id": "e2b4ca17",
   "metadata": {},
   "outputs": [],
   "source": [
    "x1 = 5.4 * np.ones(10)\n",
    "x1"
   ]
  },
  {
   "cell_type": "code",
   "execution_count": null,
   "id": "81f36eb7",
   "metadata": {},
   "outputs": [],
   "source": [
    "x2 = np.full(10, 5.4)\n",
    "x2"
   ]
  },
  {
   "cell_type": "markdown",
   "id": "a2ef1e5a",
   "metadata": {},
   "source": [
    "An already created array can also be filled with constant values using the **np.fill** function, which takes an array and a value as arguments, and set all elements in the array to the given value.\n",
    "\n",
    "**np.empty** function generates an array with uninitialized values, of the given size."
   ]
  },
  {
   "cell_type": "code",
   "execution_count": null,
   "id": "1f525dfe",
   "metadata": {},
   "outputs": [],
   "source": [
    "x1 = np.empty(5)\n",
    "x1.fill(3.3)\n",
    "x1"
   ]
  },
  {
   "cell_type": "code",
   "execution_count": null,
   "id": "b27430cc",
   "metadata": {},
   "outputs": [],
   "source": [
    "x2 = np.full(5, 3.5)\n",
    "x2"
   ]
  },
  {
   "cell_type": "code",
   "execution_count": null,
   "id": "24a24cb3",
   "metadata": {},
   "outputs": [],
   "source": [
    "x2.fill(1.25)\n",
    "x2"
   ]
  },
  {
   "cell_type": "markdown",
   "id": "e14dba0a",
   "metadata": {},
   "source": [
    "The third argument of **np.arange** is the increment, while for **np.linspace** it is the total number of points in the array.\n",
    "\n",
    "However, note that **np.arange** does not include the end value (10), while by default **np.linspace** does (although this behavior can be changed using the optional endpoint keyword argument)."
   ]
  },
  {
   "cell_type": "code",
   "execution_count": null,
   "id": "2b650186",
   "metadata": {},
   "outputs": [],
   "source": [
    "np.arange(0.0, 10, 1)"
   ]
  },
  {
   "cell_type": "code",
   "execution_count": null,
   "id": "234d7714",
   "metadata": {},
   "outputs": [],
   "source": [
    "np.linspace(0, 10, 11)"
   ]
  },
  {
   "cell_type": "code",
   "execution_count": null,
   "id": "f0516237",
   "metadata": {},
   "outputs": [],
   "source": [
    "np.logspace(0, 2, 5) # 5 data points between 10**0=1 to 10**2=100"
   ]
  },
  {
   "cell_type": "markdown",
   "id": "2bd1b10f",
   "metadata": {},
   "source": [
    "Given two one-dimensional coordinate arrays (i.e., arrays containing a set of coordinates along a given dimension), we can generate two-dimensional coordinate arrays using the **np.meshgrid** function."
   ]
  },
  {
   "cell_type": "code",
   "execution_count": null,
   "id": "46f0d50b",
   "metadata": {},
   "outputs": [],
   "source": [
    "x = np.array([-1, 0, 1])\n",
    "y = np.array([-2, 0, 2])\n",
    "X, Y = np.meshgrid(x, y)\n",
    "X"
   ]
  },
  {
   "cell_type": "code",
   "execution_count": null,
   "id": "988c5c81",
   "metadata": {},
   "outputs": [],
   "source": [
    "Y"
   ]
  },
  {
   "cell_type": "code",
   "execution_count": null,
   "id": "c78701cd",
   "metadata": {},
   "outputs": [],
   "source": [
    "np.empty(3, dtype=np.int32)"
   ]
  },
  {
   "cell_type": "markdown",
   "id": "1e00f4a5",
   "metadata": {},
   "source": [
    "NumPy provides a family of functions for creating new arrays that share properties, such as shape and data type with another array: \n",
    "\n",
    "    - np.ones_like, \n",
    "    - np.zeros_like, \n",
    "    - np.full_like, and \n",
    "    - np.empty_like."
   ]
  },
  {
   "cell_type": "code",
   "execution_count": null,
   "id": "b6f82f06",
   "metadata": {},
   "outputs": [],
   "source": [
    "def f(x):\n",
    "    y = np.ones_like(x)\n",
    "    return y\n",
    "\n",
    "x = np.zeros((2, 2), dtype=np.uint8)\n",
    "y = f(x)\n",
    "x"
   ]
  },
  {
   "cell_type": "code",
   "execution_count": null,
   "id": "06de024d",
   "metadata": {},
   "outputs": [],
   "source": [
    "y"
   ]
  },
  {
   "cell_type": "markdown",
   "id": "a71065f5",
   "metadata": {},
   "source": [
    "Matrices, or two-dimensional arrays, are an important case for numerical computing.\n",
    "NumPy provides functions for generating commonly used matrices. In particular, the\n",
    "function **np.identity** generates a square matrix with ones on the diagonal and zeros\n",
    "elsewhere"
   ]
  },
  {
   "cell_type": "code",
   "execution_count": null,
   "id": "0582e7c4",
   "metadata": {},
   "outputs": [],
   "source": [
    "np.identity(4)"
   ]
  },
  {
   "cell_type": "markdown",
   "id": "cf49f3ed",
   "metadata": {},
   "source": [
    "**numpy.eye** generates matrices with ones on a diagonal (optionally offset)."
   ]
  },
  {
   "cell_type": "code",
   "execution_count": null,
   "id": "c4a3939f",
   "metadata": {},
   "outputs": [],
   "source": [
    "np.eye(3)"
   ]
  },
  {
   "cell_type": "code",
   "execution_count": null,
   "id": "124e864b",
   "metadata": {},
   "outputs": [],
   "source": [
    "np.eye(3, k=1)"
   ]
  },
  {
   "cell_type": "code",
   "execution_count": null,
   "id": "d05b6898",
   "metadata": {},
   "outputs": [],
   "source": [
    "np.eye(3, k=2)"
   ]
  },
  {
   "cell_type": "code",
   "execution_count": null,
   "id": "1374b5d1",
   "metadata": {},
   "outputs": [],
   "source": [
    "np.eye(3, k=-1)"
   ]
  },
  {
   "cell_type": "markdown",
   "id": "560be1ed",
   "metadata": {},
   "source": [
    "To construct a matrix with an arbitrary one-dimensional array on the diagonal, we can use the **np.diag** function (which also takes the optional keyword argument k to specify an offset from the diagonal)"
   ]
  },
  {
   "cell_type": "code",
   "execution_count": null,
   "id": "6d5b4ec1",
   "metadata": {},
   "outputs": [],
   "source": [
    "np.diag(np.arange(0, 20, 5))"
   ]
  },
  {
   "cell_type": "code",
   "execution_count": null,
   "id": "a0534d65",
   "metadata": {},
   "outputs": [],
   "source": [
    "x = np.arange(9).reshape((3, 3))\n",
    "x"
   ]
  },
  {
   "cell_type": "code",
   "execution_count": null,
   "id": "40f0bc89",
   "metadata": {},
   "outputs": [],
   "source": [
    "np.diag(x)"
   ]
  },
  {
   "cell_type": "code",
   "execution_count": null,
   "id": "e9b6769c",
   "metadata": {},
   "outputs": [],
   "source": [
    "np.diag(x, k=1)"
   ]
  },
  {
   "cell_type": "code",
   "execution_count": null,
   "id": "bf251791",
   "metadata": {},
   "outputs": [],
   "source": [
    "np.diag(x, k=-1)"
   ]
  },
  {
   "cell_type": "code",
   "execution_count": null,
   "id": "c90f1625",
   "metadata": {},
   "outputs": [],
   "source": [
    "i = np.identity(3)\n",
    "i"
   ]
  },
  {
   "cell_type": "code",
   "execution_count": null,
   "id": "68fb2330",
   "metadata": {},
   "outputs": [],
   "source": [
    "i = i * 3.0\n",
    "i"
   ]
  },
  {
   "cell_type": "code",
   "execution_count": null,
   "id": "66eae468",
   "metadata": {},
   "outputs": [],
   "source": [
    "a = np.arange(0, 11)\n",
    "a[-1], a[1:-1], a[1:-1:2]"
   ]
  },
  {
   "cell_type": "code",
   "execution_count": null,
   "id": "59d281c1",
   "metadata": {},
   "outputs": [],
   "source": [
    "f = lambda m, n: n + 10 * m\n",
    "A = np.fromfunction(f, (6, 6), dtype=np.int8)\n",
    "A"
   ]
  },
  {
   "cell_type": "code",
   "execution_count": null,
   "id": "ee9af20f",
   "metadata": {},
   "outputs": [],
   "source": [
    "A[:, 1]  # get second column"
   ]
  },
  {
   "cell_type": "code",
   "execution_count": null,
   "id": "0e25a111",
   "metadata": {},
   "outputs": [],
   "source": [
    "A[1, :] # get second row"
   ]
  },
  {
   "cell_type": "code",
   "execution_count": null,
   "id": "09f47d7e",
   "metadata": {},
   "outputs": [],
   "source": [
    "A[:3, :3]  # upper half diagonal block"
   ]
  },
  {
   "cell_type": "code",
   "execution_count": null,
   "id": "ee1305a8",
   "metadata": {},
   "outputs": [],
   "source": [
    "A[3:, :3]"
   ]
  },
  {
   "cell_type": "code",
   "execution_count": null,
   "id": "e7469ef1",
   "metadata": {},
   "outputs": [],
   "source": [
    "A[::2, ::2]"
   ]
  },
  {
   "cell_type": "code",
   "execution_count": null,
   "id": "b057631a",
   "metadata": {},
   "outputs": [],
   "source": [
    "A[1::2, 1::3]"
   ]
  },
  {
   "cell_type": "markdown",
   "id": "1f83b8dd",
   "metadata": {},
   "source": [
    "Subarrays that are extracted from arrays using slice operations are alternative _views_ of the same underlying array data."
   ]
  },
  {
   "cell_type": "code",
   "execution_count": null,
   "id": "6bbaa356",
   "metadata": {},
   "outputs": [],
   "source": [
    "B = A[1:5, 1:5]\n",
    "B"
   ]
  },
  {
   "cell_type": "code",
   "execution_count": null,
   "id": "dd7aeefb",
   "metadata": {},
   "outputs": [],
   "source": [
    "B[:, :] = 0\n",
    "A"
   ]
  },
  {
   "cell_type": "code",
   "execution_count": null,
   "id": "935d602a",
   "metadata": {},
   "outputs": [],
   "source": [
    "C = B[1:3, 1:3].copy()\n",
    "C"
   ]
  },
  {
   "cell_type": "code",
   "execution_count": null,
   "id": "a82a1a4f",
   "metadata": {},
   "outputs": [],
   "source": [
    "C[:, :] = 1\n",
    "C"
   ]
  },
  {
   "cell_type": "code",
   "execution_count": null,
   "id": "de5534ee",
   "metadata": {},
   "outputs": [],
   "source": [
    "B"
   ]
  },
  {
   "cell_type": "markdown",
   "id": "bbf63a37",
   "metadata": {},
   "source": [
    "NumPy provides another convenient method to index arrays, called _fancy indexing_. With fancy indexing, an array can be indexed with another NumPy array, a Python list, or a sequence of integers, whose\n",
    "values select elements in the indexed array."
   ]
  },
  {
   "cell_type": "code",
   "execution_count": null,
   "id": "a0946c66",
   "metadata": {},
   "outputs": [],
   "source": [
    "A = np.linspace(0, 1, 11)\n",
    "A"
   ]
  },
  {
   "cell_type": "code",
   "execution_count": null,
   "id": "f42445ff",
   "metadata": {},
   "outputs": [],
   "source": [
    "A[np.array([0, 2, 4, 8])]"
   ]
  },
  {
   "cell_type": "code",
   "execution_count": null,
   "id": "e210d0e3",
   "metadata": {},
   "outputs": [],
   "source": [
    "A[[0, 2, 4, 8]]"
   ]
  },
  {
   "cell_type": "code",
   "execution_count": null,
   "id": "e444d4a1",
   "metadata": {},
   "outputs": [],
   "source": [
    "import cv2 as cv\n",
    "import numpy as np\n",
    "import matplotlib.pyplot as plt\n",
    "%matplotlib inline\n",
    "\n",
    "height = 124\n",
    "width = 220\n",
    "img = np.zeros((height,width,3), np.uint8)\n",
    "img[:,:] = (255,255,255)\n",
    "\n",
    "font = cv.FONT_HERSHEY_SIMPLEX\n",
    "cv.putText(img,'Waiting For Image...',\n",
    "           (30, height//2), \n",
    "           font,       # font face\n",
    "           0.5,          # font scale\n",
    "           (0, 0, 0),  # color\n",
    "           1,          # thickness\n",
    "           cv.LINE_AA) \n",
    "\n",
    "plt.imshow(img)\n",
    "cv.imwrite('waiting.png', img)"
   ]
  },
  {
   "cell_type": "code",
   "execution_count": null,
   "id": "dc1f445d",
   "metadata": {},
   "outputs": [],
   "source": [
    "A = np.linspace(0, 1, 11)\n",
    "A > 0.5"
   ]
  },
  {
   "cell_type": "code",
   "execution_count": null,
   "id": "bf74d678",
   "metadata": {},
   "outputs": [],
   "source": [
    "A[A > 0.5]"
   ]
  },
  {
   "cell_type": "markdown",
   "id": "74376a84",
   "metadata": {},
   "source": [
    "Unlike arrays created by using slices, the arrays returned using _fancy indexing_ and Boolean-valued indexing are **not views** but rather new independent arrays."
   ]
  },
  {
   "cell_type": "code",
   "execution_count": null,
   "id": "44b0769a",
   "metadata": {},
   "outputs": [],
   "source": [
    "A = np.linspace(0, 1, 10, dtype=np.float32)\n",
    "A"
   ]
  },
  {
   "cell_type": "code",
   "execution_count": null,
   "id": "ac0534b9",
   "metadata": {},
   "outputs": [],
   "source": [
    "indices = [1, 4, 5]\n",
    "B = A[indices]\n",
    "B"
   ]
  },
  {
   "cell_type": "code",
   "execution_count": null,
   "id": "89786962",
   "metadata": {},
   "outputs": [],
   "source": [
    "A = np.arange(10)\n",
    "B = A[A>5]\n",
    "B"
   ]
  },
  {
   "cell_type": "code",
   "execution_count": null,
   "id": "b7bb6e1b",
   "metadata": {},
   "outputs": [],
   "source": [
    "B[0] = -1  # doesn't effect A\n",
    "A"
   ]
  },
  {
   "cell_type": "code",
   "execution_count": null,
   "id": "871e63b2",
   "metadata": {},
   "outputs": [],
   "source": [
    "A[A > 5] = -1\n",
    "A"
   ]
  },
  {
   "cell_type": "markdown",
   "id": "0fb38093",
   "metadata": {},
   "source": [
    "Numpy provides a rich set of functions for rearrange arrays and alter the way data in an array form is interpreted.\n",
    "\n",
    "| Function/Method | Description |\n",
    "|-----------------|-------------|\n",
    "| np.reshape, np.ndarray.reshape | Reshape an N-dimensional array. The total number of elements must remain the same. |\n",
    "| np.ndarray.flatten | Creates a copy of an N-dimensional array, and reinterpret it as a one-­dimensional array (i.e., all dimensions are collapsed into one). |\n",
    "| np.ravel, np.ndarray.ravel | Create a view (if possible, otherwise a copy) of an N-dimensional array in which it is interpreted as a one-dimensional array.\n",
    "| np.squeeze | Removes axes with length 1. |\n",
    "| np.expand_dims, np.newaxis | Add a new axis (dimension) of length 1 to an array, where np. newaxis is used with array indexing.\n",
    "| np.transpose, np.ndarray.transpose, np.ndarray.T | Transpose the array. The transpose operation corresponds to reversing (or more generally, permuting) the axes of the array. |\n",
    "| np.hstack | Stacks a list of arrays horizontally (along axis 1): for example, given a list of column vectors, appends the columns to form a matrix. |\n",
    "| np.vstack | Stacks a list of arrays vertically (along axis 0): for example, given a list of row vectors, appends the rows to form a matrix. |\n",
    "| np.dstack | Stacks arrays depth-wise (along axis 2). |\n",
    "| np.concatenate | Creates a new array by appending arrays after each other, along a given axis. |\n",
    "| np.resize | Resizes an array. Creates a new copy of the original array, with the requested size. If necessary, the original array will be repeated to fill up the new array. |\n",
    "| np.append | Appends an element to an array. Creates a new copy of the array. |\n",
    "| np.insert | Inserts a new element at a given position. Creates a new copy of the array. |\n",
    "| np.delete | Deletes an element at a given position. Creates a new copy of the array. |"
   ]
  },
  {
   "cell_type": "code",
   "execution_count": null,
   "id": "6fc552a7",
   "metadata": {},
   "outputs": [],
   "source": [
    "img2 = np.zeros((20, 20, 4), dtype=np.uint8)\n",
    "for r in range(20):\n",
    "    for c in range(20):\n",
    "        if c == r:\n",
    "            img2[r,c,:] = [127]\n",
    "plt.imshow(img2)"
   ]
  },
  {
   "cell_type": "code",
   "execution_count": null,
   "id": "a8ef5c22",
   "metadata": {},
   "outputs": [],
   "source": [
    "img3 = np.zeros((20, 20, 3), dtype=np.uint8)\n",
    "for r in range(20):\n",
    "    for c in range(20):\n",
    "        if c == r:\n",
    "            img3[r,c] = [255, 255, 0]\n",
    "plt.imshow(img3)"
   ]
  },
  {
   "cell_type": "code",
   "execution_count": null,
   "id": "8bb6bc0e",
   "metadata": {},
   "outputs": [],
   "source": [
    "data = np.array([[1,2], [3, 4]])\n",
    "print(data)\n",
    "data = np.reshape(data, (1, 4))\n",
    "print(data)\n",
    "# data = np.reshape(data, (4, 1))\n",
    "data = data.reshape((4, 1))\n",
    "print(data)"
   ]
  },
  {
   "cell_type": "code",
   "execution_count": null,
   "id": "997743e0",
   "metadata": {},
   "outputs": [],
   "source": [
    "data = np.array([[1, 2], [3, 4]])\n",
    "data"
   ]
  },
  {
   "cell_type": "code",
   "execution_count": null,
   "id": "f58abd73",
   "metadata": {},
   "outputs": [],
   "source": [
    "data.flatten()"
   ]
  },
  {
   "cell_type": "code",
   "execution_count": null,
   "id": "6567147f",
   "metadata": {},
   "outputs": [],
   "source": [
    "data.flatten().shape"
   ]
  },
  {
   "cell_type": "code",
   "execution_count": null,
   "id": "fe9507b7",
   "metadata": {},
   "outputs": [],
   "source": [
    "data = np.arange(0, 5)\n",
    "data"
   ]
  },
  {
   "cell_type": "code",
   "execution_count": null,
   "id": "1dc47078",
   "metadata": {},
   "outputs": [],
   "source": [
    "column = data[:, np.newaxis]\n",
    "column"
   ]
  },
  {
   "cell_type": "code",
   "execution_count": null,
   "id": "456d97f7",
   "metadata": {},
   "outputs": [],
   "source": [
    "row = column[np.newaxis, :]\n",
    "row"
   ]
  },
  {
   "cell_type": "code",
   "execution_count": null,
   "id": "6390adf7",
   "metadata": {},
   "outputs": [],
   "source": [
    "data = np.arange(5)\n",
    "data"
   ]
  },
  {
   "cell_type": "code",
   "execution_count": null,
   "id": "373f5c67",
   "metadata": {},
   "outputs": [],
   "source": [
    "np.vstack((data, data, data))"
   ]
  },
  {
   "cell_type": "code",
   "execution_count": null,
   "id": "9384e6de",
   "metadata": {},
   "outputs": [],
   "source": [
    "data = np.arange(5)\n",
    "data = data[:, np.newaxis]\n",
    "np.hstack((data, data, data))"
   ]
  },
  {
   "cell_type": "markdown",
   "id": "08df972b-9a6b-4e1c-9255-fcda2c8c0970",
   "metadata": {},
   "source": [
    "SciPy (pronounced “sigh pie”) is a set of open-source Python libraries specialized for scientific computing."
   ]
  },
  {
   "cell_type": "markdown",
   "id": "fb6e3fb2-0809-46d2-b669-b6d2bb784a7d",
   "metadata": {},
   "source": [
    "NumPy is the foundation library\n",
    "for scientific computing in Python since it provides data structures and high-performing\n",
    "functions that the basic package of the Python cannot provide. NumPy defines a specific data structure that is an N-dimensional array\n",
    "defined as _ndarray_."
   ]
  },
  {
   "cell_type": "markdown",
   "id": "ed3238ca-908c-476d-a792-24d98020477d",
   "metadata": {},
   "source": [
    "The NumPy library is based on one main object: ndarray (which stands for\n",
    "N-dimensional array). This object is a multidimensional homogeneous array with a\n",
    "predetermined number of items:"
   ]
  },
  {
   "cell_type": "markdown",
   "id": "f084cb00-3c45-4faf-bb7d-8c055812ef3e",
   "metadata": {},
   "source": [
    "The number of the dimensions and items in an array is defined by its shape, a tuple\n",
    "of N-positive integers that specifies the size for each dimension. The dimensions are\n",
    "defined as axes and the number of axes as rank."
   ]
  },
  {
   "cell_type": "code",
   "execution_count": null,
   "id": "ddefd2c3-f18a-4881-8128-df44ad3ecda3",
   "metadata": {},
   "outputs": [],
   "source": [
    "import numpy as np\n",
    "a= np.array([1, 2, 3, 4])\n",
    "a"
   ]
  },
  {
   "cell_type": "code",
   "execution_count": null,
   "id": "c9b7b56e-8605-49f7-93bb-7556880b3d17",
   "metadata": {},
   "outputs": [],
   "source": [
    "type(a), a.dtype, a.ndim, a.size, a.shape"
   ]
  },
  {
   "cell_type": "code",
   "execution_count": null,
   "id": "f4db3483-04fd-4cbc-b6a1-502698983b01",
   "metadata": {},
   "outputs": [],
   "source": [
    "b = np.array([[1, 2, 3], [4, 5, 6]])\n",
    "b"
   ]
  },
  {
   "cell_type": "code",
   "execution_count": null,
   "id": "b793d541-50ed-46fb-9045-64d92a5c7280",
   "metadata": {},
   "outputs": [],
   "source": [
    "c = np.array([[1,2,3], (4, 5, 6), [7, 8, 9]])\n",
    "c"
   ]
  },
  {
   "cell_type": "markdown",
   "id": "6ca37085-f06f-4264-9e42-02f8dc01e1c9",
   "metadata": {},
   "source": [
    "NumPy arrays are\n",
    "designed to contain a wide variety of data types. For example, you can use\n",
    "the data type string."
   ]
  },
  {
   "cell_type": "code",
   "execution_count": null,
   "id": "868f37f0-5be3-48b4-b0d2-b723dc5fb406",
   "metadata": {},
   "outputs": [],
   "source": [
    "d = np.array([ ['a', 'b'], ['c', 'd']])\n",
    "d, d.dtype, d.dtype.name"
   ]
  },
  {
   "cell_type": "markdown",
   "id": "b8e93bfd-dedb-4cc9-8d1f-243f7a987b63",
   "metadata": {},
   "source": [
    "### Data Types Supported by NumPy\n",
    "| Data Type | Description |\n",
    "|-----------|-------------|\n",
    "| bool_      | Boolean (true or false) stored as a byte |\n",
    "| int_       | Default integer type (same as C long; normally either int64 or int32) |\n",
    "| intc       | Identical to C int (normally int32 or int64) |\n",
    "| intp       | Integer used for indexing (same as C size_t; normally either int32 or int64) |\n",
    "| int8       | Byte (–128 to 127) |\n",
    "| int16      | Integer (–32768 to 32767) |\n",
    "| int32      | Integer (–2147483648 to 2147483647) |\n",
    "| int64      | Integer (–9223372036854775808 to 9223372036854775807) |\n",
    "| uint8      | Unsigned integer (0 to 255) |\n",
    "| uint16     | Unsigned integer (0 to 65535) |\n",
    "| uint32     | Unsigned integer (0 to 4294967295) |\n",
    "| uint64     | Unsigned integer (0 to 18446744073709551615) |\n",
    "| float_     | Shorthand for float64 |\n",
    "| float16    | Half precision float: sign bit, 5-bit exponent, 10-bit mantissa |\n",
    "| float32    | Single precision float: sign bit, 8-bit exponent, 23-bit mantissa |\n",
    "| float64    | Double precision float: sign bit, 11-bit exponent, 52-bit mantissa |\n",
    "| complex_   | Shorthand for complex128 |\n",
    "| complex64  | Complex number, represented by two 32-bit floats (real and imaginary components) |\n",
    "| complex128 | Complex number, represented by two 64-bit floats (real and imaginary components) |"
   ]
  },
  {
   "cell_type": "code",
   "execution_count": null,
   "id": "8179079c-3936-4425-a76a-33aee50f5b2f",
   "metadata": {},
   "outputs": [],
   "source": [
    "import matplotlib.pyplot as plt\n",
    "import numpy as np\n",
    "np.random.seed(444)"
   ]
  },
  {
   "cell_type": "markdown",
   "id": "cd2edd1c-5f35-47a7-901f-f630ce185aa0",
   "metadata": {},
   "source": [
    "A **Figure** object is the outermost container for a matplotlib graphic, which can contain multiple **Axes** objects. One source of confusion is the name: an Axes actually translates into what we think of as an individual plot or graph. Below the **Axes** in the hierarchy are smaller objects such as _tick marks_, _individual lines_, _legends_, and _text boxes_. Almost every “element” of a chart is its own manipulable Python object, all the way down to the ticks and labels:"
   ]
  },
  {
   "cell_type": "code",
   "execution_count": null,
   "id": "8c0d6eb0-ed63-437c-839d-ad3bc27068d1",
   "metadata": {},
   "outputs": [],
   "source": [
    "# fig, ax = plt.subplots()\n",
    "# print(type(fig))\n",
    "# _tick = fig.axes[0].yaxis.get_major_ticks()[0]\n",
    "# print(type(_tick))\n",
    "rng = np.arange(50)\n",
    "rnd = np.random.randint(0, 10, size=(3, rng.size))\n",
    "yrs = 1950 + rng\n",
    "\n",
    "fig, ax = plt.subplots(figsize=(5, 3))\n",
    "ax.stackplot(yrs, rng+rnd, labels=['Eastasia', 'Eurasia', 'Oceania'])\n",
    "ax.set_title('Combined debt growth over time')\n",
    "ax.legend(loc='upper left')\n",
    "ax.set_ylabel('Total debt')\n",
    "ax.set_xlim(xmin=yrs[0], xmax=yrs[-1])\n",
    "fig.tight_layout()"
   ]
  },
  {
   "cell_type": "markdown",
   "id": "fe7cf16c-c06b-40cf-aebe-9d7fce0a4ba0",
   "metadata": {},
   "source": [
    "**stateful** (state-based, state-machine) and **stateless** (object-oriented, OO) interfaces.\n",
    "\n",
    "pyplot is home to a batch of functions that are really just wrappers around matplotlib’s object-oriented interface. For example, with plt.title(), there are corresponding setter and getter methods within the OO approach, ax.set_title() and ax.get_title()."
   ]
  },
  {
   "cell_type": "code",
   "execution_count": null,
   "id": "39e2d3cd-fe8b-43a1-8215-8f1890277ce5",
   "metadata": {},
   "outputs": [],
   "source": [
    "x = np.random.randint(low=1, high=11, size=50)\n",
    "y = x+np.random.randint(1, 5, size=x.size)\n",
    "data = np.column_stack((x, y))\n",
    "\n",
    "fig, (ax1, ax2) = plt.subplots(nrows=1, ncols=2, figsize=(8, 4))\n",
    "\n",
    "ax1.scatter(x=x, y=y, marker='o', c='r', edgecolor='b')\n",
    "ax1.set_title('Scatter: $x$ versus $y$')\n",
    "ax1.set_xlabel('$x$')\n",
    "ax1.set_ylabel('$y$')\n",
    "\n",
    "ax2.hist(data, bins=np.arange(data.min(), data.max()),\n",
    "        label=('x', 'y'))\n",
    "ax2.legend(loc=(0.65, 0.8))\n",
    "ax2.set_title('Frquencies of $x$ and $y$')\n",
    "ax2.yaxis.tick_right()"
   ]
  },
  {
   "cell_type": "markdown",
   "id": "d249ff16-b629-41f7-9cdc-41df5ffd157b",
   "metadata": {},
   "source": [
    "Text inside dollar signs utilizes TeX markup to put variables in italics."
   ]
  },
  {
   "cell_type": "markdown",
   "id": "0b6fce3f-0b7e-4df1-ab93-3b3a1aba3ae0",
   "metadata": {},
   "source": [
    "Matplotlib’s gridspec module allows for more subplot customization. pyplot’s subplot2grid() interacts with this module nicely."
   ]
  },
  {
   "cell_type": "code",
   "execution_count": null,
   "id": "42aaa212-41c1-4af6-b449-f04891770118",
   "metadata": {},
   "outputs": [],
   "source": [
    "gridsize = (3, 2)\n",
    "fig = plt.figure(figsize=(12, 8))\n",
    "ax1 = plt.subplot2grid(gridsize, (0,0), colspan=2, rowspan=2)\n",
    "ax2 = plt.subplot2grid(gridsize, (2, 0))\n",
    "ax3 = plt.subplot2grid(gridsize, (2, 1))\n",
    "\n",
    "ax1.set_title('Home Value')\n",
    "sctr = ax1.scatter(x=x, y=y)\n",
    "plt.colorbar(sctr, ax=ax1, format='$%d')"
   ]
  },
  {
   "cell_type": "code",
   "execution_count": null,
   "id": "f7f81a9b-16ce-4d75-95ae-9fcdabde1052",
   "metadata": {},
   "outputs": [],
   "source": [
    "for i, item in enumerate(plt.style.available):\n",
    "    print(f'{i+1:2d}. {item}')"
   ]
  },
  {
   "cell_type": "code",
   "execution_count": null,
   "id": "111320c9-fc85-45d0-ae38-682dfefd0853",
   "metadata": {},
   "outputs": [],
   "source": [
    "plt.rcParams['interactive']"
   ]
  },
  {
   "cell_type": "code",
   "execution_count": null,
   "id": "f2752701-6e66-422c-af3d-decdfa6cf62b",
   "metadata": {},
   "outputs": [],
   "source": []
  }
 ],
 "metadata": {
  "kernelspec": {
   "display_name": "Python 3",
   "language": "python",
   "name": "python3"
  },
  "language_info": {
   "codemirror_mode": {
    "name": "ipython",
    "version": 3
   },
   "file_extension": ".py",
   "mimetype": "text/x-python",
   "name": "python",
   "nbconvert_exporter": "python",
   "pygments_lexer": "ipython3",
   "version": "3.8.8"
  }
 },
 "nbformat": 4,
 "nbformat_minor": 5
}
