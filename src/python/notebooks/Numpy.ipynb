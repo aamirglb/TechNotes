{
 "cells": [
  {
   "cell_type": "markdown",
   "id": "f3aaea8a",
   "metadata": {},
   "source": [
    "# Numpy"
   ]
  },
  {
   "cell_type": "markdown",
   "id": "a60a0d4b",
   "metadata": {},
   "source": [
    "optimized **LAPACK** and **BLAS** libraries for low-level vector, matrix, and linear algebra routines; or other specialized libraries"
   ]
  },
  {
   "cell_type": "markdown",
   "id": "ae4d366f",
   "metadata": {},
   "source": [
    "The **SciPy** organization and its web site www.scipy.org provide a\n",
    "centralized resource for information about the core packages in the scientific Python ecosystem, and lists of additional specialized packages, as well as documentation and tutorials.\n",
    "\n",
    "Another great resource is the **Numeric and Scientific** page on the official Python Wiki: http://wiki.python.org/moin/NumericAndScientific."
   ]
  },
  {
   "cell_type": "markdown",
   "id": "6fd2d4ad",
   "metadata": {},
   "source": [
    "REPL: Read–Evaluate–Print–Loop\n",
    "\n",
    "IPython is an enhanced command-line REPL environment for\n",
    "Python, with additional features for interactive and exploratory computing."
   ]
  },
  {
   "cell_type": "markdown",
   "id": "ccd6425f",
   "metadata": {},
   "source": [
    "The core of NumPy is implemented in C\n",
    "and provides efficient functions for manipulating and processing arrays."
   ]
  },
  {
   "cell_type": "code",
   "execution_count": 3,
   "id": "b6b160b5",
   "metadata": {},
   "outputs": [
    {
     "name": "stdout",
     "output_type": "stream",
     "text": [
      "1.20.1\n"
     ]
    }
   ],
   "source": [
    "import numpy as np\n",
    "print(np.__version__)\n",
    "# help(np.ndarray)"
   ]
  },
  {
   "cell_type": "markdown",
   "id": "f6a076fb",
   "metadata": {},
   "source": [
    "The core of the NumPy library is the data structures for representing multidimensional arrays of homogeneous data. The main data structure for multidimensional arrays in NumPy is the **ndarray**. **ndarray** also contains important metadata about the array, such as its _shape_, _size_, _data type_, and other attributes."
   ]
  },
  {
   "cell_type": "code",
   "execution_count": 13,
   "id": "598addf0",
   "metadata": {},
   "outputs": [
    {
     "name": "stdout",
     "output_type": "stream",
     "text": [
      "<class 'numpy.ndarray'>\n",
      "[[1 2]\n",
      " [3 4]\n",
      " [5 6]]\n",
      "2\n",
      "(3, 2)\n",
      "6\n",
      "int64\n",
      "48\n"
     ]
    }
   ],
   "source": [
    "data = np.array([ [1, 2], [3, 4], [5, 6] ])\n",
    "print(type(data))\n",
    "print(data)\n",
    "print(data.ndim)\n",
    "print(data.shape)\n",
    "print(data.size)\n",
    "print(data.dtype)\n",
    "print(data.nbytes)"
   ]
  },
  {
   "cell_type": "markdown",
   "id": "ec87510d",
   "metadata": {},
   "source": [
    "### Basic Numpy Data Types\n",
    "\n",
    "| dtype | Variants | Description |\n",
    "|-------|----------|--------------|\n",
    "|int | int8, int16, int32, int64 | Integers |\n",
    "|uint | uint8, uint16, uint32, uint64 | Unsigned (nonnegative) integers |\n",
    "|bool | Bool | Boolean (True or False) |\n",
    "|float | float16, float32, float64, float128 | Floating-point numbers |\n",
    "|complex | complex64, complex128, complex256 | Complex-valued floating-point numbers |"
   ]
  },
  {
   "cell_type": "code",
   "execution_count": 15,
   "id": "80996c10",
   "metadata": {},
   "outputs": [
    {
     "data": {
      "text/plain": [
       "array([1, 2, 3, 4], dtype=int32)"
      ]
     },
     "execution_count": 15,
     "metadata": {},
     "output_type": "execute_result"
    }
   ],
   "source": [
    "np.array([1, 2, 3, 4], dtype=np.int32)"
   ]
  },
  {
   "cell_type": "code",
   "execution_count": 16,
   "id": "7333193b",
   "metadata": {},
   "outputs": [
    {
     "data": {
      "text/plain": [
       "array([1., 2., 3.], dtype=float32)"
      ]
     },
     "execution_count": 16,
     "metadata": {},
     "output_type": "execute_result"
    }
   ],
   "source": [
    "np.array([1, 2, 3], dtype=np.float32)"
   ]
  },
  {
   "cell_type": "code",
   "execution_count": 17,
   "id": "03621a22",
   "metadata": {},
   "outputs": [
    {
     "data": {
      "text/plain": [
       "array([1.+0.j, 2.+0.j, 3.+0.j], dtype=complex64)"
      ]
     },
     "execution_count": 17,
     "metadata": {},
     "output_type": "execute_result"
    }
   ],
   "source": [
    "np.array([1, 2, 3], dtype=np.complex64)"
   ]
  },
  {
   "cell_type": "code",
   "execution_count": 19,
   "id": "7103d858",
   "metadata": {},
   "outputs": [
    {
     "name": "stdout",
     "output_type": "stream",
     "text": [
      "[1. 2. 3.]\n"
     ]
    }
   ],
   "source": [
    "data = np.array([1, 2, 3], dtype=np.float32)\n",
    "print(data)"
   ]
  },
  {
   "cell_type": "code",
   "execution_count": 20,
   "id": "8d07e9d1",
   "metadata": {},
   "outputs": [
    {
     "data": {
      "text/plain": [
       "array([1, 2, 3], dtype=int32)"
      ]
     },
     "execution_count": 20,
     "metadata": {},
     "output_type": "execute_result"
    }
   ],
   "source": [
    "data.astype(np.int32)"
   ]
  },
  {
   "cell_type": "markdown",
   "id": "d4b1f46e",
   "metadata": {},
   "source": [
    "A **NumPy** array can be specified to be stored in _row-major_ format, using the keyword argument `order='C'`, and column-major format, using the keyword argument `order='F'`, when the array is created or reshaped. The default format is _row-major_."
   ]
  },
  {
   "cell_type": "markdown",
   "id": "b6c1a5e8",
   "metadata": {},
   "source": [
    "The NumPy array attribute ndarray.strides defines exactly how\n",
    "this mapping is done. The strides attribute is a tuple of the same length as the number\n",
    "of axes (dimensions) of the array. Each value in strides is the factor by which the index\n",
    "for the corresponding axis is multiplied when calculating the memory offset (in bytes)\n",
    "for a given index expression."
   ]
  },
  {
   "cell_type": "code",
   "execution_count": 25,
   "id": "f4dd128d",
   "metadata": {},
   "outputs": [
    {
     "name": "stdout",
     "output_type": "stream",
     "text": [
      "(2, 3)\n",
      "6\n",
      "(12, 4)\n"
     ]
    }
   ],
   "source": [
    "row_major=np.array([ [1, 2, 3], [4, 5, 6]], dtype=np.int32)\n",
    "print(row_major.shape)\n",
    "print(row_major.size)\n",
    "print(row_major.strides)"
   ]
  },
  {
   "cell_type": "code",
   "execution_count": 28,
   "id": "94b29c0a",
   "metadata": {},
   "outputs": [
    {
     "name": "stdout",
     "output_type": "stream",
     "text": [
      "[[1 2 3]\n",
      " [4 5 6]]\n",
      "(4, 8)\n"
     ]
    }
   ],
   "source": [
    "col_major = np.array([ [1, 2, 3], [4, 5, 6]], dtype=np.int32, order='F')\n",
    "print(col_major)\n",
    "print(col_major.strides)"
   ]
  },
  {
   "cell_type": "markdown",
   "id": "fd451794",
   "metadata": {},
   "source": [
    "| Function Name | Type of Array |\n",
    "|-------|----------|\n",
    "| **np.array** | Creates an array for which the elements are given by an array-like object, which, for example, can be a (nested) Python list, a tuple, an iterable sequence, or another ndarray instance. |\n",
    "| **np.zeros** | Creates an array with the specified dimensions and data type that is filled with zeros. |\n",
    "| **np.ones** | Creates an array with the specified dimensions and data type that is filled with ones. |\n",
    "| **np.diag** | Creates a diagonal array with specified values along the diagonal and zeros elsewhere. |\n",
    "| **np.arange** | Creates an array with evenly spaced values between the specified start, end, and increment values. |\n",
    "| **np.linspace** | Creates an array with evenly spaced values between specified start and end values, using a specified number of elements. |\n",
    "| **np.logspace** | Creates an array with values that are logarithmically spaced between the given start and end values. |\n",
    "| **np.meshgrid** | Generates coordinate matrices (and higher-dimensional coordinate arrays) from one-dimensional coordinate vectors. |\n",
    "| **np.fromfunction** | Creates an array and fills it with values specified by a given function, which is evaluated for each combination of indices for the given array size. |\n",
    "| **np.fromfile** | Creates an array with the data from a binary (or text) file. NumPy also provides a corresponding function np.tofile with which NumPy arrays can be stored to disk and later read back using np.fromfile. |\n",
    "| **np.genfromtxt,np.loadtxt** | Create an array from data read from a text file, for example, a comma-separated value (CSV) file. The function np.genfromtxt also supports data files with missing values. |\n",
    "| **np.random.rand** | Generates an array with random numbers that are uniformly distributed between 0 and 1. Other types of distributions are also available in the np.random module. |"
   ]
  },
  {
   "cell_type": "markdown",
   "id": "e3e58185",
   "metadata": {},
   "source": [
    "Using the **np.array** function, NumPy arrays can be constructed from explicit Python lists, iterable expressions, and other array-like objects (such as other ndarray instances)."
   ]
  },
  {
   "cell_type": "code",
   "execution_count": 37,
   "id": "834c0b3d",
   "metadata": {},
   "outputs": [
    {
     "data": {
      "text/plain": [
       "array([1, 2, 3, 4])"
      ]
     },
     "execution_count": 37,
     "metadata": {},
     "output_type": "execute_result"
    }
   ],
   "source": [
    "data = np.array([1, 2, 3, 4])\n",
    "data"
   ]
  },
  {
   "cell_type": "code",
   "execution_count": 33,
   "id": "7a71a060",
   "metadata": {},
   "outputs": [
    {
     "data": {
      "text/plain": [
       "1"
      ]
     },
     "execution_count": 33,
     "metadata": {},
     "output_type": "execute_result"
    }
   ],
   "source": [
    "data.ndim"
   ]
  },
  {
   "cell_type": "code",
   "execution_count": 34,
   "id": "c2059d1e",
   "metadata": {},
   "outputs": [
    {
     "data": {
      "text/plain": [
       "(4,)"
      ]
     },
     "execution_count": 34,
     "metadata": {},
     "output_type": "execute_result"
    }
   ],
   "source": [
    "data.shape"
   ]
  },
  {
   "cell_type": "code",
   "execution_count": 36,
   "id": "949c439b",
   "metadata": {},
   "outputs": [
    {
     "data": {
      "text/plain": [
       "array([[1, 2],\n",
       "       [3, 4],\n",
       "       [5, 6]])"
      ]
     },
     "execution_count": 36,
     "metadata": {},
     "output_type": "execute_result"
    }
   ],
   "source": [
    "d = np.array([ [1, 2], [3, 4], [5, 6]])\n",
    "d"
   ]
  },
  {
   "cell_type": "code",
   "execution_count": 38,
   "id": "bd96c1db",
   "metadata": {},
   "outputs": [
    {
     "data": {
      "text/plain": [
       "2"
      ]
     },
     "execution_count": 38,
     "metadata": {},
     "output_type": "execute_result"
    }
   ],
   "source": [
    "d.ndim"
   ]
  },
  {
   "cell_type": "code",
   "execution_count": 39,
   "id": "9bf5bfbb",
   "metadata": {},
   "outputs": [
    {
     "data": {
      "text/plain": [
       "(3, 2)"
      ]
     },
     "execution_count": 39,
     "metadata": {},
     "output_type": "execute_result"
    }
   ],
   "source": [
    "d.shape"
   ]
  },
  {
   "cell_type": "markdown",
   "id": "a64e768e",
   "metadata": {},
   "source": [
    "**np.zeros** and **np.ones** take, as first argument, an integer or a tuple that describes the number of elements along each dimension of the array.\n",
    "\n",
    "By default, the data type is `float64`, and it can be changed to the required type by explicitly specifying the dtype argument."
   ]
  },
  {
   "cell_type": "code",
   "execution_count": 40,
   "id": "cb56b231",
   "metadata": {},
   "outputs": [
    {
     "data": {
      "text/plain": [
       "array([[0., 0., 0.],\n",
       "       [0., 0., 0.]])"
      ]
     },
     "execution_count": 40,
     "metadata": {},
     "output_type": "execute_result"
    }
   ],
   "source": [
    "np.zeros((2, 3))"
   ]
  },
  {
   "cell_type": "code",
   "execution_count": 41,
   "id": "f67fdf3a",
   "metadata": {},
   "outputs": [
    {
     "data": {
      "text/plain": [
       "array([1., 1., 1., 1.])"
      ]
     },
     "execution_count": 41,
     "metadata": {},
     "output_type": "execute_result"
    }
   ],
   "source": [
    "np.ones(4)"
   ]
  },
  {
   "cell_type": "code",
   "execution_count": 42,
   "id": "e480d9f2",
   "metadata": {},
   "outputs": [
    {
     "data": {
      "text/plain": [
       "dtype('float64')"
      ]
     },
     "execution_count": 42,
     "metadata": {},
     "output_type": "execute_result"
    }
   ],
   "source": [
    "o = np.ones(4)\n",
    "o.dtype"
   ]
  },
  {
   "cell_type": "code",
   "execution_count": 43,
   "id": "f84d8323",
   "metadata": {},
   "outputs": [
    {
     "data": {
      "text/plain": [
       "dtype('int64')"
      ]
     },
     "execution_count": 43,
     "metadata": {},
     "output_type": "execute_result"
    }
   ],
   "source": [
    "o2 = np.ones(4, dtype=np.int64)\n",
    "o2.dtype"
   ]
  },
  {
   "cell_type": "markdown",
   "id": "2f024342",
   "metadata": {},
   "source": [
    "NumPy also provides the function **np.full** to fill an array with an arbitrary constant value."
   ]
  },
  {
   "cell_type": "code",
   "execution_count": 44,
   "id": "e2b4ca17",
   "metadata": {},
   "outputs": [
    {
     "data": {
      "text/plain": [
       "array([5.4, 5.4, 5.4, 5.4, 5.4, 5.4, 5.4, 5.4, 5.4, 5.4])"
      ]
     },
     "execution_count": 44,
     "metadata": {},
     "output_type": "execute_result"
    }
   ],
   "source": [
    "x1 = 5.4 * np.ones(10)\n",
    "x1"
   ]
  },
  {
   "cell_type": "code",
   "execution_count": 46,
   "id": "81f36eb7",
   "metadata": {},
   "outputs": [
    {
     "data": {
      "text/plain": [
       "array([5.4, 5.4, 5.4, 5.4, 5.4, 5.4, 5.4, 5.4, 5.4, 5.4])"
      ]
     },
     "execution_count": 46,
     "metadata": {},
     "output_type": "execute_result"
    }
   ],
   "source": [
    "x2 = np.full(10, 5.4)\n",
    "x2"
   ]
  },
  {
   "cell_type": "markdown",
   "id": "a2ef1e5a",
   "metadata": {},
   "source": [
    "An already created array can also be filled with constant values using the **np.fill** function, which takes an array and a value as arguments, and set all elements in the array to the given value.\n",
    "\n",
    "**np.empty** function generates an array with uninitialized values, of the given size."
   ]
  },
  {
   "cell_type": "code",
   "execution_count": 49,
   "id": "1f525dfe",
   "metadata": {},
   "outputs": [
    {
     "data": {
      "text/plain": [
       "array([3.3, 3.3, 3.3, 3.3, 3.3])"
      ]
     },
     "execution_count": 49,
     "metadata": {},
     "output_type": "execute_result"
    }
   ],
   "source": [
    "x1 = np.empty(5)\n",
    "x1.fill(3.3)\n",
    "x1"
   ]
  },
  {
   "cell_type": "code",
   "execution_count": 50,
   "id": "b27430cc",
   "metadata": {},
   "outputs": [
    {
     "data": {
      "text/plain": [
       "array([3.5, 3.5, 3.5, 3.5, 3.5])"
      ]
     },
     "execution_count": 50,
     "metadata": {},
     "output_type": "execute_result"
    }
   ],
   "source": [
    "x2 = np.full(5, 3.5)\n",
    "x2"
   ]
  },
  {
   "cell_type": "code",
   "execution_count": 51,
   "id": "24a24cb3",
   "metadata": {},
   "outputs": [
    {
     "data": {
      "text/plain": [
       "array([1.25, 1.25, 1.25, 1.25, 1.25])"
      ]
     },
     "execution_count": 51,
     "metadata": {},
     "output_type": "execute_result"
    }
   ],
   "source": [
    "x2.fill(1.25)\n",
    "x2"
   ]
  },
  {
   "cell_type": "markdown",
   "id": "e14dba0a",
   "metadata": {},
   "source": [
    "The third argument of **np.arange** is the increment, while for **np.linspace** it is the total number of points in the array.\n",
    "\n",
    "However, note that **np.arange** does not include the end value (10), while by default **np.linspace** does (although this behavior can be changed using the optional endpoint keyword argument)."
   ]
  },
  {
   "cell_type": "code",
   "execution_count": 52,
   "id": "2b650186",
   "metadata": {},
   "outputs": [
    {
     "data": {
      "text/plain": [
       "array([0., 1., 2., 3., 4., 5., 6., 7., 8., 9.])"
      ]
     },
     "execution_count": 52,
     "metadata": {},
     "output_type": "execute_result"
    }
   ],
   "source": [
    "np.arange(0.0, 10, 1)"
   ]
  },
  {
   "cell_type": "code",
   "execution_count": 53,
   "id": "234d7714",
   "metadata": {},
   "outputs": [
    {
     "data": {
      "text/plain": [
       "array([ 0.,  1.,  2.,  3.,  4.,  5.,  6.,  7.,  8.,  9., 10.])"
      ]
     },
     "execution_count": 53,
     "metadata": {},
     "output_type": "execute_result"
    }
   ],
   "source": [
    "np.linspace(0, 10, 11)"
   ]
  },
  {
   "cell_type": "code",
   "execution_count": 55,
   "id": "f0516237",
   "metadata": {},
   "outputs": [
    {
     "data": {
      "text/plain": [
       "array([  1.        ,   3.16227766,  10.        ,  31.6227766 ,\n",
       "       100.        ])"
      ]
     },
     "execution_count": 55,
     "metadata": {},
     "output_type": "execute_result"
    }
   ],
   "source": [
    "np.logspace(0, 2, 5) # 5 data points between 10**0=1 to 10**2=100"
   ]
  },
  {
   "cell_type": "markdown",
   "id": "2bd1b10f",
   "metadata": {},
   "source": [
    "Given two one-dimensional coordinate arrays (i.e., arrays containing a set of coordinates along a given dimension), we can generate two-dimensional coordinate arrays using the **np.meshgrid** function."
   ]
  },
  {
   "cell_type": "code",
   "execution_count": 56,
   "id": "46f0d50b",
   "metadata": {},
   "outputs": [
    {
     "data": {
      "text/plain": [
       "array([[-1,  0,  1],\n",
       "       [-1,  0,  1],\n",
       "       [-1,  0,  1]])"
      ]
     },
     "execution_count": 56,
     "metadata": {},
     "output_type": "execute_result"
    }
   ],
   "source": [
    "x = np.array([-1, 0, 1])\n",
    "y = np.array([-2, 0, 2])\n",
    "X, Y = np.meshgrid(x, y)\n",
    "X"
   ]
  },
  {
   "cell_type": "code",
   "execution_count": 57,
   "id": "988c5c81",
   "metadata": {},
   "outputs": [
    {
     "data": {
      "text/plain": [
       "array([[-2, -2, -2],\n",
       "       [ 0,  0,  0],\n",
       "       [ 2,  2,  2]])"
      ]
     },
     "execution_count": 57,
     "metadata": {},
     "output_type": "execute_result"
    }
   ],
   "source": [
    "Y"
   ]
  },
  {
   "cell_type": "code",
   "execution_count": 58,
   "id": "c78701cd",
   "metadata": {},
   "outputs": [
    {
     "data": {
      "text/plain": [
       "array([1065353216, 1073741824, 1077936128], dtype=int32)"
      ]
     },
     "execution_count": 58,
     "metadata": {},
     "output_type": "execute_result"
    }
   ],
   "source": [
    "np.empty(3, dtype=np.int32)"
   ]
  },
  {
   "cell_type": "markdown",
   "id": "1e00f4a5",
   "metadata": {},
   "source": [
    "NumPy provides a family of functions for creating new arrays that share properties, such as shape and data type with another array: \n",
    "\n",
    "    - np.ones_like, \n",
    "    - np.zeros_like, \n",
    "    - np.full_like, and \n",
    "    - np.empty_like."
   ]
  },
  {
   "cell_type": "code",
   "execution_count": 59,
   "id": "b6f82f06",
   "metadata": {},
   "outputs": [
    {
     "data": {
      "text/plain": [
       "array([[0, 0],\n",
       "       [0, 0]], dtype=uint8)"
      ]
     },
     "execution_count": 59,
     "metadata": {},
     "output_type": "execute_result"
    }
   ],
   "source": [
    "def f(x):\n",
    "    y = np.ones_like(x)\n",
    "    return y\n",
    "\n",
    "x = np.zeros((2, 2), dtype=np.uint8)\n",
    "y = f(x)\n",
    "x"
   ]
  },
  {
   "cell_type": "code",
   "execution_count": 60,
   "id": "06de024d",
   "metadata": {},
   "outputs": [
    {
     "data": {
      "text/plain": [
       "array([[1, 1],\n",
       "       [1, 1]], dtype=uint8)"
      ]
     },
     "execution_count": 60,
     "metadata": {},
     "output_type": "execute_result"
    }
   ],
   "source": [
    "y"
   ]
  },
  {
   "cell_type": "markdown",
   "id": "a71065f5",
   "metadata": {},
   "source": [
    "Matrices, or two-dimensional arrays, are an important case for numerical computing.\n",
    "NumPy provides functions for generating commonly used matrices. In particular, the\n",
    "function **np.identity** generates a square matrix with ones on the diagonal and zeros\n",
    "elsewhere"
   ]
  },
  {
   "cell_type": "code",
   "execution_count": 61,
   "id": "0582e7c4",
   "metadata": {},
   "outputs": [
    {
     "data": {
      "text/plain": [
       "array([[1., 0., 0., 0.],\n",
       "       [0., 1., 0., 0.],\n",
       "       [0., 0., 1., 0.],\n",
       "       [0., 0., 0., 1.]])"
      ]
     },
     "execution_count": 61,
     "metadata": {},
     "output_type": "execute_result"
    }
   ],
   "source": [
    "np.identity(4)"
   ]
  },
  {
   "cell_type": "markdown",
   "id": "cf49f3ed",
   "metadata": {},
   "source": [
    "**numpy.eye** generates matrices with ones on a diagonal (optionally offset)."
   ]
  },
  {
   "cell_type": "code",
   "execution_count": 62,
   "id": "c4a3939f",
   "metadata": {},
   "outputs": [
    {
     "data": {
      "text/plain": [
       "array([[1., 0., 0.],\n",
       "       [0., 1., 0.],\n",
       "       [0., 0., 1.]])"
      ]
     },
     "execution_count": 62,
     "metadata": {},
     "output_type": "execute_result"
    }
   ],
   "source": [
    "np.eye(3)"
   ]
  },
  {
   "cell_type": "code",
   "execution_count": 63,
   "id": "124e864b",
   "metadata": {},
   "outputs": [
    {
     "data": {
      "text/plain": [
       "array([[0., 1., 0.],\n",
       "       [0., 0., 1.],\n",
       "       [0., 0., 0.]])"
      ]
     },
     "execution_count": 63,
     "metadata": {},
     "output_type": "execute_result"
    }
   ],
   "source": [
    "np.eye(3, k=1)"
   ]
  },
  {
   "cell_type": "code",
   "execution_count": 64,
   "id": "d05b6898",
   "metadata": {},
   "outputs": [
    {
     "data": {
      "text/plain": [
       "array([[0., 0., 1.],\n",
       "       [0., 0., 0.],\n",
       "       [0., 0., 0.]])"
      ]
     },
     "execution_count": 64,
     "metadata": {},
     "output_type": "execute_result"
    }
   ],
   "source": [
    "np.eye(3, k=2)"
   ]
  },
  {
   "cell_type": "code",
   "execution_count": 65,
   "id": "1374b5d1",
   "metadata": {},
   "outputs": [
    {
     "data": {
      "text/plain": [
       "array([[0., 0., 0.],\n",
       "       [1., 0., 0.],\n",
       "       [0., 1., 0.]])"
      ]
     },
     "execution_count": 65,
     "metadata": {},
     "output_type": "execute_result"
    }
   ],
   "source": [
    "np.eye(3, k=-1)"
   ]
  },
  {
   "cell_type": "markdown",
   "id": "560be1ed",
   "metadata": {},
   "source": [
    "To construct a matrix with an arbitrary one-dimensional array on the diagonal, we can use the **np.diag** function (which also takes the optional keyword argument k to specify an offset from the diagonal)"
   ]
  },
  {
   "cell_type": "code",
   "execution_count": 66,
   "id": "6d5b4ec1",
   "metadata": {},
   "outputs": [
    {
     "data": {
      "text/plain": [
       "array([[ 0,  0,  0,  0],\n",
       "       [ 0,  5,  0,  0],\n",
       "       [ 0,  0, 10,  0],\n",
       "       [ 0,  0,  0, 15]])"
      ]
     },
     "execution_count": 66,
     "metadata": {},
     "output_type": "execute_result"
    }
   ],
   "source": [
    "np.diag(np.arange(0, 20, 5))"
   ]
  },
  {
   "cell_type": "code",
   "execution_count": 68,
   "id": "a0534d65",
   "metadata": {},
   "outputs": [
    {
     "data": {
      "text/plain": [
       "array([[0, 1, 2],\n",
       "       [3, 4, 5],\n",
       "       [6, 7, 8]])"
      ]
     },
     "execution_count": 68,
     "metadata": {},
     "output_type": "execute_result"
    }
   ],
   "source": [
    "x = np.arange(9).reshape((3, 3))\n",
    "x"
   ]
  },
  {
   "cell_type": "code",
   "execution_count": 69,
   "id": "40f0bc89",
   "metadata": {},
   "outputs": [
    {
     "data": {
      "text/plain": [
       "array([0, 4, 8])"
      ]
     },
     "execution_count": 69,
     "metadata": {},
     "output_type": "execute_result"
    }
   ],
   "source": [
    "np.diag(x)"
   ]
  },
  {
   "cell_type": "code",
   "execution_count": 70,
   "id": "e9b6769c",
   "metadata": {},
   "outputs": [
    {
     "data": {
      "text/plain": [
       "array([1, 5])"
      ]
     },
     "execution_count": 70,
     "metadata": {},
     "output_type": "execute_result"
    }
   ],
   "source": [
    "np.diag(x, k=1)"
   ]
  },
  {
   "cell_type": "code",
   "execution_count": 71,
   "id": "bf251791",
   "metadata": {},
   "outputs": [
    {
     "data": {
      "text/plain": [
       "array([3, 7])"
      ]
     },
     "execution_count": 71,
     "metadata": {},
     "output_type": "execute_result"
    }
   ],
   "source": [
    "np.diag(x, k=-1)"
   ]
  },
  {
   "cell_type": "code",
   "execution_count": 72,
   "id": "c90f1625",
   "metadata": {},
   "outputs": [
    {
     "data": {
      "text/plain": [
       "array([[1., 0., 0.],\n",
       "       [0., 1., 0.],\n",
       "       [0., 0., 1.]])"
      ]
     },
     "execution_count": 72,
     "metadata": {},
     "output_type": "execute_result"
    }
   ],
   "source": [
    "i = np.identity(3)\n",
    "i"
   ]
  },
  {
   "cell_type": "code",
   "execution_count": 73,
   "id": "68fb2330",
   "metadata": {},
   "outputs": [
    {
     "data": {
      "text/plain": [
       "array([[3., 0., 0.],\n",
       "       [0., 3., 0.],\n",
       "       [0., 0., 3.]])"
      ]
     },
     "execution_count": 73,
     "metadata": {},
     "output_type": "execute_result"
    }
   ],
   "source": [
    "i = i * 3.0\n",
    "i"
   ]
  },
  {
   "cell_type": "code",
   "execution_count": 75,
   "id": "66eae468",
   "metadata": {},
   "outputs": [
    {
     "data": {
      "text/plain": [
       "(10, array([1, 2, 3, 4, 5, 6, 7, 8, 9]), array([1, 3, 5, 7, 9]))"
      ]
     },
     "execution_count": 75,
     "metadata": {},
     "output_type": "execute_result"
    }
   ],
   "source": [
    "a = np.arange(0, 11)\n",
    "a[-1], a[1:-1], a[1:-1:2]"
   ]
  },
  {
   "cell_type": "code",
   "execution_count": 76,
   "id": "59d281c1",
   "metadata": {},
   "outputs": [
    {
     "data": {
      "text/plain": [
       "array([[ 0,  1,  2,  3,  4,  5],\n",
       "       [10, 11, 12, 13, 14, 15],\n",
       "       [20, 21, 22, 23, 24, 25],\n",
       "       [30, 31, 32, 33, 34, 35],\n",
       "       [40, 41, 42, 43, 44, 45],\n",
       "       [50, 51, 52, 53, 54, 55]], dtype=int8)"
      ]
     },
     "execution_count": 76,
     "metadata": {},
     "output_type": "execute_result"
    }
   ],
   "source": [
    "f = lambda m, n: n + 10 * m\n",
    "A = np.fromfunction(f, (6, 6), dtype=np.int8)\n",
    "A"
   ]
  },
  {
   "cell_type": "code",
   "execution_count": 77,
   "id": "ee9af20f",
   "metadata": {},
   "outputs": [
    {
     "data": {
      "text/plain": [
       "array([ 1, 11, 21, 31, 41, 51], dtype=int8)"
      ]
     },
     "execution_count": 77,
     "metadata": {},
     "output_type": "execute_result"
    }
   ],
   "source": [
    "A[:, 1]  # get second column"
   ]
  },
  {
   "cell_type": "code",
   "execution_count": 78,
   "id": "0e25a111",
   "metadata": {},
   "outputs": [
    {
     "data": {
      "text/plain": [
       "array([10, 11, 12, 13, 14, 15], dtype=int8)"
      ]
     },
     "execution_count": 78,
     "metadata": {},
     "output_type": "execute_result"
    }
   ],
   "source": [
    "A[1, :] # get second row"
   ]
  },
  {
   "cell_type": "code",
   "execution_count": 79,
   "id": "09f47d7e",
   "metadata": {},
   "outputs": [
    {
     "data": {
      "text/plain": [
       "array([[ 0,  1,  2],\n",
       "       [10, 11, 12],\n",
       "       [20, 21, 22]], dtype=int8)"
      ]
     },
     "execution_count": 79,
     "metadata": {},
     "output_type": "execute_result"
    }
   ],
   "source": [
    "A[:3, :3]  # upper half diagonal block"
   ]
  },
  {
   "cell_type": "code",
   "execution_count": 80,
   "id": "ee1305a8",
   "metadata": {},
   "outputs": [
    {
     "data": {
      "text/plain": [
       "array([[30, 31, 32],\n",
       "       [40, 41, 42],\n",
       "       [50, 51, 52]], dtype=int8)"
      ]
     },
     "execution_count": 80,
     "metadata": {},
     "output_type": "execute_result"
    }
   ],
   "source": [
    "A[3:, :3]"
   ]
  },
  {
   "cell_type": "code",
   "execution_count": 81,
   "id": "e7469ef1",
   "metadata": {},
   "outputs": [
    {
     "data": {
      "text/plain": [
       "array([[ 0,  2,  4],\n",
       "       [20, 22, 24],\n",
       "       [40, 42, 44]], dtype=int8)"
      ]
     },
     "execution_count": 81,
     "metadata": {},
     "output_type": "execute_result"
    }
   ],
   "source": [
    "A[::2, ::2]"
   ]
  },
  {
   "cell_type": "code",
   "execution_count": 82,
   "id": "b057631a",
   "metadata": {},
   "outputs": [
    {
     "data": {
      "text/plain": [
       "array([[11, 14],\n",
       "       [31, 34],\n",
       "       [51, 54]], dtype=int8)"
      ]
     },
     "execution_count": 82,
     "metadata": {},
     "output_type": "execute_result"
    }
   ],
   "source": [
    "A[1::2, 1::3]"
   ]
  },
  {
   "cell_type": "markdown",
   "id": "1f83b8dd",
   "metadata": {},
   "source": [
    "Subarrays that are extracted from arrays using slice operations are alternative _views_ of the same underlying array data."
   ]
  },
  {
   "cell_type": "code",
   "execution_count": 83,
   "id": "6bbaa356",
   "metadata": {},
   "outputs": [
    {
     "data": {
      "text/plain": [
       "array([[11, 12, 13, 14],\n",
       "       [21, 22, 23, 24],\n",
       "       [31, 32, 33, 34],\n",
       "       [41, 42, 43, 44]], dtype=int8)"
      ]
     },
     "execution_count": 83,
     "metadata": {},
     "output_type": "execute_result"
    }
   ],
   "source": [
    "B = A[1:5, 1:5]\n",
    "B"
   ]
  },
  {
   "cell_type": "code",
   "execution_count": 84,
   "id": "dd7aeefb",
   "metadata": {},
   "outputs": [
    {
     "data": {
      "text/plain": [
       "array([[ 0,  1,  2,  3,  4,  5],\n",
       "       [10,  0,  0,  0,  0, 15],\n",
       "       [20,  0,  0,  0,  0, 25],\n",
       "       [30,  0,  0,  0,  0, 35],\n",
       "       [40,  0,  0,  0,  0, 45],\n",
       "       [50, 51, 52, 53, 54, 55]], dtype=int8)"
      ]
     },
     "execution_count": 84,
     "metadata": {},
     "output_type": "execute_result"
    }
   ],
   "source": [
    "B[:, :] = 0\n",
    "A"
   ]
  },
  {
   "cell_type": "code",
   "execution_count": 86,
   "id": "935d602a",
   "metadata": {},
   "outputs": [
    {
     "data": {
      "text/plain": [
       "array([[0, 0],\n",
       "       [0, 0]], dtype=int8)"
      ]
     },
     "execution_count": 86,
     "metadata": {},
     "output_type": "execute_result"
    }
   ],
   "source": [
    "C = B[1:3, 1:3].copy()\n",
    "C"
   ]
  },
  {
   "cell_type": "code",
   "execution_count": 87,
   "id": "a82a1a4f",
   "metadata": {},
   "outputs": [
    {
     "data": {
      "text/plain": [
       "array([[1, 1],\n",
       "       [1, 1]], dtype=int8)"
      ]
     },
     "execution_count": 87,
     "metadata": {},
     "output_type": "execute_result"
    }
   ],
   "source": [
    "C[:, :] = 1\n",
    "C"
   ]
  },
  {
   "cell_type": "code",
   "execution_count": 88,
   "id": "de5534ee",
   "metadata": {},
   "outputs": [
    {
     "data": {
      "text/plain": [
       "array([[0, 0, 0, 0],\n",
       "       [0, 0, 0, 0],\n",
       "       [0, 0, 0, 0],\n",
       "       [0, 0, 0, 0]], dtype=int8)"
      ]
     },
     "execution_count": 88,
     "metadata": {},
     "output_type": "execute_result"
    }
   ],
   "source": [
    "B"
   ]
  },
  {
   "cell_type": "markdown",
   "id": "bbf63a37",
   "metadata": {},
   "source": [
    "NumPy provides another convenient method to index arrays, called _fancy indexing_. With fancy indexing, an array can be indexed with another NumPy array, a Python list, or a sequence of integers, whose\n",
    "values select elements in the indexed array."
   ]
  },
  {
   "cell_type": "code",
   "execution_count": 90,
   "id": "a0946c66",
   "metadata": {},
   "outputs": [
    {
     "data": {
      "text/plain": [
       "array([0. , 0.1, 0.2, 0.3, 0.4, 0.5, 0.6, 0.7, 0.8, 0.9, 1. ])"
      ]
     },
     "execution_count": 90,
     "metadata": {},
     "output_type": "execute_result"
    }
   ],
   "source": [
    "A = np.linspace(0, 1, 11)\n",
    "A"
   ]
  },
  {
   "cell_type": "code",
   "execution_count": 92,
   "id": "f42445ff",
   "metadata": {},
   "outputs": [
    {
     "data": {
      "text/plain": [
       "array([0. , 0.2, 0.4, 0.8])"
      ]
     },
     "execution_count": 92,
     "metadata": {},
     "output_type": "execute_result"
    }
   ],
   "source": [
    "A[np.array([0, 2, 4, 8])]"
   ]
  },
  {
   "cell_type": "code",
   "execution_count": 93,
   "id": "e210d0e3",
   "metadata": {},
   "outputs": [
    {
     "data": {
      "text/plain": [
       "array([0. , 0.2, 0.4, 0.8])"
      ]
     },
     "execution_count": 93,
     "metadata": {},
     "output_type": "execute_result"
    }
   ],
   "source": [
    "A[[0, 2, 4, 8]]"
   ]
  },
  {
   "cell_type": "code",
   "execution_count": 20,
   "id": "e444d4a1",
   "metadata": {},
   "outputs": [
    {
     "data": {
      "text/plain": [
       "True"
      ]
     },
     "execution_count": 20,
     "metadata": {},
     "output_type": "execute_result"
    },
    {
     "data": {
      "image/png": "[encoded data removed]",
      "text/plain": [
       "<Figure size 432x288 with 1 Axes>"
      ]
     },
     "metadata": {
      "needs_background": "light"
     },
     "output_type": "display_data"
    }
   ],
   "source": [
    "import cv2 as cv\n",
    "import numpy as np\n",
    "import matplotlib.pyplot as plt\n",
    "%matplotlib inline\n",
    "\n",
    "height = 124\n",
    "width = 220\n",
    "img = np.zeros((height,width,3), np.uint8)\n",
    "img[:,:] = (255,255,255)\n",
    "\n",
    "font = cv.FONT_HERSHEY_SIMPLEX\n",
    "cv.putText(img,'Waiting For Image...',\n",
    "           (30, height//2), \n",
    "           font,       # font face\n",
    "           0.5,          # font scale\n",
    "           (0, 0, 0),  # color\n",
    "           1,          # thickness\n",
    "           cv.LINE_AA) \n",
    "\n",
    "plt.imshow(img)\n",
    "cv.imwrite('waiting.png', img)"
   ]
  },
  {
   "cell_type": "code",
   "execution_count": 22,
   "id": "dc1f445d",
   "metadata": {},
   "outputs": [
    {
     "data": {
      "text/plain": [
       "array([False, False, False, False, False, False,  True,  True,  True,\n",
       "        True,  True])"
      ]
     },
     "execution_count": 22,
     "metadata": {},
     "output_type": "execute_result"
    }
   ],
   "source": [
    "A = np.linspace(0, 1, 11)\n",
    "A > 0.5"
   ]
  },
  {
   "cell_type": "code",
   "execution_count": 23,
   "id": "bf74d678",
   "metadata": {},
   "outputs": [
    {
     "data": {
      "text/plain": [
       "array([0.6, 0.7, 0.8, 0.9, 1. ])"
      ]
     },
     "execution_count": 23,
     "metadata": {},
     "output_type": "execute_result"
    }
   ],
   "source": [
    "A[A > 0.5]"
   ]
  },
  {
   "cell_type": "markdown",
   "id": "74376a84",
   "metadata": {},
   "source": [
    "Unlike arrays created by using slices, the arrays returned using _fancy indexing_ and Boolean-valued indexing are **not views** but rather new independent arrays."
   ]
  },
  {
   "cell_type": "code",
   "execution_count": 32,
   "id": "44b0769a",
   "metadata": {},
   "outputs": [
    {
     "data": {
      "text/plain": [
       "array([0.        , 0.11111111, 0.22222222, 0.33333334, 0.44444445,\n",
       "       0.5555556 , 0.6666667 , 0.7777778 , 0.8888889 , 1.        ],\n",
       "      dtype=float32)"
      ]
     },
     "execution_count": 32,
     "metadata": {},
     "output_type": "execute_result"
    }
   ],
   "source": [
    "A = np.linspace(0, 1, 10, dtype=np.float32)\n",
    "A"
   ]
  },
  {
   "cell_type": "code",
   "execution_count": 33,
   "id": "ac0534b9",
   "metadata": {},
   "outputs": [
    {
     "data": {
      "text/plain": [
       "array([0.11111111, 0.44444445, 0.5555556 ], dtype=float32)"
      ]
     },
     "execution_count": 33,
     "metadata": {},
     "output_type": "execute_result"
    }
   ],
   "source": [
    "indices = [1, 4, 5]\n",
    "B = A[indices]\n",
    "B"
   ]
  },
  {
   "cell_type": "code",
   "execution_count": 34,
   "id": "89786962",
   "metadata": {},
   "outputs": [
    {
     "data": {
      "text/plain": [
       "array([6, 7, 8, 9])"
      ]
     },
     "execution_count": 34,
     "metadata": {},
     "output_type": "execute_result"
    }
   ],
   "source": [
    "A = np.arange(10)\n",
    "B = A[A>5]\n",
    "B"
   ]
  },
  {
   "cell_type": "code",
   "execution_count": 35,
   "id": "b7bb6e1b",
   "metadata": {},
   "outputs": [
    {
     "data": {
      "text/plain": [
       "array([0, 1, 2, 3, 4, 5, 6, 7, 8, 9])"
      ]
     },
     "execution_count": 35,
     "metadata": {},
     "output_type": "execute_result"
    }
   ],
   "source": [
    "B[0] = -1  # doesn't effect A\n",
    "A"
   ]
  },
  {
   "cell_type": "code",
   "execution_count": 36,
   "id": "871e63b2",
   "metadata": {},
   "outputs": [
    {
     "data": {
      "text/plain": [
       "array([ 0,  1,  2,  3,  4,  5, -1, -1, -1, -1])"
      ]
     },
     "execution_count": 36,
     "metadata": {},
     "output_type": "execute_result"
    }
   ],
   "source": [
    "A[A > 5] = -1\n",
    "A"
   ]
  },
  {
   "cell_type": "markdown",
   "id": "0fb38093",
   "metadata": {},
   "source": [
    "Numpy provides a rich set of functions for rearrange arrays and alter the way data in an array form is interpreted.\n",
    "\n",
    "| Function/Method | Description |\n",
    "|-----------------|-------------|\n",
    "| np.reshape, np.ndarray.reshape | Reshape an N-dimensional array. The total number of elements must remain the same. |\n",
    "| np.ndarray.flatten | Creates a copy of an N-dimensional array, and reinterpret it as a one-­dimensional array (i.e., all dimensions are collapsed into one). |\n",
    "| np.ravel, np.ndarray.ravel | Create a view (if possible, otherwise a copy) of an N-dimensional array in which it is interpreted as a one-dimensional array.\n",
    "| np.squeeze | Removes axes with length 1. |\n",
    "| np.expand_dims, np.newaxis | Add a new axis (dimension) of length 1 to an array, where np. newaxis is used with array indexing.\n",
    "| np.transpose, np.ndarray.transpose, np.ndarray.T | Transpose the array. The transpose operation corresponds to reversing (or more generally, permuting) the axes of the array. |\n",
    "| np.hstack | Stacks a list of arrays horizontally (along axis 1): for example, given a list of column vectors, appends the columns to form a matrix. |\n",
    "| np.vstack | Stacks a list of arrays vertically (along axis 0): for example, given a list of row vectors, appends the rows to form a matrix. |\n",
    "| np.dstack | Stacks arrays depth-wise (along axis 2). |\n",
    "| np.concatenate | Creates a new array by appending arrays after each other, along a given axis. |\n",
    "| np.resize | Resizes an array. Creates a new copy of the original array, with the requested size. If necessary, the original array will be repeated to fill up the new array. |\n",
    "| np.append | Appends an element to an array. Creates a new copy of the array. |\n",
    "| np.insert | Inserts a new element at a given position. Creates a new copy of the array. |\n",
    "| np.delete | Deletes an element at a given position. Creates a new copy of the array. |"
   ]
  },
  {
   "cell_type": "code",
   "execution_count": 47,
   "id": "6fc552a7",
   "metadata": {},
   "outputs": [
    {
     "data": {
      "text/plain": [
       "<matplotlib.image.AxesImage at 0x7fc6586563a0>"
      ]
     },
     "execution_count": 47,
     "metadata": {},
     "output_type": "execute_result"
    },
    {
     "data": {
      "image/png": "[encoded data removed]",
      "text/plain": [
       "<Figure size 432x288 with 1 Axes>"
      ]
     },
     "metadata": {
      "needs_background": "light"
     },
     "output_type": "display_data"
    }
   ],
   "source": [
    "img2 = np.zeros((20, 20, 4), dtype=np.uint8)\n",
    "for r in range(20):\n",
    "    for c in range(20):\n",
    "        if c == r:\n",
    "            img2[r,c,:] = [127]\n",
    "plt.imshow(img2)"
   ]
  },
  {
   "cell_type": "code",
   "execution_count": 48,
   "id": "a8ef5c22",
   "metadata": {},
   "outputs": [
    {
     "data": {
      "text/plain": [
       "<matplotlib.image.AxesImage at 0x7fc65881bfa0>"
      ]
     },
     "execution_count": 48,
     "metadata": {},
     "output_type": "execute_result"
    },
    {
     "data": {
      "image/png": "[encoded data removed]",
      "text/plain": [
       "<Figure size 432x288 with 1 Axes>"
      ]
     },
     "metadata": {
      "needs_background": "light"
     },
     "output_type": "display_data"
    }
   ],
   "source": [
    "img3 = np.zeros((20, 20, 3), dtype=np.uint8)\n",
    "for r in range(20):\n",
    "    for c in range(20):\n",
    "        if c == r:\n",
    "            img3[r,c] = [255, 255, 0]\n",
    "plt.imshow(img3)"
   ]
  },
  {
   "cell_type": "code",
   "execution_count": 59,
   "id": "8bb6bc0e",
   "metadata": {},
   "outputs": [
    {
     "name": "stdout",
     "output_type": "stream",
     "text": [
      "[[1 2]\n",
      " [3 4]]\n",
      "[[1 2 3 4]]\n",
      "[[1]\n",
      " [2]\n",
      " [3]\n",
      " [4]]\n"
     ]
    }
   ],
   "source": [
    "data = np.array([[1,2], [3, 4]])\n",
    "print(data)\n",
    "data = np.reshape(data, (1, 4))\n",
    "print(data)\n",
    "# data = np.reshape(data, (4, 1))\n",
    "data = data.reshape((4, 1))\n",
    "print(data)"
   ]
  },
  {
   "cell_type": "code",
   "execution_count": 60,
   "id": "997743e0",
   "metadata": {},
   "outputs": [
    {
     "data": {
      "text/plain": [
       "array([[1, 2],\n",
       "       [3, 4]])"
      ]
     },
     "execution_count": 60,
     "metadata": {},
     "output_type": "execute_result"
    }
   ],
   "source": [
    "data = np.array([[1, 2], [3, 4]])\n",
    "data"
   ]
  },
  {
   "cell_type": "code",
   "execution_count": 61,
   "id": "f58abd73",
   "metadata": {},
   "outputs": [
    {
     "data": {
      "text/plain": [
       "array([1, 2, 3, 4])"
      ]
     },
     "execution_count": 61,
     "metadata": {},
     "output_type": "execute_result"
    }
   ],
   "source": [
    "data.flatten()"
   ]
  },
  {
   "cell_type": "code",
   "execution_count": 62,
   "id": "6567147f",
   "metadata": {},
   "outputs": [
    {
     "data": {
      "text/plain": [
       "(4,)"
      ]
     },
     "execution_count": 62,
     "metadata": {},
     "output_type": "execute_result"
    }
   ],
   "source": [
    "data.flatten().shape"
   ]
  },
  {
   "cell_type": "code",
   "execution_count": 63,
   "id": "fe9507b7",
   "metadata": {},
   "outputs": [
    {
     "data": {
      "text/plain": [
       "array([0, 1, 2, 3, 4])"
      ]
     },
     "execution_count": 63,
     "metadata": {},
     "output_type": "execute_result"
    }
   ],
   "source": [
    "data = np.arange(0, 5)\n",
    "data"
   ]
  },
  {
   "cell_type": "code",
   "execution_count": 64,
   "id": "1dc47078",
   "metadata": {},
   "outputs": [
    {
     "data": {
      "text/plain": [
       "array([[0],\n",
       "       [1],\n",
       "       [2],\n",
       "       [3],\n",
       "       [4]])"
      ]
     },
     "execution_count": 64,
     "metadata": {},
     "output_type": "execute_result"
    }
   ],
   "source": [
    "column = data[:, np.newaxis]\n",
    "column"
   ]
  },
  {
   "cell_type": "code",
   "execution_count": 66,
   "id": "456d97f7",
   "metadata": {},
   "outputs": [
    {
     "data": {
      "text/plain": [
       "array([[[0],\n",
       "        [1],\n",
       "        [2],\n",
       "        [3],\n",
       "        [4]]])"
      ]
     },
     "execution_count": 66,
     "metadata": {},
     "output_type": "execute_result"
    }
   ],
   "source": [
    "row = column[np.newaxis, :]\n",
    "row"
   ]
  },
  {
   "cell_type": "code",
   "execution_count": 67,
   "id": "6390adf7",
   "metadata": {},
   "outputs": [
    {
     "data": {
      "text/plain": [
       "array([0, 1, 2, 3, 4])"
      ]
     },
     "execution_count": 67,
     "metadata": {},
     "output_type": "execute_result"
    }
   ],
   "source": [
    "data = np.arange(5)\n",
    "data"
   ]
  },
  {
   "cell_type": "code",
   "execution_count": 68,
   "id": "373f5c67",
   "metadata": {},
   "outputs": [
    {
     "data": {
      "text/plain": [
       "array([[0, 1, 2, 3, 4],\n",
       "       [0, 1, 2, 3, 4],\n",
       "       [0, 1, 2, 3, 4]])"
      ]
     },
     "execution_count": 68,
     "metadata": {},
     "output_type": "execute_result"
    }
   ],
   "source": [
    "np.vstack((data, data, data))"
   ]
  },
  {
   "cell_type": "code",
   "execution_count": 72,
   "id": "9384e6de",
   "metadata": {},
   "outputs": [
    {
     "data": {
      "text/plain": [
       "array([[0, 0, 0],\n",
       "       [1, 1, 1],\n",
       "       [2, 2, 2],\n",
       "       [3, 3, 3],\n",
       "       [4, 4, 4]])"
      ]
     },
     "execution_count": 72,
     "metadata": {},
     "output_type": "execute_result"
    }
   ],
   "source": [
    "data = np.arange(5)\n",
    "data = data[:, np.newaxis]\n",
    "np.hstack((data, data, data))"
   ]
  },
  {
   "cell_type": "code",
   "execution_count": null,
   "id": "236f635b",
   "metadata": {},
   "outputs": [],
   "source": []
  }
 ],
 "metadata": {
  "kernelspec": {
   "display_name": "Python 3",
   "language": "python",
   "name": "python3"
  },
  "language_info": {
   "codemirror_mode": {
    "name": "ipython",
    "version": 3
   },
   "file_extension": ".py",
   "mimetype": "text/x-python",
   "name": "python",
   "nbconvert_exporter": "python",
   "pygments_lexer": "ipython3",
   "version": "3.8.8"
  }
 },
 "nbformat": 4,
 "nbformat_minor": 5
}
