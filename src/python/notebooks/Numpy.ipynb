{
 "cells": [
  {
   "cell_type": "markdown",
   "id": "67eecede",
   "metadata": {},
   "source": [
    "# Numpy"
   ]
  },
  {
   "cell_type": "markdown",
   "id": "6152d8bf",
   "metadata": {},
   "source": [
    "optimized **LAPACK** and **BLAS** libraries for low-level vector, matrix, and linear algebra routines; or other specialized libraries"
   ]
  },
  {
   "cell_type": "markdown",
   "id": "032043ad",
   "metadata": {},
   "source": [
    "The **SciPy** organization and its web site www.scipy.org provide a\n",
    "centralized resource for information about the core packages in the scientific Python ecosystem, and lists of additional specialized packages, as well as documentation and tutorials.\n",
    "\n",
    "Another great resource is the **Numeric and Scientific** page on the official Python Wiki: http://wiki.python.org/moin/NumericAndScientific."
   ]
  },
  {
   "cell_type": "markdown",
   "id": "792b8742",
   "metadata": {},
   "source": [
    "REPL: Read–Evaluate–Print–Loop\n",
    "\n",
    "IPython is an enhanced command-line REPL environment for\n",
    "Python, with additional features for interactive and exploratory computing."
   ]
  },
  {
   "cell_type": "markdown",
   "id": "b507a0ca",
   "metadata": {},
   "source": [
    "The core of NumPy is implemented in C\n",
    "and provides efficient functions for manipulating and processing arrays."
   ]
  },
  {
   "cell_type": "code",
   "execution_count": 3,
   "id": "8711cf4a",
   "metadata": {},
   "outputs": [
    {
     "name": "stdout",
     "output_type": "stream",
     "text": [
      "1.20.1\n"
     ]
    }
   ],
   "source": [
    "import numpy as np\n",
    "print(np.__version__)\n",
    "# help(np.ndarray)"
   ]
  },
  {
   "cell_type": "markdown",
   "id": "64eaaba6",
   "metadata": {},
   "source": [
    "The core of the NumPy library is the data structures for representing multidimensional arrays of homogeneous data. The main data structure for multidimensional arrays in NumPy is the **ndarray**. **ndarray** also contains important metadata about the array, such as its _shape_, _size_, _data type_, and other attributes."
   ]
  },
  {
   "cell_type": "code",
   "execution_count": 13,
   "id": "e8c3eab5",
   "metadata": {},
   "outputs": [
    {
     "name": "stdout",
     "output_type": "stream",
     "text": [
      "<class 'numpy.ndarray'>\n",
      "[[1 2]\n",
      " [3 4]\n",
      " [5 6]]\n",
      "2\n",
      "(3, 2)\n",
      "6\n",
      "int64\n",
      "48\n"
     ]
    }
   ],
   "source": [
    "data = np.array([ [1, 2], [3, 4], [5, 6] ])\n",
    "print(type(data))\n",
    "print(data)\n",
    "print(data.ndim)\n",
    "print(data.shape)\n",
    "print(data.size)\n",
    "print(data.dtype)\n",
    "print(data.nbytes)"
   ]
  },
  {
   "cell_type": "markdown",
   "id": "e7118895",
   "metadata": {},
   "source": [
    "### Basic Numpy Data Types\n",
    "\n",
    "| dtype | Variants | Description |\n",
    "|-------|----------|--------------|\n",
    "|int | int8, int16, int32, int64 | Integers |\n",
    "|uint | uint8, uint16, uint32, uint64 | Unsigned (nonnegative) integers |\n",
    "|bool | Bool | Boolean (True or False) |\n",
    "|float | float16, float32, float64, float128 | Floating-point numbers |\n",
    "|complex | complex64, complex128, complex256 | Complex-valued floating-point numbers |"
   ]
  },
  {
   "cell_type": "code",
   "execution_count": 15,
   "id": "9b0bbeb6",
   "metadata": {},
   "outputs": [
    {
     "data": {
      "text/plain": [
       "array([1, 2, 3, 4], dtype=int32)"
      ]
     },
     "execution_count": 15,
     "metadata": {},
     "output_type": "execute_result"
    }
   ],
   "source": [
    "np.array([1, 2, 3, 4], dtype=np.int32)"
   ]
  },
  {
   "cell_type": "code",
   "execution_count": 16,
   "id": "4acf65b5",
   "metadata": {},
   "outputs": [
    {
     "data": {
      "text/plain": [
       "array([1., 2., 3.], dtype=float32)"
      ]
     },
     "execution_count": 16,
     "metadata": {},
     "output_type": "execute_result"
    }
   ],
   "source": [
    "np.array([1, 2, 3], dtype=np.float32)"
   ]
  },
  {
   "cell_type": "code",
   "execution_count": 17,
   "id": "cf3febee",
   "metadata": {},
   "outputs": [
    {
     "data": {
      "text/plain": [
       "array([1.+0.j, 2.+0.j, 3.+0.j], dtype=complex64)"
      ]
     },
     "execution_count": 17,
     "metadata": {},
     "output_type": "execute_result"
    }
   ],
   "source": [
    "np.array([1, 2, 3], dtype=np.complex64)"
   ]
  },
  {
   "cell_type": "code",
   "execution_count": 19,
   "id": "b2cc8537",
   "metadata": {},
   "outputs": [
    {
     "name": "stdout",
     "output_type": "stream",
     "text": [
      "[1. 2. 3.]\n"
     ]
    }
   ],
   "source": [
    "data = np.array([1, 2, 3], dtype=np.float32)\n",
    "print(data)"
   ]
  },
  {
   "cell_type": "code",
   "execution_count": 20,
   "id": "d84fb05f",
   "metadata": {},
   "outputs": [
    {
     "data": {
      "text/plain": [
       "array([1, 2, 3], dtype=int32)"
      ]
     },
     "execution_count": 20,
     "metadata": {},
     "output_type": "execute_result"
    }
   ],
   "source": [
    "data.astype(np.int32)"
   ]
  },
  {
   "cell_type": "markdown",
   "id": "e597a324",
   "metadata": {},
   "source": [
    "A **NumPy** array can be specified to be stored in _row-major_ format, using the keyword argument `order='C'`, and column-major format, using the keyword argument `order='F'`, when the array is created or reshaped. The default format is _row-major_."
   ]
  },
  {
   "cell_type": "markdown",
   "id": "037d11f3",
   "metadata": {},
   "source": [
    "The NumPy array attribute ndarray.strides defines exactly how\n",
    "this mapping is done. The strides attribute is a tuple of the same length as the number\n",
    "of axes (dimensions) of the array. Each value in strides is the factor by which the index\n",
    "for the corresponding axis is multiplied when calculating the memory offset (in bytes)\n",
    "for a given index expression."
   ]
  },
  {
   "cell_type": "code",
   "execution_count": 25,
   "id": "2bbf9aff",
   "metadata": {},
   "outputs": [
    {
     "name": "stdout",
     "output_type": "stream",
     "text": [
      "(2, 3)\n",
      "6\n",
      "(12, 4)\n"
     ]
    }
   ],
   "source": [
    "row_major=np.array([ [1, 2, 3], [4, 5, 6]], dtype=np.int32)\n",
    "print(row_major.shape)\n",
    "print(row_major.size)\n",
    "print(row_major.strides)"
   ]
  },
  {
   "cell_type": "code",
   "execution_count": 28,
   "id": "2a191156",
   "metadata": {},
   "outputs": [
    {
     "name": "stdout",
     "output_type": "stream",
     "text": [
      "[[1 2 3]\n",
      " [4 5 6]]\n",
      "(4, 8)\n"
     ]
    }
   ],
   "source": [
    "col_major = np.array([ [1, 2, 3], [4, 5, 6]], dtype=np.int32, order='F')\n",
    "print(col_major)\n",
    "print(col_major.strides)"
   ]
  },
  {
   "cell_type": "code",
   "execution_count": null,
   "id": "83c196fa",
   "metadata": {},
   "outputs": [],
   "source": []
  }
 ],
 "metadata": {
  "kernelspec": {
   "display_name": "Python 3",
   "language": "python",
   "name": "python3"
  },
  "language_info": {
   "codemirror_mode": {
    "name": "ipython",
    "version": 3
   },
   "file_extension": ".py",
   "mimetype": "text/x-python",
   "name": "python",
   "nbconvert_exporter": "python",
   "pygments_lexer": "ipython3",
   "version": "3.8.8"
  }
 },
 "nbformat": 4,
 "nbformat_minor": 5
}
