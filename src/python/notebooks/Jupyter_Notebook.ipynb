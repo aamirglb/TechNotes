{
 "cells": [
  {
   "cell_type": "markdown",
   "id": "f84ca1dc",
   "metadata": {},
   "source": [
    "# Jupyter Notebook\n"
   ]
  },
  {
   "cell_type": "markdown",
   "id": "8fd5157d",
   "metadata": {},
   "source": [
    "The name **Jupyter** is an indirect acronyum of the three core languages it was designed for: **JUlia**, **PYThon**, and **R** and is inspired by the planet Jupiter."
   ]
  },
  {
   "cell_type": "markdown",
   "id": "da421372",
   "metadata": {},
   "source": [
    "To access keyboard shortcuts, use command palatte: `Ctrl + Shift + P`.\n"
   ]
  },
  {
   "cell_type": "markdown",
   "id": "4a51860d",
   "metadata": {},
   "source": [
    "Esc: Enter command mode, use arrow key for navigation\n",
    "\n",
    "ENTER: enter edit mode\n",
    "\n",
    "In Command Mode,\n",
    "\n",
    "A: insert new cell above\n",
    "\n",
    "B: insert new cell below\n",
    "\n",
    "M: change cell to Markdown\n",
    "\n",
    "Y: change cell to code\n",
    "\n",
    "D + D: delete current cell"
   ]
  },
  {
   "cell_type": "markdown",
   "id": "b8237964",
   "metadata": {},
   "source": [
    "Esc + F: Find and replace\n",
    "Esc + O: Toggle cell output\n"
   ]
  },
  {
   "cell_type": "code",
   "execution_count": null,
   "id": "bf0b9063",
   "metadata": {},
   "outputs": [],
   "source": []
  },
  {
   "cell_type": "code",
   "execution_count": null,
   "id": "d20398cd",
   "metadata": {},
   "outputs": [],
   "source": []
  }
 ],
 "metadata": {
  "kernelspec": {
   "display_name": "Python 3",
   "language": "python",
   "name": "python3"
  },
  "language_info": {
   "codemirror_mode": {
    "name": "ipython",
    "version": 3
   },
   "file_extension": ".py",
   "mimetype": "text/x-python",
   "name": "python",
   "nbconvert_exporter": "python",
   "pygments_lexer": "ipython3",
   "version": "3.8.8"
  }
 },
 "nbformat": 4,
 "nbformat_minor": 5
}
