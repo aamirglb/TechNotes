{
 "cells": [
  {
   "cell_type": "markdown",
   "id": "f84ca1dc",
   "metadata": {},
   "source": [
    "# Jupyter Notebook\n"
   ]
  },
  {
   "cell_type": "markdown",
   "id": "8fd5157d",
   "metadata": {},
   "source": [
    "The name **Jupyter** is an indirect acronyum of the three core languages it was designed for: **JUlia**, **PYThon**, and **R** and is inspired by the planet Jupiter."
   ]
  },
  {
   "cell_type": "markdown",
   "id": "da421372",
   "metadata": {},
   "source": [
    "To access keyboard shortcuts, use command palatte: `Ctrl + Shift + P`.\n"
   ]
  },
  {
   "cell_type": "markdown",
   "id": "4a51860d",
   "metadata": {},
   "source": [
    "Esc: Enter command mode, use arrow key for navigation\n",
    "\n",
    "ENTER: enter edit mode\n",
    "\n",
    "In Command Mode,\n",
    "\n",
    "A: insert new cell above\n",
    "\n",
    "B: insert new cell below\n",
    "\n",
    "M: change cell to Markdown\n",
    "\n",
    "Y: change cell to code\n",
    "\n",
    "D + D: delete current cell"
   ]
  },
  {
   "cell_type": "markdown",
   "id": "b8237964",
   "metadata": {},
   "source": [
    "Esc + F: Find and replace\n",
    "Esc + O: Toggle cell output\n"
   ]
  },
  {
   "cell_type": "markdown",
   "id": "476c2d9f",
   "metadata": {},
   "source": [
    "Both the input and the output of previous cells can later be accessed through the In and Out variables that are automatically created by IPython. The In and Out\n",
    "variables are a list and a dictionary, respectively, that can be indexed with a cell number."
   ]
  },
  {
   "cell_type": "markdown",
   "id": "004812c3",
   "metadata": {},
   "source": [
    "A single underscore _ is a shorthand notation for referring to the most\n",
    "recent output, and a double underscore __ refers to the output that preceded the most\n",
    "recent output."
   ]
  },
  {
   "cell_type": "markdown",
   "id": "a5320ffa",
   "metadata": {},
   "source": [
    "The output can be suppressed by ending the statement with a semicolon"
   ]
  },
  {
   "cell_type": "code",
   "execution_count": 2,
   "id": "2edc3081",
   "metadata": {},
   "outputs": [
    {
     "data": {
      "text/plain": [
       "3"
      ]
     },
     "execution_count": 2,
     "metadata": {},
     "output_type": "execute_result"
    }
   ],
   "source": [
    "1+2"
   ]
  },
  {
   "cell_type": "code",
   "execution_count": 3,
   "id": "26a28889",
   "metadata": {},
   "outputs": [],
   "source": [
    "1+2;"
   ]
  },
  {
   "cell_type": "markdown",
   "id": "91d8ad03",
   "metadata": {},
   "source": [
    "A Python object followed by a question mark displays the documentation string for the object."
   ]
  },
  {
   "cell_type": "code",
   "execution_count": 5,
   "id": "c0cd5cb6",
   "metadata": {},
   "outputs": [],
   "source": [
    "import math\n",
    "math.cos?"
   ]
  },
  {
   "cell_type": "markdown",
   "id": "aa3f7999",
   "metadata": {},
   "source": [
    "Anything that follows an exclamation mark is evaluated using the system shell (such as bash shell).\n",
    "\n",
    "pass the values of Python variables to shell commands by prefixing\n",
    "the variable name with a $ sign"
   ]
  },
  {
   "cell_type": "code",
   "execution_count": 6,
   "id": "284c541e",
   "metadata": {},
   "outputs": [
    {
     "name": "stdout",
     "output_type": "stream",
     "text": [
      "Jupyter_Notebook.ipynb\tNumpy.ipynb   Python_Tricks.ipynb\r\n",
      "Mavlink_parser.ipynb\tOpenCV.ipynb\r\n"
     ]
    }
   ],
   "source": [
    "!ls"
   ]
  },
  {
   "cell_type": "markdown",
   "id": "ba5ad3f7",
   "metadata": {},
   "source": [
    "IPython provides extension commands that are called **magic functions** in IPython terminology. These commands all start with one or two % signs. A single % sign is used for one-line commands, and two % signs are used for commands that operate on cells (multiple lines)."
   ]
  },
  {
   "cell_type": "code",
   "execution_count": 7,
   "id": "d748daee",
   "metadata": {},
   "outputs": [
    {
     "data": {
      "application/json": {
       "cell": {
        "!": "OSMagics",
        "HTML": "Other",
        "SVG": "Other",
        "bash": "Other",
        "capture": "ExecutionMagics",
        "debug": "ExecutionMagics",
        "file": "Other",
        "html": "DisplayMagics",
        "javascript": "DisplayMagics",
        "js": "DisplayMagics",
        "latex": "DisplayMagics",
        "markdown": "DisplayMagics",
        "perl": "Other",
        "prun": "ExecutionMagics",
        "pypy": "Other",
        "python": "Other",
        "python2": "Other",
        "python3": "Other",
        "ruby": "Other",
        "script": "ScriptMagics",
        "sh": "Other",
        "svg": "DisplayMagics",
        "sx": "OSMagics",
        "system": "OSMagics",
        "time": "ExecutionMagics",
        "timeit": "ExecutionMagics",
        "writefile": "OSMagics"
       },
       "line": {
        "alias": "OSMagics",
        "alias_magic": "BasicMagics",
        "autoawait": "AsyncMagics",
        "autocall": "AutoMagics",
        "automagic": "AutoMagics",
        "autosave": "KernelMagics",
        "bookmark": "OSMagics",
        "cat": "Other",
        "cd": "OSMagics",
        "clear": "KernelMagics",
        "colors": "BasicMagics",
        "conda": "PackagingMagics",
        "config": "ConfigMagics",
        "connect_info": "KernelMagics",
        "cp": "Other",
        "debug": "ExecutionMagics",
        "dhist": "OSMagics",
        "dirs": "OSMagics",
        "doctest_mode": "BasicMagics",
        "ed": "Other",
        "edit": "KernelMagics",
        "env": "OSMagics",
        "gui": "BasicMagics",
        "hist": "Other",
        "history": "HistoryMagics",
        "killbgscripts": "ScriptMagics",
        "ldir": "Other",
        "less": "KernelMagics",
        "lf": "Other",
        "lk": "Other",
        "ll": "Other",
        "load": "CodeMagics",
        "load_ext": "ExtensionMagics",
        "loadpy": "CodeMagics",
        "logoff": "LoggingMagics",
        "logon": "LoggingMagics",
        "logstart": "LoggingMagics",
        "logstate": "LoggingMagics",
        "logstop": "LoggingMagics",
        "ls": "Other",
        "lsmagic": "BasicMagics",
        "lx": "Other",
        "macro": "ExecutionMagics",
        "magic": "BasicMagics",
        "man": "KernelMagics",
        "matplotlib": "PylabMagics",
        "mkdir": "Other",
        "more": "KernelMagics",
        "mv": "Other",
        "notebook": "BasicMagics",
        "page": "BasicMagics",
        "pastebin": "CodeMagics",
        "pdb": "ExecutionMagics",
        "pdef": "NamespaceMagics",
        "pdoc": "NamespaceMagics",
        "pfile": "NamespaceMagics",
        "pinfo": "NamespaceMagics",
        "pinfo2": "NamespaceMagics",
        "pip": "PackagingMagics",
        "popd": "OSMagics",
        "pprint": "BasicMagics",
        "precision": "BasicMagics",
        "prun": "ExecutionMagics",
        "psearch": "NamespaceMagics",
        "psource": "NamespaceMagics",
        "pushd": "OSMagics",
        "pwd": "OSMagics",
        "pycat": "OSMagics",
        "pylab": "PylabMagics",
        "qtconsole": "KernelMagics",
        "quickref": "BasicMagics",
        "recall": "HistoryMagics",
        "rehashx": "OSMagics",
        "reload_ext": "ExtensionMagics",
        "rep": "Other",
        "rerun": "HistoryMagics",
        "reset": "NamespaceMagics",
        "reset_selective": "NamespaceMagics",
        "rm": "Other",
        "rmdir": "Other",
        "run": "ExecutionMagics",
        "save": "CodeMagics",
        "sc": "OSMagics",
        "set_env": "OSMagics",
        "store": "StoreMagics",
        "sx": "OSMagics",
        "system": "OSMagics",
        "tb": "ExecutionMagics",
        "time": "ExecutionMagics",
        "timeit": "ExecutionMagics",
        "unalias": "OSMagics",
        "unload_ext": "ExtensionMagics",
        "who": "NamespaceMagics",
        "who_ls": "NamespaceMagics",
        "whos": "NamespaceMagics",
        "xdel": "NamespaceMagics",
        "xmode": "BasicMagics"
       }
      },
      "text/plain": [
       "Available line magics:\n",
       "%alias  %alias_magic  %autoawait  %autocall  %automagic  %autosave  %bookmark  %cat  %cd  %clear  %colors  %conda  %config  %connect_info  %cp  %debug  %dhist  %dirs  %doctest_mode  %ed  %edit  %env  %gui  %hist  %history  %killbgscripts  %ldir  %less  %lf  %lk  %ll  %load  %load_ext  %loadpy  %logoff  %logon  %logstart  %logstate  %logstop  %ls  %lsmagic  %lx  %macro  %magic  %man  %matplotlib  %mkdir  %more  %mv  %notebook  %page  %pastebin  %pdb  %pdef  %pdoc  %pfile  %pinfo  %pinfo2  %pip  %popd  %pprint  %precision  %prun  %psearch  %psource  %pushd  %pwd  %pycat  %pylab  %qtconsole  %quickref  %recall  %rehashx  %reload_ext  %rep  %rerun  %reset  %reset_selective  %rm  %rmdir  %run  %save  %sc  %set_env  %store  %sx  %system  %tb  %time  %timeit  %unalias  %unload_ext  %who  %who_ls  %whos  %xdel  %xmode\n",
       "\n",
       "Available cell magics:\n",
       "%%!  %%HTML  %%SVG  %%bash  %%capture  %%debug  %%file  %%html  %%javascript  %%js  %%latex  %%markdown  %%perl  %%prun  %%pypy  %%python  %%python2  %%python3  %%ruby  %%script  %%sh  %%svg  %%sx  %%system  %%time  %%timeit  %%writefile\n",
       "\n",
       "Automagic is ON, % prefix IS NOT needed for line magics."
      ]
     },
     "execution_count": 7,
     "metadata": {},
     "output_type": "execute_result"
    }
   ],
   "source": [
    "%lsmagic"
   ]
  },
  {
   "cell_type": "code",
   "execution_count": 9,
   "id": "3b92e475",
   "metadata": {},
   "outputs": [],
   "source": [
    "who_ls?"
   ]
  },
  {
   "cell_type": "code",
   "execution_count": 10,
   "id": "ff1f677b",
   "metadata": {},
   "outputs": [],
   "source": [
    "lsmagic?"
   ]
  },
  {
   "cell_type": "code",
   "execution_count": 11,
   "id": "9ed03c3b",
   "metadata": {},
   "outputs": [
    {
     "data": {
      "text/plain": [
       "'/home/aamir/workspace/programs/TechNotes/src/python/notebooks'"
      ]
     },
     "execution_count": 11,
     "metadata": {},
     "output_type": "execute_result"
    }
   ],
   "source": [
    "pwd"
   ]
  },
  {
   "cell_type": "markdown",
   "id": "1969cbe6",
   "metadata": {},
   "source": [
    "The command `%run` is an important and useful extension, perhaps one of the most important features of the IPython console. With this command, an external Python source code file can be executed within an interactive IPython session."
   ]
  },
  {
   "cell_type": "code",
   "execution_count": 12,
   "id": "183eac1d",
   "metadata": {},
   "outputs": [
    {
     "name": "stdout",
     "output_type": "stream",
     "text": [
      "[1, 1, 2, 3, 5, 8, 13, 21, 34, 55]\n"
     ]
    }
   ],
   "source": [
    "%run fib.py"
   ]
  },
  {
   "cell_type": "code",
   "execution_count": 13,
   "id": "af2c64c1",
   "metadata": {},
   "outputs": [
    {
     "name": "stdout",
     "output_type": "stream",
     "text": [
      "fib\t math\t \n"
     ]
    }
   ],
   "source": [
    "%who"
   ]
  },
  {
   "cell_type": "code",
   "execution_count": 14,
   "id": "b9e9b028",
   "metadata": {},
   "outputs": [
    {
     "data": {
      "text/plain": [
       "[1, 1, 2, 3, 5, 8]"
      ]
     },
     "execution_count": 14,
     "metadata": {},
     "output_type": "execute_result"
    }
   ],
   "source": [
    "fib(6)"
   ]
  },
  {
   "cell_type": "markdown",
   "id": "54f8137a",
   "metadata": {},
   "source": [
    "%who command, which lists all defined symbols (variables and functions). %whos command is similar, but\n",
    "also gives more detailed information about the type and value of each symbol, when\n",
    "applicable."
   ]
  },
  {
   "cell_type": "code",
   "execution_count": 15,
   "id": "1e3a3df5",
   "metadata": {},
   "outputs": [
    {
     "ename": "TypeError",
     "evalue": "can't multiply sequence by non-int of type 'float'",
     "output_type": "error",
     "traceback": [
      "\u001b[0;31m---------------------------------------------------------------------------\u001b[0m",
      "\u001b[0;31mTypeError\u001b[0m                                 Traceback (most recent call last)",
      "\u001b[0;32m<ipython-input-15-da4664af34ee>\u001b[0m in \u001b[0;36m<module>\u001b[0;34m\u001b[0m\n\u001b[0;32m----> 1\u001b[0;31m \u001b[0mfib\u001b[0m\u001b[0;34m(\u001b[0m\u001b[0;36m1.0\u001b[0m\u001b[0;34m)\u001b[0m\u001b[0;34m\u001b[0m\u001b[0;34m\u001b[0m\u001b[0m\n\u001b[0m",
      "\u001b[0;32m~/workspace/programs/TechNotes/src/python/notebooks/fib.py\u001b[0m in \u001b[0;36mfib\u001b[0;34m(n)\u001b[0m\n\u001b[1;32m      7\u001b[0m \u001b[0;34m\u001b[0m\u001b[0m\n\u001b[1;32m      8\u001b[0m     \u001b[0mf0\u001b[0m\u001b[0;34m,\u001b[0m \u001b[0mf1\u001b[0m \u001b[0;34m=\u001b[0m \u001b[0;36m0\u001b[0m\u001b[0;34m,\u001b[0m \u001b[0;36m1\u001b[0m\u001b[0;34m\u001b[0m\u001b[0;34m\u001b[0m\u001b[0m\n\u001b[0;32m----> 9\u001b[0;31m     \u001b[0mf\u001b[0m \u001b[0;34m=\u001b[0m \u001b[0;34m[\u001b[0m\u001b[0;36m1\u001b[0m\u001b[0;34m]\u001b[0m \u001b[0;34m*\u001b[0m \u001b[0mn\u001b[0m\u001b[0;34m\u001b[0m\u001b[0;34m\u001b[0m\u001b[0m\n\u001b[0m\u001b[1;32m     10\u001b[0m     \u001b[0;32mfor\u001b[0m \u001b[0mi\u001b[0m \u001b[0;32min\u001b[0m \u001b[0mrange\u001b[0m\u001b[0;34m(\u001b[0m\u001b[0;36m1\u001b[0m\u001b[0;34m,\u001b[0m \u001b[0mn\u001b[0m\u001b[0;34m)\u001b[0m\u001b[0;34m:\u001b[0m\u001b[0;34m\u001b[0m\u001b[0;34m\u001b[0m\u001b[0m\n\u001b[1;32m     11\u001b[0m         \u001b[0mf\u001b[0m\u001b[0;34m[\u001b[0m\u001b[0mi\u001b[0m\u001b[0;34m]\u001b[0m \u001b[0;34m=\u001b[0m \u001b[0mf0\u001b[0m \u001b[0;34m+\u001b[0m \u001b[0mf1\u001b[0m\u001b[0;34m\u001b[0m\u001b[0;34m\u001b[0m\u001b[0m\n",
      "\u001b[0;31mTypeError\u001b[0m: can't multiply sequence by non-int of type 'float'"
     ]
    }
   ],
   "source": [
    "fib(1.0)"
   ]
  },
  {
   "cell_type": "code",
   "execution_count": 16,
   "id": "192a076b",
   "metadata": {},
   "outputs": [
    {
     "name": "stdout",
     "output_type": "stream",
     "text": [
      "> \u001b[0;32m/home/aamir/workspace/programs/TechNotes/src/python/notebooks/fib.py\u001b[0m(9)\u001b[0;36mfib\u001b[0;34m()\u001b[0m\n",
      "\u001b[0;32m      7 \u001b[0;31m\u001b[0;34m\u001b[0m\u001b[0m\n",
      "\u001b[0m\u001b[0;32m      8 \u001b[0;31m    \u001b[0mf0\u001b[0m\u001b[0;34m,\u001b[0m \u001b[0mf1\u001b[0m \u001b[0;34m=\u001b[0m \u001b[0;36m0\u001b[0m\u001b[0;34m,\u001b[0m \u001b[0;36m1\u001b[0m\u001b[0;34m\u001b[0m\u001b[0;34m\u001b[0m\u001b[0m\n",
      "\u001b[0m\u001b[0;32m----> 9 \u001b[0;31m    \u001b[0mf\u001b[0m \u001b[0;34m=\u001b[0m \u001b[0;34m[\u001b[0m\u001b[0;36m1\u001b[0m\u001b[0;34m]\u001b[0m \u001b[0;34m*\u001b[0m \u001b[0mn\u001b[0m\u001b[0;34m\u001b[0m\u001b[0;34m\u001b[0m\u001b[0m\n",
      "\u001b[0m\u001b[0;32m     10 \u001b[0;31m    \u001b[0;32mfor\u001b[0m \u001b[0mi\u001b[0m \u001b[0;32min\u001b[0m \u001b[0mrange\u001b[0m\u001b[0;34m(\u001b[0m\u001b[0;36m1\u001b[0m\u001b[0;34m,\u001b[0m \u001b[0mn\u001b[0m\u001b[0;34m)\u001b[0m\u001b[0;34m:\u001b[0m\u001b[0;34m\u001b[0m\u001b[0;34m\u001b[0m\u001b[0m\n",
      "\u001b[0m\u001b[0;32m     11 \u001b[0;31m        \u001b[0mf\u001b[0m\u001b[0;34m[\u001b[0m\u001b[0mi\u001b[0m\u001b[0;34m]\u001b[0m \u001b[0;34m=\u001b[0m \u001b[0mf0\u001b[0m \u001b[0;34m+\u001b[0m \u001b[0mf1\u001b[0m\u001b[0;34m\u001b[0m\u001b[0;34m\u001b[0m\u001b[0m\n",
      "\u001b[0m\n",
      "ipdb> ?\n",
      "\n",
      "Documented commands (type help <topic>):\n",
      "========================================\n",
      "EOF    cl         debug    ignore    n       pp       run          unalias  \n",
      "a      clear      disable  interact  next    psource  rv           undisplay\n",
      "alias  commands   display  j         p       q        s            unt      \n",
      "args   condition  down     jump      pdef    quit     skip_hidden  until    \n",
      "b      cont       enable   l         pdoc    r        source       up       \n",
      "break  context    exit     list      pfile   restart  step         w        \n",
      "bt     continue   h        ll        pinfo   return   tbreak       whatis   \n",
      "c      d          help     longlist  pinfo2  retval   u            where    \n",
      "\n",
      "Miscellaneous help topics:\n",
      "==========================\n",
      "exec  pdb\n",
      "\n",
      "ipdb> exit\n"
     ]
    }
   ],
   "source": [
    "%debug"
   ]
  },
  {
   "cell_type": "markdown",
   "id": "2f872c3e",
   "metadata": {},
   "source": [
    "`%reset` command resetts the namespace of an IPython session. (-f to fore the reset). Use `reload` function from `IPython.lib.deepreload` to reload python modules."
   ]
  },
  {
   "cell_type": "markdown",
   "id": "fd55cd9e",
   "metadata": {},
   "source": [
    "The `%timeit` and `%time` commands provide simple benchmarking facilities that are useful when looking for bottlenecks and attempting to optimize code."
   ]
  },
  {
   "cell_type": "code",
   "execution_count": 17,
   "id": "b4260124",
   "metadata": {},
   "outputs": [],
   "source": [
    "%timeit?"
   ]
  },
  {
   "cell_type": "code",
   "execution_count": 18,
   "id": "c0225e63",
   "metadata": {},
   "outputs": [
    {
     "name": "stdout",
     "output_type": "stream",
     "text": [
      "10.9 µs ± 442 ns per loop (mean ± std. dev. of 7 runs, 100000 loops each)\n"
     ]
    }
   ],
   "source": [
    "%timeit fib(100)"
   ]
  },
  {
   "cell_type": "markdown",
   "id": "3d91c34f",
   "metadata": {},
   "source": [
    "The Jupyter project (http://jupyter.org) is a spin-off from the IPython project that includes the Python independent frontends – most notably the notebook application.\n",
    "\n",
    "In the Jupyter framework, the frontend talks to computational backends known as **kernels**."
   ]
  },
  {
   "cell_type": "markdown",
   "id": "21245ec0",
   "metadata": {},
   "source": [
    "$ jupyter qtconsole"
   ]
  },
  {
   "cell_type": "code",
   "execution_count": 19,
   "id": "dd217393",
   "metadata": {},
   "outputs": [
    {
     "data": {
      "image/png": "[encoded data removed]",
      "text/latex": [
       "$\\displaystyle \\int\\limits_{0}^{1} x^{2}\\, dx$"
      ],
      "text/plain": [
       "1      \n",
       "⌠      \n",
       "⎮  2   \n",
       "⎮ x  dx\n",
       "⌡      \n",
       "0      "
      ]
     },
     "execution_count": 19,
     "metadata": {},
     "output_type": "execute_result"
    }
   ],
   "source": [
    "import sympy\n",
    "sympy.init_printing()\n",
    "x = sympy.symbols(\"x\")\n",
    "i = sympy.Integral(x**2, (x, 0, 1)); i"
   ]
  },
  {
   "cell_type": "markdown",
   "id": "92a5956b",
   "metadata": {},
   "source": [
    "The Jupyter Notebook features a rich display system that can show media such as equations, figures, and videos as embedded objects in the notebook. It is also possible to create user interface (UI) elements with HTML and JavaScript, using Jupyter’s widget\n",
    "system.\n",
    "\n",
    "The Jupyter Notebook files are\n",
    "stored in a JSON file format using the filename extension ipynb."
   ]
  },
  {
   "cell_type": "markdown",
   "id": "06a9c007",
   "metadata": {},
   "source": [
    "The Jupyter Lab environment consolidates the many advantages of the notebook environment and the strengths of traditional IDEs."
   ]
  },
  {
   "cell_type": "markdown",
   "id": "16a182b6",
   "metadata": {},
   "source": [
    "The content of a Markdown cell can contain marked-up plain text, which is interpreted using the Markdown language and HTML. A Markdown cell can also contain LaTeX formatted equations, which are rendered in the notebook using the JavaScript based LaTeX engine MathJax."
   ]
  },
  {
   "cell_type": "markdown",
   "id": "8200289d",
   "metadata": {},
   "source": [
    "The notebook uses a two-mode input interface, with an _edit mode_ and a _command mode_."
   ]
  },
  {
   "cell_type": "markdown",
   "id": "4b61744b",
   "metadata": {},
   "source": [
    "| Keyboard shortcut | Description |\n",
    "|-------------------|-------------|\n",
    "| **b** | Create a new cell below the currently selected cell.|\n",
    "| **a** | Create a new cell above the currently selected cell.|\n",
    "| **d-d** | Delete the currently selected cell.|\n",
    "| **1 to 6** | Heading cell of level 1 to 6.|\n",
    "| **x** | Cut currently selected cell.|\n",
    "| **c** | Copy currently selected cell.|\n",
    "| **v** | Paste cell from the clipboard.|\n",
    "| **m** | Convert a cell to a Markdown cell.|\n",
    "| **y** | Convert a cell to a code cell.|\n",
    "| **Up** | Select previous cell.|\n",
    "| **Down** | Select next cell.|\n",
    "| **Enter** | Enter edit mode.|\n",
    "| **Escape** | Exit edit mode.|\n",
    "| **Shift-Enter** | Run the cell.|\n",
    "| **h** | Display a help window with a list of all available kyboard shortcuts.\n",
    "| **0-0** | Restart the kernel. |\n",
    "| **i-i** | Interrupt an executing cell. |\n",
    "| **s** | Save the notebook. |"
   ]
  },
  {
   "cell_type": "markdown",
   "id": "90f38f16",
   "metadata": {},
   "source": [
    "The Markdown language is designed to be a lightweight typesetting system that allows text with simple markup rules to be converted to HTML and other formats for richer display.\n",
    "\n",
    "An extension to Markdown supported by Jupyter is that mathematical expressions can be typeset in LaTeX, using the JavaScript LaTeX library MathJax.\n",
    "\n",
    "The `IPython.display` module provides several classes and\n",
    "functions that make it easy to programmatically render formatted output in a notebook."
   ]
  },
  {
   "cell_type": "code",
   "execution_count": 21,
   "id": "dce0ef7f",
   "metadata": {},
   "outputs": [
    {
     "data": {
      "text/plain": [
       "'<table> <tr><th>Library</th><th>Version</th></tr> <tr><td>numpy</td> <td>1.20.1</td> </tr>\\n<tr><td>matplotlib</td> <td>3.3.4</td> </tr>\\n<tr><td>scipy</td> <td>1.6.2</td> </tr></table>'"
      ]
     },
     "execution_count": 21,
     "metadata": {},
     "output_type": "execute_result"
    }
   ],
   "source": [
    "from IPython.display import display, Image, HTML, Math\n",
    "import scipy, numpy, matplotlib\n",
    "modules = [numpy, matplotlib, scipy]\n",
    "row = \"<tr><td>%s</td> <td>%s</td> </tr>\"\n",
    "rows = \"\\n\".join([row % (module.__name__, module.__version__) for module in modules])\n",
    "s = \"<table> <tr><th>Library</th><th>Version</th></tr> %s</table>\" % rows\n",
    "s"
   ]
  },
  {
   "cell_type": "code",
   "execution_count": 22,
   "id": "bc88c86f",
   "metadata": {},
   "outputs": [
    {
     "data": {
      "text/html": [
       "<table> <tr><th>Library</th><th>Version</th></tr> <tr><td>numpy</td> <td>1.20.1</td> </tr>\n",
       "<tr><td>matplotlib</td> <td>3.3.4</td> </tr>\n",
       "<tr><td>scipy</td> <td>1.6.2</td> </tr></table>"
      ],
      "text/plain": [
       "<IPython.core.display.HTML object>"
      ]
     },
     "execution_count": 22,
     "metadata": {},
     "output_type": "execute_result"
    }
   ],
   "source": [
    "HTML(s)"
   ]
  },
  {
   "cell_type": "markdown",
   "id": "d79a8e43",
   "metadata": {},
   "source": [
    "Using the interact function from the `ipywidgets` library, we can very easily create an interactive graph that takes an input parameter that is determined from a UI slider,"
   ]
  },
  {
   "cell_type": "code",
   "execution_count": 23,
   "id": "499deb1f",
   "metadata": {},
   "outputs": [],
   "source": [
    "import matplotlib.pyplot as plt\n",
    "import numpy as np\n",
    "from scipy import stats\n",
    "\n",
    "def f(mu):\n",
    "    X = stats.norm(loc=mu, scale=np.sqrt(mu))\n",
    "    N = stats.poisson(mu)\n",
    "    x = np.linspace(0, X.ppf(0.999))\n",
    "    n = np.arange(0, x[-1])\n",
    "    \n",
    "    fig, ax = plt.subplots()\n",
    "    ax.plot(x, X.pdf(x), color='black', lw=2, label=\"Normal($\\mu=%d, \\sigma^2=%d$)\" % (mu, mu))\n",
    "    ax.bar(n, N.pmf(n), align='edge', label=r\"Poisson($\\lambda=%d$)\" % mu)\n",
    "    ax.set_ylim(0, X.pdf(x).max() * 1.25)\n",
    "    ax.legend(loc=2, ncol=2)\n",
    "    plt.close(fig)\n",
    "    return fig"
   ]
  },
  {
   "cell_type": "code",
   "execution_count": 25,
   "id": "5a5605aa",
   "metadata": {},
   "outputs": [
    {
     "data": {
      "application/vnd.jupyter.widget-view+json": {
       "model_id": "625e97b559ad4617b0c397cc8e6cfd4c",
       "version_major": 2,
       "version_minor": 0
      },
      "text/plain": [
       "interactive(children=(FloatSlider(value=1.0, description='mu', max=30.0, min=1.0, step=1.0), Output()), _dom_c…"
      ]
     },
     "metadata": {},
     "output_type": "display_data"
    }
   ],
   "source": [
    "from ipywidgets import interact\n",
    "import ipywidgets as widgets\n",
    "interact(f, mu=widgets.FloatSlider(min=1.0, max=30.0, step=1.0));"
   ]
  },
  {
   "cell_type": "code",
   "execution_count": null,
   "id": "5b1d2545",
   "metadata": {},
   "outputs": [],
   "source": []
  }
 ],
 "metadata": {
  "kernelspec": {
   "display_name": "Python 3",
   "language": "python",
   "name": "python3"
  },
  "language_info": {
   "codemirror_mode": {
    "name": "ipython",
    "version": 3
   },
   "file_extension": ".py",
   "mimetype": "text/x-python",
   "name": "python",
   "nbconvert_exporter": "python",
   "pygments_lexer": "ipython3",
   "version": "3.8.8"
  }
 },
 "nbformat": 4,
 "nbformat_minor": 5
}
