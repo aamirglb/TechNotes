{
 "cells": [
  {
   "cell_type": "markdown",
   "id": "11b273f6",
   "metadata": {},
   "source": [
    "# Python Tricks \n",
    "              Dan Bader "
   ]
  },
  {
   "cell_type": "code",
   "execution_count": null,
   "id": "70a7efa7",
   "metadata": {},
   "outputs": [],
   "source": [
    "# price amount in cents to avoid currency rounding\n",
    "shoes = {'name': 'Fancy Shoes', 'price': 14900} \n",
    "\n",
    "def apply_discount(product, discount):\n",
    "    price = int(product['price'] * (1.0 - discount))\n",
    "    assert 0 <= price <= product['price']\n",
    "    return price\n",
    "\n",
    "apply_discount(shoes, 0.25), apply_discount(shoes, 0.5), apply_discount(shoes, 1.0), apply_discount(shoes, 1.5)"
   ]
  },
  {
   "cell_type": "markdown",
   "id": "d058eb72",
   "metadata": {},
   "source": [
    "Assertions are meant to be *internal self-checks*. Pythons's assert statement is a debugging aid, not a mechanism for handling run-time errors."
   ]
  },
  {
   "cell_type": "code",
   "execution_count": null,
   "id": "70222d4c",
   "metadata": {},
   "outputs": [],
   "source": [
    "# Assertion implementation\n",
    "if __debug__:\n",
    "    if not expression1:\n",
    "        raise AssertionError(expression2)\n"
   ]
  },
  {
   "cell_type": "markdown",
   "id": "b9ddb878",
   "metadata": {},
   "source": [
    "__debug__ is a global variable which is **true** under normal circumstances and **false** if optimizations are requested.\n",
    "\n",
    "In computer programming jargon, a **heisenbug** is a software bug that seems to disappear or alter its behavior when one attempts to study it."
   ]
  },
  {
   "cell_type": "markdown",
   "id": "e98babd2",
   "metadata": {},
   "source": [
    "Assertions can be globally disabled with -O and -OO command lin switches as wll as `PYTHONOPTIMIZE` environment variable in CPython."
   ]
  },
  {
   "cell_type": "code",
   "execution_count": null,
   "id": "2c44cd28",
   "metadata": {},
   "outputs": [],
   "source": [
    "def delete_product(prod_id, user):\n",
    "    assert user.is_admin(),\n",
    "    assert store.has_product(prod_id),\n",
    "    store.get_product(prod_id).delete()"
   ]
  },
  {
   "cell_type": "code",
   "execution_count": null,
   "id": "32f66205",
   "metadata": {},
   "outputs": [],
   "source": [
    "# Better version\n",
    "def delete_product(prod_id, user):\n",
    "    if not user.is_admin():\n",
    "        raise AuthError('Must be admin to delete')\n",
    "    if not store.has_product(prod_id):\n",
    "        raise ValueError('Unknow product id')\n",
    "    store.get_product(prod_id).delete()"
   ]
  },
  {
   "cell_type": "code",
   "execution_count": 9,
   "id": "0b100146",
   "metadata": {},
   "outputs": [
    {
     "name": "stderr",
     "output_type": "stream",
     "text": [
      "<>:1: SyntaxWarning: assertion is always true, perhaps remove parentheses?\n",
      "<>:1: SyntaxWarning: assertion is always true, perhaps remove parentheses?\n",
      "<ipython-input-9-2c057bd7fe24>:1: SyntaxWarning: assertion is always true, perhaps remove parentheses?\n",
      "  assert(1 == 2, 'This should fail')\n"
     ]
    }
   ],
   "source": [
    "assert(1 == 2, 'This should fail')"
   ]
  },
  {
   "cell_type": "code",
   "execution_count": 10,
   "id": "9c801e6c",
   "metadata": {},
   "outputs": [
    {
     "ename": "AssertionError",
     "evalue": "this should fail",
     "output_type": "error",
     "traceback": [
      "\u001b[0;31m---------------------------------------------------------------------------\u001b[0m",
      "\u001b[0;31mAssertionError\u001b[0m                            Traceback (most recent call last)",
      "\u001b[0;32m<ipython-input-10-08ff04bbf765>\u001b[0m in \u001b[0;36m<module>\u001b[0;34m\u001b[0m\n\u001b[0;32m----> 1\u001b[0;31m \u001b[0;32massert\u001b[0m \u001b[0;36m1\u001b[0m \u001b[0;34m==\u001b[0m \u001b[0;36m2\u001b[0m\u001b[0;34m,\u001b[0m \u001b[0;34m\"this should fail\"\u001b[0m\u001b[0;34m\u001b[0m\u001b[0;34m\u001b[0m\u001b[0m\n\u001b[0m",
      "\u001b[0;31mAssertionError\u001b[0m: this should fail"
     ]
    }
   ],
   "source": [
    "assert 1 == 2, \"this should fail\""
   ]
  },
  {
   "cell_type": "code",
   "execution_count": 11,
   "id": "8cfaba56",
   "metadata": {},
   "outputs": [
    {
     "name": "stdout",
     "output_type": "stream",
     "text": [
      "['Alice', 'Bob', 'DilbertJane']\n"
     ]
    }
   ],
   "source": [
    "names = [\n",
    "    'Alice',\n",
    "    'Bob',\n",
    "    'Dilbert'\n",
    "    'Jane'\n",
    "]\n",
    "print(names)"
   ]
  },
  {
   "cell_type": "markdown",
   "id": "ddb3d5c7",
   "metadata": {},
   "source": [
    "In Python, a comma can be placed after every item in a list, dict, or set constant, including the last item."
   ]
  },
  {
   "cell_type": "markdown",
   "id": "d1fa458b",
   "metadata": {},
   "source": [
    "## Context Manager and with statement"
   ]
  },
  {
   "cell_type": "markdown",
   "id": "42c083c7",
   "metadata": {},
   "source": [
    "`with` statement simplifies some common resource management patterns by abstracting their functionality and allowing them to be factored out and reused.\n",
    "\n",
    "Another good example where the `with` statement is used effectively is `threading.Lock` class."
   ]
  },
  {
   "cell_type": "code",
   "execution_count": null,
   "id": "925993c3",
   "metadata": {},
   "outputs": [],
   "source": [
    "with open('hello.txt', 'w') as f:\n",
    "    f.write('Hello World!!')"
   ]
  },
  {
   "cell_type": "markdown",
   "id": "e06e1257",
   "metadata": {},
   "source": [
    "A class can support `with` statement by implementing so-called _context managers_. Context manager is a simple protocol/interface that your object needs to follow in order to support `with` statement. "
   ]
  },
  {
   "cell_type": "markdown",
   "id": "bc5dce1a",
   "metadata": {},
   "source": [
    "A class/object must add `__enter__` and `__exit__` methods it it want to function as a context manager.\n"
   ]
  },
  {
   "cell_type": "code",
   "execution_count": null,
   "id": "826755e0",
   "metadata": {},
   "outputs": [],
   "source": [
    "class ManagedFile:\n",
    "    def __init__(self, name):\n",
    "        self.name = name\n",
    "    \n",
    "    def __enter__(self):\n",
    "        self.file = open(self.name, 'w')\n",
    "        return self.file\n",
    "    \n",
    "    def __exit__(self, exc_type, exc_val, exc_tb):\n",
    "        if self.file:\n",
    "            self.file.close()"
   ]
  },
  {
   "cell_type": "code",
   "execution_count": null,
   "id": "de4c25e9",
   "metadata": {},
   "outputs": [],
   "source": [
    "with ManagedFile('hello.txt') as f:\n",
    "    f.write('hello world')\n",
    "    f.write('good byte')"
   ]
  },
  {
   "cell_type": "markdown",
   "id": "7a1db64f",
   "metadata": {},
   "source": [
    "The `contextlib` utility module in the standard library provides a few more abstractions built on top of the basic context manager protocol."
   ]
  },
  {
   "cell_type": "code",
   "execution_count": 12,
   "id": "467539c4",
   "metadata": {},
   "outputs": [],
   "source": [
    "from contextlib import contextmanager\n",
    "\n",
    "@contextmanager\n",
    "def managed_file(name):  # generator()\n",
    "    try:\n",
    "        f = open(name, 'w')\n",
    "        yield f\n",
    "    finally:\n",
    "        f.close()\n",
    "        \n",
    "with managed_file('hello.txt') as f:\n",
    "    f.write('hello and byte')"
   ]
  },
  {
   "cell_type": "code",
   "execution_count": 14,
   "id": "3e10010d",
   "metadata": {},
   "outputs": [
    {
     "name": "stdout",
     "output_type": "stream",
     "text": [
      "....hi!\n",
      "........hello!!\n",
      "............bonjour\n",
      "....bye\n"
     ]
    }
   ],
   "source": [
    "class Indenter:\n",
    "    def __init__(self):\n",
    "        self.level = 0\n",
    "        self.spacing = [\n",
    "            '....',\n",
    "            '****',\n",
    "            '++++',\n",
    "        ]\n",
    "    \n",
    "    def __enter__(self):\n",
    "        self.level += 1\n",
    "        return self\n",
    "    \n",
    "    def __exit__(self, exc_type, exc_val, exc_tb):\n",
    "        self.level -= 1\n",
    "        \n",
    "    def print(self, text):\n",
    "        print('....' * self.level + text)\n",
    "        \n",
    "\n",
    "with Indenter() as indent:\n",
    "    indent.print('hi!')\n",
    "    with indent:\n",
    "        indent.print('hello!!')\n",
    "        with indent:\n",
    "            indent.print('bonjour')\n",
    "    indent.print('bye')"
   ]
  },
  {
   "cell_type": "markdown",
   "id": "ae6ee85b",
   "metadata": {},
   "source": [
    "**Excercise:** implementing a context manager that measures the execution time of a code block using the time.time function. Be sure to try out writ ing both a decorator-based and a class-based variant to drive home the difference between the two"
   ]
  },
  {
   "cell_type": "markdown",
   "id": "81025e53",
   "metadata": {},
   "source": [
    "**Single Leading Underscore:** `_var` (Convention only)\n",
    "Leading underscores impact how names get imported from modules. Python will _not_ import names with a leading underscore unless the module defines an `__all__` list\n",
    "\n",
    "**Single Trailing Underscore:** `var_` \n",
    "Use by convention to avoid naming conflicts with Python keywords.\n",
    "\n",
    "**Double Leading Underscore:** `__var` (Name Mangling)\n",
    "Causes Python interpreter to rewrite the attribute names in order to avoid naming conflicts in subclasses. \n",
    "\n",
    "**Double Leading and Trailing Underscore:** `__var__` (No Name Mangling) \n",
    "Reserved for special use in the language.\n",
    "\n",
    "**Single Underscore:** `_`\n",
    "In REPLs, represents result of last expression evaluated by interpreter."
   ]
  },
  {
   "cell_type": "code",
   "execution_count": 1,
   "id": "60138262",
   "metadata": {},
   "outputs": [
    {
     "name": "stdout",
     "output_type": "stream",
     "text": [
      "11 22\n"
     ]
    }
   ],
   "source": [
    "class Test:\n",
    "    def __init__(self):\n",
    "        self.foo = 11\n",
    "        self._bar = 22\n",
    "\n",
    "t = Test()\n",
    "print(t.foo, t._bar)"
   ]
  },
  {
   "cell_type": "code",
   "execution_count": null,
   "id": "279d3063",
   "metadata": {},
   "outputs": [],
   "source": [
    "# my_module.py\n",
    "def external_func():\n",
    "    return 22\n",
    "\n",
    "def _internal_func():\n",
    "    return 42\n",
    "\n",
    "from my_module import *   # Wild card imports should be avoided\n",
    "external_func()   # OK\n",
    "_internal_func()  # NameError\n",
    "\n",
    "import my_module   # Regular import\n",
    "my_module.external_func()\n",
    "my_module._internal_func()  # OK"
   ]
  },
  {
   "cell_type": "code",
   "execution_count": null,
   "id": "1676a14b",
   "metadata": {},
   "outputs": [],
   "source": [
    "class Test:\n",
    "    def __init__(self):\n",
    "        self.foo = 11\n",
    "        self._bar = 22\n",
    "        self.__baz = 44\n",
    "\n",
    "class ExtendedTest(Test):\n",
    "    def __init__(self):\n",
    "        super().__init__()\n",
    "        self.foo = 'overridden'\n",
    "        self._bar = 'overridden'\n",
    "        self.__baz = 'overridden'\n",
    "        \n",
    "t = Test()\n",
    "print(dir(t))\n",
    "\n",
    "t2 = ExtendedTest()\n",
    "print(t2.foo, t2._bar, t2.__baz)"
   ]
  },
  {
   "cell_type": "markdown",
   "id": "638666b4",
   "metadata": {},
   "source": [
    "Most important skills for a programmer is \"pattern recognition\" and knowing where to look things up.\n",
    "\n",
    "Double underscores are often referred to as **\"dunders\"** in Python community."
   ]
  },
  {
   "cell_type": "code",
   "execution_count": 5,
   "id": "8a2dfc40",
   "metadata": {},
   "outputs": [],
   "source": [
    "car = ('red', 'auto', 12, 3812.4)\n",
    "color, _, _, mileage = car # _ as placeholder"
   ]
  },
  {
   "cell_type": "markdown",
   "id": "ba910b9e",
   "metadata": {},
   "source": [
    "Strings in Python have a unique built-in operation that can be accessed with the **% operator**."
   ]
  },
  {
   "cell_type": "code",
   "execution_count": 11,
   "id": "79a30514",
   "metadata": {},
   "outputs": [
    {
     "name": "stdout",
     "output_type": "stream",
     "text": [
      "Hey Bob, there is a 0xbadc0ffee error!\n",
      "Hey Bob, there is a 0xbadc0ffee error!\n",
      "Hey Bob, there is a 0xbadc0ffee error!\n",
      "Hey Bob, there is a 0xbadc0ffee error!\n"
     ]
    }
   ],
   "source": [
    "errno = 50159747054\n",
    "name = 'Bob'\n",
    "\n",
    "# old style string formatting\n",
    "print('Hey %s, there is a 0x%x error!' % (name, errno))\n",
    "print('Hey %(name)s, there is a 0x%(errno)x error!' % {\"name\": name, \"errno\": errno })\n",
    "\n",
    "# New style string formatting\n",
    "print('Hey {}, there is a 0x{:x} error!'.format(name, errno))\n",
    "print('Hey {name}, there is a 0x{errno:x} error!'.format(name=name, errno=errno))\n",
    "\n",
    "# Literal string interpolation (Python 3.6+)\n"
   ]
  },
  {
   "cell_type": "code",
   "execution_count": 12,
   "id": "4816aaec",
   "metadata": {},
   "outputs": [
    {
     "name": "stdout",
     "output_type": "stream",
     "text": [
      "  2           0 LOAD_CONST               1 ('Hello, ')\n",
      "              2 LOAD_FAST                0 (name)\n",
      "              4 FORMAT_VALUE             0\n",
      "              6 LOAD_CONST               2 (\"! How's it \")\n",
      "              8 LOAD_FAST                1 (question)\n",
      "             10 FORMAT_VALUE             0\n",
      "             12 LOAD_CONST               3 ('?')\n",
      "             14 BUILD_STRING             5\n",
      "             16 RETURN_VALUE\n"
     ]
    }
   ],
   "source": [
    "def greet(name, question):\n",
    "    return f\"Hello, {name}! How's it {question}?\"\n",
    "\n",
    "# gets translated into\n",
    "# def greet(name, question):\n",
    "#     return (\"Hello, \" + name + \" ! How's it \" + question + \"?\")\n",
    "\n",
    "import dis\n",
    "dis.dis(greet)"
   ]
  },
  {
   "cell_type": "markdown",
   "id": "a2eddf2f",
   "metadata": {},
   "source": [
    "**grokking**: understand (something) intuitively or by empathy.\n",
    "\"corporate leaders seemed to grok this concept fairly quickly\""
   ]
  },
  {
   "cell_type": "code",
   "execution_count": 13,
   "id": "d26b3df6",
   "metadata": {},
   "outputs": [
    {
     "name": "stdout",
     "output_type": "stream",
     "text": [
      "HI!\n",
      "yell\n"
     ]
    }
   ],
   "source": [
    "def yell(text):\n",
    "    return text.upper() + '!'\n",
    "\n",
    "bark = yell\n",
    "del yell\n",
    "print(bark('hi'))\n",
    "print(bark.__name__)"
   ]
  },
  {
   "cell_type": "markdown",
   "id": "e4dbcccf",
   "metadata": {},
   "source": [
    "Python attaches a string identifier to every function at creation\n",
    "time for debugging purposes. You can access this internal identifier with the `__name__` attribute.\n",
    "\n",
    "Functions that can accept other functions as arguments are also called _higher-order functions_. They are a necessity for the functional programming style.\n",
    "\n",
    "Python allows functions to be defined inside other functions.\n",
    "\n",
    "The inner functions can also _capture and carry some of the parent function's state_ with them. Functions that captures parent's state are called **lexical closures** or just **closures**."
   ]
  },
  {
   "cell_type": "code",
   "execution_count": 19,
   "id": "04ab8a58",
   "metadata": {},
   "outputs": [
    {
     "name": "stdout",
     "output_type": "stream",
     "text": [
      "<function yell at 0x7fb2e85cbaf0> HEY THERE!\n",
      "<method 'lower' of 'str' objects> hey there\n",
      "<method 'capitalize' of 'str' objects> Hey there\n",
      "HI, I AM A PYTHON PROGRAM!\n",
      "hi, i am a python program\n"
     ]
    },
    {
     "data": {
      "text/plain": [
       "(None, None)"
      ]
     },
     "execution_count": 19,
     "metadata": {},
     "output_type": "execute_result"
    }
   ],
   "source": [
    "funcs = [bark, str.lower, str.capitalize]\n",
    "for f in funcs:\n",
    "    print(f, f('hey there'))\n",
    "funcs[0]('hello!!')\n",
    "\n",
    "def greet(func):\n",
    "    greeting = func('Hi, I am a Python program')\n",
    "    print(greeting)\n",
    "    \n",
    "greet(bark), greet(str.lower)"
   ]
  },
  {
   "cell_type": "code",
   "execution_count": 20,
   "id": "243bef3a",
   "metadata": {},
   "outputs": [
    {
     "data": {
      "text/plain": [
       "['HELLO!', 'HEY!', 'HI!']"
      ]
     },
     "execution_count": 20,
     "metadata": {},
     "output_type": "execute_result"
    }
   ],
   "source": [
    "list(map(bark, ['hello', 'hey', 'hi']))"
   ]
  },
  {
   "cell_type": "code",
   "execution_count": 21,
   "id": "3a807072",
   "metadata": {},
   "outputs": [
    {
     "name": "stdout",
     "output_type": "stream",
     "text": [
      "hello, world...\n"
     ]
    }
   ],
   "source": [
    "def speak(text):\n",
    "    def whisper(t):\n",
    "        return t.lower() + '...'\n",
    "    return whisper(text)\n",
    "print(speak('Hello, World'))\n",
    "\n",
    "# whisper is not accessible outside speak\n",
    "whisper('Yo')   # Error\n",
    "speak.whisper   # Error"
   ]
  },
  {
   "cell_type": "code",
   "execution_count": 24,
   "id": "fb70ea0c",
   "metadata": {},
   "outputs": [
    {
     "name": "stdout",
     "output_type": "stream",
     "text": [
      "<function get_speak_func.<locals>.whisper at 0x7fb2e85cb430> hello...\n",
      "<function get_speak_func.<locals>.yell at 0x7fb2e85cbe50> BYE!\n"
     ]
    }
   ],
   "source": [
    "def get_speak_func(volume):\n",
    "    def whisper(text):\n",
    "        return text.lower() + '...'\n",
    "    def yell(text):\n",
    "        return text.upper() + '!'\n",
    "    \n",
    "    if volume > 0.5:\n",
    "        return yell\n",
    "    else:\n",
    "        return whisper\n",
    "    \n",
    "f = get_speak_func(0.3)\n",
    "print(f, f('hello'))\n",
    "\n",
    "g = get_speak_func(0.7)\n",
    "print(g, g('bye'))"
   ]
  },
  {
   "cell_type": "code",
   "execution_count": 26,
   "id": "649056e9",
   "metadata": {},
   "outputs": [
    {
     "data": {
      "text/plain": [
       "'HELLO WORLD!'"
      ]
     },
     "execution_count": 26,
     "metadata": {},
     "output_type": "execute_result"
    }
   ],
   "source": [
    "def get_speak_func(text, volume):\n",
    "    def whisper():\n",
    "        # inner function captures the 'text' argument of parent\n",
    "        return text.lower() + '...'\n",
    "    def yell():\n",
    "        return text.upper() + '!'\n",
    "    \n",
    "    if volume > 0.5:\n",
    "        return yell\n",
    "    else:\n",
    "        return whisper\n",
    "    \n",
    "get_speak_func('Hello World', 0.8)()\n",
    "    "
   ]
  },
  {
   "cell_type": "code",
   "execution_count": 27,
   "id": "a3c3dc0b",
   "metadata": {},
   "outputs": [
    {
     "name": "stdout",
     "output_type": "stream",
     "text": [
      "13\n",
      "15\n"
     ]
    }
   ],
   "source": [
    "def make_adder(n):\n",
    "    def add(x):\n",
    "        return x+n\n",
    "    return add\n",
    "\n",
    "plus_3 = make_adder(3)\n",
    "plus_5 = make_adder(5)\n",
    "\n",
    "print(plus_3(10))\n",
    "print(plus_5(10))"
   ]
  },
  {
   "cell_type": "markdown",
   "id": "11a46bb0",
   "metadata": {},
   "source": [
    "class objects can be made _callable_, which allows objects to be treated like a functions. If an object is callable it means you can use the round parentheses function call syntax on it and even pass in function call arguments."
   ]
  },
  {
   "cell_type": "code",
   "execution_count": 29,
   "id": "cb744be0",
   "metadata": {},
   "outputs": [
    {
     "name": "stdout",
     "output_type": "stream",
     "text": [
      "7\n"
     ]
    },
    {
     "data": {
      "text/plain": [
       "True"
      ]
     },
     "execution_count": 29,
     "metadata": {},
     "output_type": "execute_result"
    }
   ],
   "source": [
    "class Adder:\n",
    "    def __init__(self, n):\n",
    "        self.n = n\n",
    "    \n",
    "    def __call__(self, x):\n",
    "        return self.n + x\n",
    "    \n",
    "plus_3 = Adder(3)\n",
    "print(plus_3(4)) # call object instance as function \n",
    "\n",
    "callable(plus_3)"
   ]
  },
  {
   "cell_type": "markdown",
   "id": "1c0080ec",
   "metadata": {},
   "source": [
    "The `lambda` keyword in Python provides a shortcut for declaring small anonymous functions. Lambda functions are restricted to a single expression. Lambda evaluates its expression and then automatically returns the expression's result."
   ]
  },
  {
   "cell_type": "code",
   "execution_count": 30,
   "id": "bea5ebd1",
   "metadata": {},
   "outputs": [
    {
     "data": {
      "text/plain": [
       "9"
      ]
     },
     "execution_count": 30,
     "metadata": {},
     "output_type": "execute_result"
    }
   ],
   "source": [
    "(lambda x, y: x+y)(5, 4) # function expression"
   ]
  },
  {
   "cell_type": "code",
   "execution_count": 31,
   "id": "29bf1718",
   "metadata": {},
   "outputs": [
    {
     "name": "stdout",
     "output_type": "stream",
     "text": [
      "[(1, 'd'), (2, 'b'), (3, 'c'), (4, 'a')]\n",
      "[(4, 'a'), (2, 'b'), (3, 'c'), (1, 'd')]\n"
     ]
    }
   ],
   "source": [
    "tuples = [(1, 'd'), (2, 'b'), (4, 'a'), (3, 'c')]\n",
    "print(sorted(tuples))\n",
    "print(sorted(tuples, key=lambda x: x[1]))"
   ]
  },
  {
   "cell_type": "code",
   "execution_count": 33,
   "id": "6dccee21",
   "metadata": {},
   "outputs": [
    {
     "name": "stdout",
     "output_type": "stream",
     "text": [
      "[-5, -4, -3, -2, -1, 0, 1, 2, 3, 4, 5]\n",
      "[0, -1, 1, -2, 2, -3, 3, -4, 4, -5, 5]\n"
     ]
    }
   ],
   "source": [
    "print(sorted(range(-5, 6)))\n",
    "print(sorted(range(-5, 6), key=lambda x: x*x))"
   ]
  },
  {
   "cell_type": "markdown",
   "id": "d01b1f86",
   "metadata": {},
   "source": [
    "Python’s **decorators** allow you to extend and modify the\n",
    "behavior of a callable (functions, methods, and classes) without permanently modifying the callable itself.\n",
    "\n",
    "Python's decorators _\"decorate”_ or _“wrap”_ another function\n",
    "and let you execute code _before_ and _after_ the wrapped function runs.\n",
    "\n",
    "A decorator is a _callable that takes a callable as input and returns another callable_.\n",
    "\n",
    "Putting an @null_decorator line in front of the function definition is the same as defining the function first and then running through the decorator.\n",
    "\n",
    "Python’s `*args` and `**kwargs` feature for dealing with variable\n",
    "numbers of arguments. `*` and `**` collect all positional and keyword arguments and stores them in variables `args` and `kwargs`. "
   ]
  },
  {
   "cell_type": "code",
   "execution_count": 37,
   "id": "44def7c2",
   "metadata": {},
   "outputs": [
    {
     "name": "stdout",
     "output_type": "stream",
     "text": [
      "Hello!\n",
      "HELLO\n"
     ]
    }
   ],
   "source": [
    "# Null decorator\n",
    "def null_decorator(func):\n",
    "    return func\n",
    "\n",
    "def greet():\n",
    "    return 'Hello'\n",
    "\n",
    "greet = null_decorator(greet)\n",
    "\n",
    "@null_decorator   # same as above explicit initialization\n",
    "def greet():\n",
    "    return 'Hello!'\n",
    "\n",
    "print(greet())\n",
    "\n",
    "# Another decorator\n",
    "def uppercase(func):\n",
    "    def wrapper():\n",
    "        original_result = func()\n",
    "        modified_result = original_result.upper()\n",
    "        return modified_result\n",
    "    return wrapper\n",
    "\n",
    "@uppercase\n",
    "def greet():\n",
    "    return 'Hello'\n",
    "\n",
    "print(greet())"
   ]
  },
  {
   "cell_type": "code",
   "execution_count": 40,
   "id": "414301d2",
   "metadata": {},
   "outputs": [
    {
     "name": "stdout",
     "output_type": "stream",
     "text": [
      "<strong><em>Hello!</em></strong>\n"
     ]
    }
   ],
   "source": [
    "def strong(func):\n",
    "    def wrapper():\n",
    "        return '<strong>' + func() + '</strong>'\n",
    "    return wrapper\n",
    "\n",
    "def emphasis(func):\n",
    "    def wrapper():\n",
    "        return '<em>' + func() + '</em>'\n",
    "    return wrapper\n",
    "\n",
    "# Both are same \n",
    "# decorated_greet = strong(emphasis(greet))\n",
    "\n",
    "@strong\n",
    "@emphasis\n",
    "def greet():\n",
    "    return 'Hello!'\n",
    "\n",
    "print(greet())"
   ]
  },
  {
   "cell_type": "code",
   "execution_count": 44,
   "id": "24226b7d",
   "metadata": {},
   "outputs": [
    {
     "name": "stdout",
     "output_type": "stream",
     "text": [
      "TRACE: calling say() with ('ABC', 'def'), {}\n",
      "TRACE: say()returned ABC: def\n",
      "ABC: def\n"
     ]
    }
   ],
   "source": [
    "def proxy(func):\n",
    "    def wrapper(*args, **kwargs):\n",
    "        return func(*argc, **kwargs)\n",
    "    return wrapper\n",
    "\n",
    "\n",
    "def trace(func):\n",
    "    def wrapper(*args, **kwargs):\n",
    "        print(f'TRACE: calling {func.__name__}()'\n",
    "              f' with {args}, {kwargs}')\n",
    "        \n",
    "        original_result = func(*args, **kwargs)\n",
    "        \n",
    "        print(f'TRACE: {func.__name__}()' \n",
    "             f'returned {original_result}')\n",
    "        return original_result\n",
    "    return wrapper\n",
    "\n",
    "\n",
    "@trace\n",
    "def say(name, line):\n",
    "    return f'{name}: {line}'\n",
    "\n",
    "print(say('ABC', 'def'))"
   ]
  },
  {
   "cell_type": "markdown",
   "id": "7432319c",
   "metadata": {},
   "source": [
    "One downside of decorator is that it \"hides\" some of the metadata attached to the original (undecorated) function.\n",
    "\n",
    "Use `functools.wraps` decorator in user defined decorators to copy over the lost metadata from undecorated function."
   ]
  },
  {
   "cell_type": "code",
   "execution_count": 53,
   "id": "a61db138",
   "metadata": {},
   "outputs": [
    {
     "name": "stdout",
     "output_type": "stream",
     "text": [
      "wrapper\n",
      "None\n"
     ]
    }
   ],
   "source": [
    "def greet():\n",
    "    \"\"\"Return a friendly greeting\"\"\"\n",
    "    return 'Hello'\n",
    "\n",
    "def my_decorator(func):\n",
    "    def wrapper(*args, **kwargs):\n",
    "        return func().upper() + \"!\"\n",
    "    return wrapper\n",
    "\n",
    "decorated_greet = my_decorator(greet)\n",
    "\n",
    "# print(greet.__name__)\n",
    "# print(greet.__doc__)\n",
    "print(decorated_greet.__name__)\n",
    "print(decorated_greet.__doc__)\n",
    "\n",
    "# import functools\n",
    "\n",
    "# def uppercase(func):\n",
    "#     @functools.wraps(func)\n",
    "#     def wrapper():\n",
    "#         return func().upper()\n",
    "#     return wrapper\n",
    "\n",
    "# @uppercase\n",
    "# def greet():\n",
    "#     \"\"\"Return a friendly greeting\"\"\"\n",
    "#     return 'Hello'\n",
    "\n",
    "# print(greet.__name__)\n",
    "# print(greet.__doc__)\n",
    "    "
   ]
  },
  {
   "cell_type": "markdown",
   "id": "395b1ac7",
   "metadata": {},
   "source": [
    "`args` will collect extra positional arguments as a tuple because the parameter name has a `*` prefix. Likewise, `kwargs` will collect extra keywords arguments as a dictionary because the parameter name has a `**` prefix.\n",
    "\n"
   ]
  },
  {
   "cell_type": "code",
   "execution_count": 58,
   "id": "f41ead1d",
   "metadata": {},
   "outputs": [
    {
     "name": "stdout",
     "output_type": "stream",
     "text": [
      "hi\n",
      "hi\n",
      "('hello', 1, 2, 3)\n",
      "hi\n",
      "('hello', 1, 2, 3)\n",
      "{'k1': 'value', 'k2': 999}\n",
      "hi\n",
      "('hello', 1, 2, 3)\n",
      "{'k1': 'value', 'k2': 999}\n",
      "1\n",
      "(2, 3, 4, 'extra')\n",
      "{'k1': 'value, k2=101', 'name': 'Aamir'}\n"
     ]
    }
   ],
   "source": [
    "def foo(required, *args, **kwargs):\n",
    "    print(required)\n",
    "    if args:\n",
    "        print(args)\n",
    "    if kwargs:\n",
    "        print(kwargs)\n",
    "\n",
    "def bar(x, *args, **kwargs):\n",
    "    kwargs['name'] = 'Aamir'\n",
    "    args = args + ('extra', )\n",
    "    foo(x, *args, **kwargs)\n",
    "    \n",
    "foo('hi')\n",
    "foo('hi', 'hello', 1, 2, 3)\n",
    "foo('hi', 'hello', 1, 2, 3, k1='value', k2=999)\n",
    "foo('hi', 'hello', 1, 2, 3, k1='value', k2=999)\n",
    "bar(1, 2, 3, 4, k1='value, k2=101')"
   ]
  },
  {
   "cell_type": "markdown",
   "id": "53a5866c",
   "metadata": {},
   "source": [
    "_Function Argument Unpacking_ using `*` operator.\n",
    "\n",
    "Puttin a `*` before an iterable in a function call will _unpack_ it and pass its elements as separate positional arguments to the called function.\n",
    "\n",
    "`**` operator for unpacking keyword arguments from dictionaries."
   ]
  },
  {
   "cell_type": "code",
   "execution_count": 62,
   "id": "b9b4af21",
   "metadata": {},
   "outputs": [
    {
     "name": "stdout",
     "output_type": "stream",
     "text": [
      "<1, 0, 1>\n",
      "<1, 2, 1>\n",
      "<1, 2, 3>\n",
      "<y, z, x>\n"
     ]
    }
   ],
   "source": [
    "def print_vector(x, y, z):\n",
    "    print('<%s, %s, %s>' % (x, y, z))\n",
    "    \n",
    "tuple_vec = (1, 0, 1)\n",
    "list_vec = [1, 2, 1]\n",
    "print_vector(*tuple_vec)\n",
    "print_vector(*list_vec)\n",
    "\n",
    "dict_vec = {'y': 2, 'z': 3, 'x': 1}\n",
    "print_vector(**dict_vec)\n",
    "\n",
    "print_vector(*dict_vec)"
   ]
  },
  {
   "cell_type": "markdown",
   "id": "cd56f025",
   "metadata": {},
   "source": [
    "The `==` operator compares by checking for _equality_. The `is` operator, however, compares _identities_. is check if both objects are pointing to the same object."
   ]
  },
  {
   "cell_type": "code",
   "execution_count": 65,
   "id": "4488cbb4",
   "metadata": {},
   "outputs": [
    {
     "name": "stdout",
     "output_type": "stream",
     "text": [
      "True\n",
      "True\n",
      "True\n",
      "False\n"
     ]
    }
   ],
   "source": [
    "a = [1, 2, 3]\n",
    "b = a\n",
    "c = list(a)  # create a copy of list object\n",
    "\n",
    "print(a==b)\n",
    "print(a is b)\n",
    "\n",
    "print(a==c)\n",
    "print(a is c)"
   ]
  },
  {
   "cell_type": "markdown",
   "id": "7bcb1516",
   "metadata": {},
   "source": [
    "The default \"to string\" conversion behavior of a class object is basic and lacks details.\n",
    "\n",
    "Instead of building your own to-string conversion machinery, you’ll\n",
    "be better off adding the `__str__` and `__repr__` “dunder” methods to your class.\n",
    "\n",
    "`__str__` is one of Python’s “dunder” (double-underscore) methods\n",
    "and gets called when you try to convert an object into a string through the various means that are available:\n",
    "\n",
    "inspecting an object in a Python interpreter session simply prints the result of the object’s `__repr__` .\n",
    "\n",
    "We could copy and paste the string returned by `__repr__` and execute\n",
    "it as valid Python to recreate the original date object."
   ]
  },
  {
   "cell_type": "code",
   "execution_count": 73,
   "id": "be76173d",
   "metadata": {},
   "outputs": [
    {
     "name": "stdout",
     "output_type": "stream",
     "text": [
      "__str__ for Car\n"
     ]
    },
    {
     "data": {
      "text/plain": [
       "__repr__ for Car"
      ]
     },
     "execution_count": 73,
     "metadata": {},
     "output_type": "execute_result"
    }
   ],
   "source": [
    "# class Car:\n",
    "#     def __init__(self, color, mileage):\n",
    "#         self.color = color\n",
    "#         self.mileage = mileage\n",
    "        \n",
    "# my_car = Car('red', 37281)\n",
    "# print(my_car)\n",
    "# my_car\n",
    "\n",
    "class Car:\n",
    "    def __init__(self, color, mileage):\n",
    "        self.color = color\n",
    "        self.mileage = mileage\n",
    "    \n",
    "    def __repr__(self):\n",
    "        return '__repr__ for Car'\n",
    "    \n",
    "    def __str__(self):\n",
    "#         return f'a {self.color} car'\n",
    "        return '__str__ for Car'\n",
    "\n",
    "my_car = Car('red', 37281)\n",
    "print(my_car)\n",
    "# str(my_car)\n",
    "# '{}'.format(my_car)\n",
    "my_car"
   ]
  },
  {
   "cell_type": "code",
   "execution_count": 74,
   "id": "d792f058",
   "metadata": {},
   "outputs": [
    {
     "name": "stdout",
     "output_type": "stream",
     "text": [
      "__str__ for Car\n",
      "__repr__ for Car\n"
     ]
    }
   ],
   "source": [
    "print(str(my_car))\n",
    "print(repr(my_car))"
   ]
  },
  {
   "cell_type": "code",
   "execution_count": 75,
   "id": "6ece9012",
   "metadata": {},
   "outputs": [
    {
     "data": {
      "text/plain": [
       "'2021-09-10'"
      ]
     },
     "execution_count": 75,
     "metadata": {},
     "output_type": "execute_result"
    }
   ],
   "source": [
    "import datetime\n",
    "today = datetime.date.today()\n",
    "str(today)"
   ]
  },
  {
   "cell_type": "code",
   "execution_count": 76,
   "id": "ad76024e",
   "metadata": {},
   "outputs": [
    {
     "data": {
      "text/plain": [
       "'datetime.date(2021, 9, 10)'"
      ]
     },
     "execution_count": 76,
     "metadata": {},
     "output_type": "execute_result"
    }
   ],
   "source": [
    "repr(today)"
   ]
  },
  {
   "cell_type": "code",
   "execution_count": 79,
   "id": "a9a2916b",
   "metadata": {},
   "outputs": [
    {
     "name": "stdout",
     "output_type": "stream",
     "text": [
      "Car('blue', 12345)\n"
     ]
    },
    {
     "data": {
      "text/plain": [
       "Car('blue', 12345)"
      ]
     },
     "execution_count": 79,
     "metadata": {},
     "output_type": "execute_result"
    }
   ],
   "source": [
    "class Car:\n",
    "    def __init__(self, color, mileage):\n",
    "        self.color = color\n",
    "        self.mileage = mileage\n",
    "    \n",
    "    def __repr__(self):\n",
    "#         return f'Car({self.color!r}, {self.mileage!r}')\n",
    "        return (f'{self.__class__.__name__}('\n",
    "               f'{self.color!r}, {self.mileage!r})')\n",
    "\n",
    "my_car = Car('blue', 12345)\n",
    "print(my_car)\n",
    "my_car\n",
    "        "
   ]
  },
  {
   "cell_type": "markdown",
   "id": "05324a86",
   "metadata": {},
   "source": [
    "In Python 2.x there are two types to represent text: `str` , which is limited to the **ASCII** character set, and `unicode`, which is equivalent to Python 3’s `str`."
   ]
  },
  {
   "cell_type": "code",
   "execution_count": 80,
   "id": "bf41c9b1",
   "metadata": {},
   "outputs": [
    {
     "ename": "NameTooShortError",
     "evalue": "ali",
     "output_type": "error",
     "traceback": [
      "\u001b[0;31m---------------------------------------------------------------------------\u001b[0m",
      "\u001b[0;31mNameTooShortError\u001b[0m                         Traceback (most recent call last)",
      "\u001b[0;32m<ipython-input-80-ba9d5c20cbb7>\u001b[0m in \u001b[0;36m<module>\u001b[0;34m\u001b[0m\n\u001b[1;32m      7\u001b[0m         \u001b[0;32mraise\u001b[0m \u001b[0mNameTooShortError\u001b[0m\u001b[0;34m(\u001b[0m\u001b[0mname\u001b[0m\u001b[0;34m)\u001b[0m\u001b[0;34m\u001b[0m\u001b[0;34m\u001b[0m\u001b[0m\n\u001b[1;32m      8\u001b[0m \u001b[0;34m\u001b[0m\u001b[0m\n\u001b[0;32m----> 9\u001b[0;31m \u001b[0mvalidate\u001b[0m\u001b[0;34m(\u001b[0m\u001b[0;34m'ali'\u001b[0m\u001b[0;34m)\u001b[0m\u001b[0;34m\u001b[0m\u001b[0;34m\u001b[0m\u001b[0m\n\u001b[0m",
      "\u001b[0;32m<ipython-input-80-ba9d5c20cbb7>\u001b[0m in \u001b[0;36mvalidate\u001b[0;34m(name)\u001b[0m\n\u001b[1;32m      5\u001b[0m \u001b[0;32mdef\u001b[0m \u001b[0mvalidate\u001b[0m\u001b[0;34m(\u001b[0m\u001b[0mname\u001b[0m\u001b[0;34m)\u001b[0m\u001b[0;34m:\u001b[0m\u001b[0;34m\u001b[0m\u001b[0;34m\u001b[0m\u001b[0m\n\u001b[1;32m      6\u001b[0m     \u001b[0;32mif\u001b[0m \u001b[0mlen\u001b[0m\u001b[0;34m(\u001b[0m\u001b[0mname\u001b[0m\u001b[0;34m)\u001b[0m \u001b[0;34m<\u001b[0m \u001b[0;36m10\u001b[0m\u001b[0;34m:\u001b[0m\u001b[0;34m\u001b[0m\u001b[0;34m\u001b[0m\u001b[0m\n\u001b[0;32m----> 7\u001b[0;31m         \u001b[0;32mraise\u001b[0m \u001b[0mNameTooShortError\u001b[0m\u001b[0;34m(\u001b[0m\u001b[0mname\u001b[0m\u001b[0;34m)\u001b[0m\u001b[0;34m\u001b[0m\u001b[0;34m\u001b[0m\u001b[0m\n\u001b[0m\u001b[1;32m      8\u001b[0m \u001b[0;34m\u001b[0m\u001b[0m\n\u001b[1;32m      9\u001b[0m \u001b[0mvalidate\u001b[0m\u001b[0;34m(\u001b[0m\u001b[0;34m'ali'\u001b[0m\u001b[0;34m)\u001b[0m\u001b[0;34m\u001b[0m\u001b[0;34m\u001b[0m\u001b[0m\n",
      "\u001b[0;31mNameTooShortError\u001b[0m: ali"
     ]
    }
   ],
   "source": [
    "# Custom Exception\n",
    "class NameTooShortError(ValueError):\n",
    "    pass\n",
    "\n",
    "def validate(name):\n",
    "    if len(name) < 10:\n",
    "        raise NameTooShortError(name)\n",
    "        \n",
    "validate('ali')"
   ]
  },
  {
   "cell_type": "markdown",
   "id": "4bfad3c9",
   "metadata": {},
   "source": [
    "Assignment statements in Python do not create copies of objects, they\n",
    "only bind names to an object. For immutable objects, that usually\n",
    "doesn’t make a difference."
   ]
  },
  {
   "cell_type": "code",
   "execution_count": null,
   "id": "88051872",
   "metadata": {},
   "outputs": [],
   "source": [
    "# Copy built-in mutable collections\n",
    "new_list = list(original_list)\n",
    "new_dict = dict(original_dict)\n",
    "new_set = set(original_set)"
   ]
  },
  {
   "cell_type": "markdown",
   "id": "24438e41",
   "metadata": {},
   "source": [
    "A **shallow copy** means constructing a new collection object and then\n",
    "populating it with references to the child objects found in the original. In essence, a shallow copy is only _one level deep_. The copying process does not recurse and therefore won’t create copies of the child objects themselves.\n",
    "\n",
    "A **deep copy** makes the copying process recursive.\n",
    "\n",
    "The `copy.copy()` function creates shallow copies of objects.\n",
    "\n",
    "The `copy.deepcopy()` function creates a deep copy of object.\n",
    "\n",
    "objects can control how they’re copied by defining the special methods `__copy__()` and `__deepcopy__()` on them."
   ]
  },
  {
   "cell_type": "code",
   "execution_count": 82,
   "id": "bc8ab417",
   "metadata": {},
   "outputs": [
    {
     "name": "stdout",
     "output_type": "stream",
     "text": [
      "[[1, 2, 3], [4, 5, 6], [7, 8, 9]]\n",
      "[[1, 2, 3], [4, 5, 6], [7, 8, 9]]\n"
     ]
    }
   ],
   "source": [
    "xs = [\n",
    "        [1, 2, 3], \n",
    "        [4, 5, 6],\n",
    "        [7, 8, 9]\n",
    "     ]\n",
    "ys = list(xs) # shallow copy\n",
    "print(xs)\n",
    "print(ys)"
   ]
  },
  {
   "cell_type": "code",
   "execution_count": 83,
   "id": "fe48f5fc",
   "metadata": {},
   "outputs": [
    {
     "name": "stdout",
     "output_type": "stream",
     "text": [
      "[[1, 2, 3], [4, 5, 6], [7, 8, 9], ['new sublist']]\n",
      "[[1, 2, 3], [4, 5, 6], [7, 8, 9]]\n"
     ]
    }
   ],
   "source": [
    "xs.append(['new sublist'])\n",
    "print(xs)\n",
    "print(ys)"
   ]
  },
  {
   "cell_type": "code",
   "execution_count": 84,
   "id": "9437f78a",
   "metadata": {},
   "outputs": [
    {
     "name": "stdout",
     "output_type": "stream",
     "text": [
      "[[1, 2, 3], ['X', 5, 6], [7, 8, 9], ['new sublist']]\n",
      "[[1, 2, 3], ['X', 5, 6], [7, 8, 9]]\n"
     ]
    }
   ],
   "source": [
    "xs[1][0] = 'X'\n",
    "print(xs)\n",
    "print(ys)"
   ]
  },
  {
   "cell_type": "code",
   "execution_count": 85,
   "id": "6db681b9",
   "metadata": {},
   "outputs": [
    {
     "name": "stdout",
     "output_type": "stream",
     "text": [
      "[[1, 2, 3], ['X', 5, 6], [7, 8, 9]]\n",
      "[[1, 2, 3], [4, 5, 6], [7, 8, 9]]\n"
     ]
    }
   ],
   "source": [
    "import copy\n",
    "xs = [\n",
    "        [1, 2, 3], \n",
    "        [4, 5, 6],\n",
    "        [7, 8, 9]\n",
    "     ]\n",
    "zs = copy.deepcopy(xs)\n",
    "xs[1][0] = 'X'\n",
    "print(xs)\n",
    "print(zs)"
   ]
  },
  {
   "cell_type": "code",
   "execution_count": 87,
   "id": "43ce27f0",
   "metadata": {},
   "outputs": [
    {
     "name": "stdout",
     "output_type": "stream",
     "text": [
      "Point(10, 20)\n",
      "Point(10, 20)\n",
      "False\n"
     ]
    }
   ],
   "source": [
    "import copy\n",
    "\n",
    "class Point:\n",
    "    def __init__(self, x, y):\n",
    "        self.x = x\n",
    "        self.y = y\n",
    "        \n",
    "    def __repr__(self):\n",
    "        return f'Point({self.x!r}, {self.y!r})'\n",
    "    \n",
    "a = Point(10, 20)\n",
    "b = copy.copy(a)\n",
    "print(a)\n",
    "print(b)\n",
    "print(a is b)"
   ]
  },
  {
   "cell_type": "code",
   "execution_count": 90,
   "id": "6de2f91d",
   "metadata": {},
   "outputs": [
    {
     "name": "stdout",
     "output_type": "stream",
     "text": [
      "Rectangle(Point(0, 1),Point(5, 6))\n",
      "Rectangle(Point(0, 1),Point(5, 6))\n",
      "False\n",
      "Rectangle(Point(999, 1),Point(5, 6))\n",
      "Rectangle(Point(999, 1),Point(5, 6))\n"
     ]
    }
   ],
   "source": [
    "class Rectangle:\n",
    "    def __init__(self, topleft, bottomright):\n",
    "        self.topleft = topleft\n",
    "        self.bottomright = bottomright\n",
    "        \n",
    "    def __repr__(self):\n",
    "        return (f'Rectangle({self.topleft!r},' \n",
    "               f'{self.bottomright!r})')\n",
    "    \n",
    "rect = Rectangle(Point(0, 1), Point(5, 6))\n",
    "srect = copy.copy(rect)\n",
    "print(rect)\n",
    "print(srect)\n",
    "print(rect is srect)\n",
    "\n",
    "rect.topleft.x = 999\n",
    "print(rect)\n",
    "print(srect)\n"
   ]
  },
  {
   "cell_type": "code",
   "execution_count": 92,
   "id": "2369d9e3",
   "metadata": {},
   "outputs": [
    {
     "name": "stdout",
     "output_type": "stream",
     "text": [
      "Rectangle(Point(222, 1),Point(5, 6))\n",
      "Rectangle(Point(999, 1),Point(5, 6))\n"
     ]
    }
   ],
   "source": [
    "drect = copy.deepcopy(srect)\n",
    "drect.topleft.x = 222\n",
    "print(drect)\n",
    "print(srect)"
   ]
  },
  {
   "cell_type": "markdown",
   "id": "ae7fc717",
   "metadata": {},
   "source": [
    "**Abstract Base Classes (ABCs)** ensure that derived classes implement\n",
    "particular methods from the base class.\n",
    "\n",
    "Python’s `abc` module that was added in Python 2.6."
   ]
  },
  {
   "cell_type": "code",
   "execution_count": 94,
   "id": "2ad7c0d1",
   "metadata": {},
   "outputs": [
    {
     "ename": "NotImplementedError",
     "evalue": "",
     "output_type": "error",
     "traceback": [
      "\u001b[0;31m---------------------------------------------------------------------------\u001b[0m",
      "\u001b[0;31mNotImplementedError\u001b[0m                       Traceback (most recent call last)",
      "\u001b[0;32m<ipython-input-94-2e5a98787745>\u001b[0m in \u001b[0;36m<module>\u001b[0;34m\u001b[0m\n\u001b[1;32m     11\u001b[0m \u001b[0;34m\u001b[0m\u001b[0m\n\u001b[1;32m     12\u001b[0m \u001b[0mb\u001b[0m \u001b[0;34m=\u001b[0m \u001b[0mBase\u001b[0m\u001b[0;34m(\u001b[0m\u001b[0;34m)\u001b[0m\u001b[0;34m\u001b[0m\u001b[0;34m\u001b[0m\u001b[0m\n\u001b[0;32m---> 13\u001b[0;31m \u001b[0mb\u001b[0m\u001b[0;34m.\u001b[0m\u001b[0mfoo\u001b[0m\u001b[0;34m(\u001b[0m\u001b[0;34m)\u001b[0m\u001b[0;34m\u001b[0m\u001b[0;34m\u001b[0m\u001b[0m\n\u001b[0m\u001b[1;32m     14\u001b[0m \u001b[0mc\u001b[0m \u001b[0;34m=\u001b[0m \u001b[0mConcrete\u001b[0m\u001b[0;34m(\u001b[0m\u001b[0;34m)\u001b[0m\u001b[0;34m\u001b[0m\u001b[0;34m\u001b[0m\u001b[0m\n",
      "\u001b[0;32m<ipython-input-94-2e5a98787745>\u001b[0m in \u001b[0;36mfoo\u001b[0;34m(self)\u001b[0m\n\u001b[1;32m      1\u001b[0m \u001b[0;32mclass\u001b[0m \u001b[0mBase\u001b[0m\u001b[0;34m:\u001b[0m\u001b[0;34m\u001b[0m\u001b[0;34m\u001b[0m\u001b[0m\n\u001b[1;32m      2\u001b[0m     \u001b[0;32mdef\u001b[0m \u001b[0mfoo\u001b[0m\u001b[0;34m(\u001b[0m\u001b[0mself\u001b[0m\u001b[0;34m)\u001b[0m\u001b[0;34m:\u001b[0m\u001b[0;34m\u001b[0m\u001b[0;34m\u001b[0m\u001b[0m\n\u001b[0;32m----> 3\u001b[0;31m         \u001b[0;32mraise\u001b[0m \u001b[0mNotImplementedError\u001b[0m\u001b[0;34m(\u001b[0m\u001b[0;34m)\u001b[0m\u001b[0;34m\u001b[0m\u001b[0;34m\u001b[0m\u001b[0m\n\u001b[0m\u001b[1;32m      4\u001b[0m \u001b[0;34m\u001b[0m\u001b[0m\n\u001b[1;32m      5\u001b[0m     \u001b[0;32mdef\u001b[0m \u001b[0mbar\u001b[0m\u001b[0;34m(\u001b[0m\u001b[0mself\u001b[0m\u001b[0;34m)\u001b[0m\u001b[0;34m:\u001b[0m\u001b[0;34m\u001b[0m\u001b[0;34m\u001b[0m\u001b[0m\n",
      "\u001b[0;31mNotImplementedError\u001b[0m: "
     ]
    }
   ],
   "source": [
    "class Base:\n",
    "    def foo(self):\n",
    "        raise NotImplementedError()\n",
    "    \n",
    "    def bar(self):\n",
    "        raise NotImplementedError()\n",
    "        \n",
    "class Concrete(Base):\n",
    "    def foo(self):\n",
    "        return 'foo() called'\n",
    "\n",
    "b = Base()\n",
    "b.foo()\n",
    "c = Concrete()"
   ]
  },
  {
   "cell_type": "code",
   "execution_count": 96,
   "id": "12e21d4d",
   "metadata": {},
   "outputs": [
    {
     "ename": "TypeError",
     "evalue": "Can't instantiate abstract class Base with abstract methods bar, foo",
     "output_type": "error",
     "traceback": [
      "\u001b[0;31m---------------------------------------------------------------------------\u001b[0m",
      "\u001b[0;31mTypeError\u001b[0m                                 Traceback (most recent call last)",
      "\u001b[0;32m<ipython-input-96-fccc82519ab8>\u001b[0m in \u001b[0;36m<module>\u001b[0;34m\u001b[0m\n\u001b[1;32m     14\u001b[0m         \u001b[0;32mpass\u001b[0m\u001b[0;34m\u001b[0m\u001b[0;34m\u001b[0m\u001b[0m\n\u001b[1;32m     15\u001b[0m \u001b[0;34m\u001b[0m\u001b[0m\n\u001b[0;32m---> 16\u001b[0;31m \u001b[0mb\u001b[0m \u001b[0;34m=\u001b[0m \u001b[0mBase\u001b[0m\u001b[0;34m(\u001b[0m\u001b[0;34m)\u001b[0m\u001b[0;34m\u001b[0m\u001b[0;34m\u001b[0m\u001b[0m\n\u001b[0m",
      "\u001b[0;31mTypeError\u001b[0m: Can't instantiate abstract class Base with abstract methods bar, foo"
     ]
    }
   ],
   "source": [
    "from abc import ABCMeta, abstractmethod\n",
    "\n",
    "class Base(metaclass=ABCMeta):\n",
    "    @abstractmethod\n",
    "    def foo(self):\n",
    "        pass\n",
    "    \n",
    "    @abstractmethod\n",
    "    def bar(self):\n",
    "        pass\n",
    "    \n",
    "class Concrete(Base):\n",
    "    def foo(self):\n",
    "        pass\n",
    "    \n",
    "b = Base()\n"
   ]
  },
  {
   "cell_type": "code",
   "execution_count": 97,
   "id": "03ec69d4",
   "metadata": {},
   "outputs": [
    {
     "ename": "TypeError",
     "evalue": "Can't instantiate abstract class Concrete with abstract methods bar",
     "output_type": "error",
     "traceback": [
      "\u001b[0;31m---------------------------------------------------------------------------\u001b[0m",
      "\u001b[0;31mTypeError\u001b[0m                                 Traceback (most recent call last)",
      "\u001b[0;32m<ipython-input-97-18c56bd1fab2>\u001b[0m in \u001b[0;36m<module>\u001b[0;34m\u001b[0m\n\u001b[0;32m----> 1\u001b[0;31m \u001b[0mc\u001b[0m \u001b[0;34m=\u001b[0m \u001b[0mConcrete\u001b[0m\u001b[0;34m(\u001b[0m\u001b[0;34m)\u001b[0m\u001b[0;34m\u001b[0m\u001b[0;34m\u001b[0m\u001b[0m\n\u001b[0m",
      "\u001b[0;31mTypeError\u001b[0m: Can't instantiate abstract class Concrete with abstract methods bar"
     ]
    }
   ],
   "source": [
    "c = Concrete()"
   ]
  },
  {
   "cell_type": "markdown",
   "id": "c6e5a2ef",
   "metadata": {},
   "source": [
    "Namedtuples can be a great alternative to defining a class manually.\n",
    "\n",
    "Python’s tuples are a simple data structure for grouping arbitrary\n",
    "objects. Tuples are also immutable. One downside of plain tuples is that the data you store in them can only be pulled out by accessing it through integer indexes.\n",
    "\n",
    "**namedtuples** are immutable containers, just like regular tuples.\n",
    "\n",
    "Each object stored in **namedtuples** can be accessed through a unique (human-readable) identifier. namedtuple’s factory function calls split() on the field names string to parse it into a list of field names.\n",
    "\n",
    "namedtuples are a memory efficient shortcut to defining an immutable class in Python manually.\n",
    "\n",
    "namedtuple usefull attributes:\n",
    "_fields\n",
    "_asdict()\n",
    "_replace\n",
    "_make"
   ]
  },
  {
   "cell_type": "code",
   "execution_count": 104,
   "id": "92d550fe",
   "metadata": {},
   "outputs": [
    {
     "name": "stdout",
     "output_type": "stream",
     "text": [
      "gray\n",
      "73200\n",
      "\n",
      "gray\n",
      "73200\n",
      "gray 73200\n",
      "gray 73200\n"
     ]
    },
    {
     "data": {
      "text/plain": [
       "Car(color='gray', mileage=73200)"
      ]
     },
     "execution_count": 104,
     "metadata": {},
     "output_type": "execute_result"
    }
   ],
   "source": [
    "from collections import namedtuple\n",
    "# first parameter 'Car' is referred to as \"typename\"\n",
    "Car = namedtuple('Car', 'color mileage')\n",
    "Car = namedtuple('Car', ['color', 'mileage'])\n",
    "my_car = Car('gray', 73200)\n",
    "print(my_car.color)\n",
    "print(my_car.mileage)\n",
    "print('')\n",
    "print(my_car[0])\n",
    "print(my_car[1])\n",
    "\n",
    "tuple(my_car)\n",
    "c, m = my_car\n",
    "print(c, m)\n",
    "\n",
    "print(*my_car)\n",
    "my_car"
   ]
  },
  {
   "cell_type": "code",
   "execution_count": 107,
   "id": "8990e9a4",
   "metadata": {},
   "outputs": [
    {
     "name": "stdout",
     "output_type": "stream",
     "text": [
      "#000000\n",
      "#ff0000\n"
     ]
    }
   ],
   "source": [
    "Car = namedtuple('Car', ['color', 'mileage'])\n",
    "\n",
    "class MyCarWithMethods(Car):\n",
    "    def hexcolor(self):\n",
    "        if self.color == 'red':\n",
    "            return '#ff0000'\n",
    "        else:\n",
    "            return '#000000'\n",
    "        \n",
    "\n",
    "c = MyCarWithMethods('gray', 2300)\n",
    "print(c.hexcolor())\n",
    "\n",
    "c = MyCarWithMethods('red', 1234)\n",
    "print(c.hexcolor())"
   ]
  },
  {
   "cell_type": "code",
   "execution_count": 120,
   "id": "ae4d6f36",
   "metadata": {},
   "outputs": [
    {
     "name": "stdout",
     "output_type": "stream",
     "text": [
      "ElectricCar(color='red', mileage=1234, charge=45.0)\n",
      "{'color': 'red', 'mileage': 1234, 'charge': 45.0}\n"
     ]
    },
    {
     "data": {
      "text/plain": [
       "ElectricCar(color='blue', mileage=1234, charge=45.0)"
      ]
     },
     "execution_count": 120,
     "metadata": {},
     "output_type": "execute_result"
    }
   ],
   "source": [
    "Car = namedtuple('Car', ['color', 'mileage'])\n",
    "ElectricCar = namedtuple('ElectricCar', Car._fields + ('charge', ))\n",
    "e = ElectricCar('red', 1234, 45.0)\n",
    "print(e)\n",
    "\n",
    "print(e._asdict())\n",
    "\n",
    "import json\n",
    "json.dumps(e._asdict())\n",
    "\n",
    "e._replace(color='blue')"
   ]
  },
  {
   "cell_type": "markdown",
   "id": "32901cef",
   "metadata": {},
   "source": [
    "**Class variables** (static variables) are declared inside the class definition (but outside of any instance methods).\n",
    "\n",
    "**Instance variables** are always tied to a particular object instance.\n",
    "\n",
    "Trying to modify a class variable through an object instance (jack.num_legs = 6), which then accidentally creates an instance variable of the same name, shadowing the original class variable—is a bit of an OOP pitfall in Python."
   ]
  },
  {
   "cell_type": "code",
   "execution_count": 122,
   "id": "0385305d",
   "metadata": {},
   "outputs": [
    {
     "name": "stdout",
     "output_type": "stream",
     "text": [
      "Jack Jill\n",
      "4 4\n",
      "4\n"
     ]
    }
   ],
   "source": [
    "class Dog:\n",
    "    num_legs = 4   # <- Class variable\n",
    "    \n",
    "    def __init__(self, name):\n",
    "        self.name = name # <- Instance variable\n",
    "        \n",
    "jack = Dog('Jack')\n",
    "jill = Dog('Jill')\n",
    "print(jack.name, jill.name)\n",
    "print(jack.num_legs, jill.num_legs)\n",
    "print(Dog.num_legs)"
   ]
  },
  {
   "cell_type": "code",
   "execution_count": 124,
   "id": "a15b35a2",
   "metadata": {},
   "outputs": [
    {
     "name": "stdout",
     "output_type": "stream",
     "text": [
      "6 4\n",
      "6 4\n"
     ]
    }
   ],
   "source": [
    "jack.num_legs = 6 # create extra instance variable in Jack instance\n",
    "print(jack.num_legs, Dog.num_legs)\n",
    "print(jack.num_legs, jack.__class__.num_legs)"
   ]
  },
  {
   "cell_type": "code",
   "execution_count": null,
   "id": "98f614a5",
   "metadata": {},
   "outputs": [],
   "source": [
    "class CountedObject:\n",
    "    num_instances = 0\n",
    "    \n",
    "    def __init__(self):\n",
    "        self.__class__.num_instances += 1"
   ]
  },
  {
   "cell_type": "markdown",
   "id": "8e0b0de4",
   "metadata": {},
   "source": [
    "**Instance methods** can also access the class itself through the `self.__class__` attribute. This means instance methods can also modify class state.\n",
    "\n",
    "**class methods** take a `cls` parameter that points to the class—and not the object instance — when the method is called.\n",
    "\n",
    "everything in Python is an object, even classes themselves.\n",
    "\n",
    "**class methods** allow us to define alternative constructors for our classes. Python only allows one `__init__` method per class. Using class methods makes it possible to add as many alternative constructors as necessary.\n",
    "\n",
    "One use people have found for class methods is to create inheritable alternative constructors.\n",
    "\n",
    "\n",
    "@property ?? check docs"
   ]
  },
  {
   "cell_type": "code",
   "execution_count": 11,
   "id": "86f341b2",
   "metadata": {},
   "outputs": [
    {
     "name": "stdout",
     "output_type": "stream",
     "text": [
      "('instance method called', <__main__.MyClass object at 0x7f29e005f8e0>)\n",
      "('instance method called', <__main__.MyClass object at 0x7f29e005f8e0>)\n",
      "('class method called', <class '__main__.MyClass'>)\n",
      "static method called\n",
      "\n",
      "('class method called', <class '__main__.MyClass'>)\n",
      "static method called\n"
     ]
    }
   ],
   "source": [
    "class MyClass:\n",
    "    def method(self):\n",
    "        return 'instance method called', self\n",
    "    \n",
    "    @classmethod\n",
    "    def classmethod(cls):\n",
    "        return 'class method called', cls\n",
    "    \n",
    "    @staticmethod\n",
    "    def staticmethod():\n",
    "        return 'static method called'\n",
    "    \n",
    "obj = MyClass()\n",
    "print(obj.method())\n",
    "\n",
    "# pass instance object manually\n",
    "print(MyClass.method(obj))\n",
    "\n",
    "print(obj.classmethod())\n",
    "\n",
    "print(obj.staticmethod())\n",
    "\n",
    "print('')\n",
    "\n",
    "print(MyClass.classmethod())\n",
    "print(MyClass.staticmethod())\n",
    "# print(MyClass.method())"
   ]
  },
  {
   "cell_type": "code",
   "execution_count": 14,
   "id": "3be5b29b",
   "metadata": {},
   "outputs": [
    {
     "name": "stdout",
     "output_type": "stream",
     "text": [
      "Pizza(['cheese', 'tomatoes'], 10)\n",
      "Pizza(['mozzerella', 'tomatoes'], 10)\n",
      "Pizza(['mozzarella', 'tomatoes', 'ham'], 10)\n"
     ]
    }
   ],
   "source": [
    "import math\n",
    "class Pizza:\n",
    "    def __init__(self, ingredients, radius=10):\n",
    "        self.ingredients = ingredients\n",
    "        self.radius = radius\n",
    "        \n",
    "    def __repr__(self):\n",
    "        return f'Pizza({self.ingredients!r}, {self.radius!r})'\n",
    "    \n",
    "    @classmethod\n",
    "    def margherita(cls):\n",
    "        return cls(['mozzerella', 'tomatoes'])\n",
    "    \n",
    "    @classmethod\n",
    "    def prosciutto(cls):\n",
    "        return cls(['mozzarella', 'tomatoes', 'ham'])\n",
    "    \n",
    "    def area(self):\n",
    "        return self.circle_area(self.radius)\n",
    "    \n",
    "    @staticmethod\n",
    "    def circle_area(r):\n",
    "        return r ** 2 * math.pi\n",
    "    \n",
    "print(Pizza(['cheese', 'tomatoes']))\n",
    "print(Pizza.margherita())\n",
    "print(Pizza.prosciutto())"
   ]
  },
  {
   "cell_type": "code",
   "execution_count": 23,
   "id": "5b3957af",
   "metadata": {},
   "outputs": [
    {
     "name": "stdout",
     "output_type": "stream",
     "text": [
      "c1 (<class '__main__.X'>,)\n",
      "c2 (<class '__main__.X'>,)\n",
      "c1 (<class '__main__.X'>,)\n",
      "c2 (<class '__main__.X'>,)\n",
      "\n",
      "\n",
      "\n",
      "Y('abc')\n",
      "Y('0,1,2,3')\n",
      "\n",
      "\n",
      "Z('A,B,C')\n"
     ]
    }
   ],
   "source": [
    "# classmethod example\n",
    "class X:\n",
    "    def __init__(self):\n",
    "        pass\n",
    "    \n",
    "    def c1(*args):\n",
    "        print(f'c1 {args}')\n",
    "        \n",
    "    c1 = classmethod(c1) # Use classmethod decorator \n",
    "    \n",
    "    @classmethod\n",
    "    def c2(*args):\n",
    "        print(f'c2 {args}')\n",
    "              \n",
    "inst = X()\n",
    "X.c1()\n",
    "X.c2()\n",
    "\n",
    "inst.c1()\n",
    "inst.c2()\n",
    "\n",
    "print('\\n\\n')\n",
    "\n",
    "# Alternative constructors example\n",
    "class Y:\n",
    "    def __init__(self, astr):\n",
    "        self.s = astr\n",
    "        \n",
    "    @classmethod\n",
    "    def fromlist(cls, alist):\n",
    "        x = cls('')\n",
    "        x.s = ','.join(str(s) for s in alist)\n",
    "        return x\n",
    "    \n",
    "    def __repr__(self):\n",
    "        return f'Y({self.s!r})'\n",
    "    \n",
    "y1 = Y('abc')\n",
    "print(y1)\n",
    "y2 = Y.fromlist(range(4))\n",
    "print(y2)\n",
    "\n",
    "# subclass Y\n",
    "class Z(Y):\n",
    "    def __repr__(self):\n",
    "        return f'Z({self.s.upper()!r})'\n",
    "\n",
    "print('\\n')\n",
    "z1 = Z.fromlist(['a', 'b', 'c'])\n",
    "print(z1)"
   ]
  },
  {
   "cell_type": "markdown",
   "id": "882f56f9",
   "metadata": {},
   "source": [
    "Book: **The Algorithm Design Manual** Steven S. Skiena’s"
   ]
  },
  {
   "cell_type": "markdown",
   "id": "ccca29f4",
   "metadata": {},
   "source": [
    "**Dictionaries** are also often called _maps_, _hashmaps_, _lookup tables_, or _associative arrays_. They allow for the efficient lookup, insertion, and deletion of any object associated with a given key.\n",
    "\n",
    "`collections.OrderedDict` remember the insertion order of keys.\n",
    "\n",
    "While standard dict instances preserve the insertion order of keys in\n",
    "CPython 3.6 and above.\n",
    "\n",
    "The `defaultdict` class is another dictionary subclass that accepts\n",
    "a callable in its constructor whose return value will be used if a\n",
    "requested key cannot be found.\n",
    "\n",
    "The `collections.ChainMap` data structure groups multiple dictionar-\n",
    "ies into a single mapping."
   ]
  },
  {
   "cell_type": "code",
   "execution_count": 25,
   "id": "4fd8a1fe",
   "metadata": {},
   "outputs": [
    {
     "name": "stdout",
     "output_type": "stream",
     "text": [
      "{0: '0', 1: '1', 2: '4', 3: '9', 4: '16', 5: '25'}\n"
     ]
    }
   ],
   "source": [
    "phonebook = {\n",
    "    'bob': 1234,\n",
    "    'alice': 5678,\n",
    "    'jack': 2468,\n",
    "}\n",
    "\n",
    "# dictonary comprehension\n",
    "squares = {x: str(x*x) for x in range(6)}\n",
    "print(squares)"
   ]
  },
  {
   "cell_type": "code",
   "execution_count": 29,
   "id": "a551887d",
   "metadata": {},
   "outputs": [
    {
     "name": "stdout",
     "output_type": "stream",
     "text": [
      "OrderedDict([('one', 1), ('two', 2), ('three', 3), ('four', 4)])\n",
      "odict_keys(['one', 'two', 'three', 'four'])\n",
      "\n",
      "{'one': 1, 'two': 2, 'three': 3, 'four': 4}\n",
      "dict_keys(['one', 'two', 'three', 'four'])\n"
     ]
    }
   ],
   "source": [
    "import collections\n",
    "d = collections.OrderedDict(one=1, two=2, three=3, four=4)\n",
    "print(d)\n",
    "print(d.keys())\n",
    "print('')\n",
    "\n",
    "d2 = {'one': 1, 'two':2, 'three':3, 'four':4}\n",
    "print(d2)\n",
    "print(d2.keys())"
   ]
  },
  {
   "cell_type": "code",
   "execution_count": 33,
   "id": "ca8f941e",
   "metadata": {},
   "outputs": [
    {
     "name": "stdout",
     "output_type": "stream",
     "text": [
      "ChainMap({'one': 1, 'two': 2}, {'three': 3, 'four': 4})\n",
      "4\n",
      "1\n"
     ]
    }
   ],
   "source": [
    "from collections import defaultdict\n",
    "dd = defaultdict(list)\n",
    "\n",
    "\n",
    "from collections import ChainMap\n",
    "d1 = {'one': 1, 'two': 2}\n",
    "d2 = {'three': 3, 'four': 4}\n",
    "chain = ChainMap(d1, d2)\n",
    "\n",
    "print(chain)\n",
    "print(chain['four'])\n",
    "print(chain['one'])\n",
    "# print(chain['missing'])"
   ]
  },
  {
   "cell_type": "markdown",
   "id": "99b8f64f",
   "metadata": {},
   "source": [
    "Python’s lists are implemented as _dynamic arrays_ behind the scenes.\n",
    "\n",
    "Python’s `array` module provides space-efficient storage of basic C-\n",
    "style data types like bytes, 32-bit integers, floating point numbers, and so on.\n",
    "\n",
    "`str` is a recursive data structure—each character in a string is a str object of length 1 itself.\n",
    "\n",
    "`bytes` objects are immutable sequences of single bytes.\n",
    "`bytearray` is a _mutable byte array_."
   ]
  },
  {
   "cell_type": "code",
   "execution_count": 37,
   "id": "b64b7fe2",
   "metadata": {},
   "outputs": [
    {
     "name": "stdout",
     "output_type": "stream",
     "text": [
      "array('f', [1.0, 1.5, 2.0, 2.5])\n",
      "array('f', [1.0, 1.75, 2.0, 2.5])\n",
      "b'\\x00\\x01\\x02\\x03'\n",
      "bytearray(b'\\x00\\x01\\x02\\x03\\x04')\n"
     ]
    }
   ],
   "source": [
    "import array\n",
    "arr = array.array('f', (1.0, 1.5, 2.0, 2.5))\n",
    "print(arr)\n",
    "arr[1] = 1.75\n",
    "print(arr)\n",
    "\n",
    "b = bytes((0, 1, 2, 3))\n",
    "print(b)\n",
    "#b[0] = 1 # Error, immutable\n",
    "\n",
    "arr = bytearray((0, 1, 2, 3, 4))\n",
    "print(arr)"
   ]
  },
  {
   "cell_type": "markdown",
   "id": "e39c7a50",
   "metadata": {},
   "source": [
    "`typing.NamedTuple` class added in Python 3.6 is the younger sibling of the namedtuple class in the collections module. It is very simi-\n",
    "lar to namedtuple , the main difference being an updated syntax for\n",
    "defining new record types and added support for type hints."
   ]
  },
  {
   "cell_type": "markdown",
   "id": "16e1a95f",
   "metadata": {},
   "source": [
    "The `struct.Struct` class converts between Python values and C\n",
    "structs serialized into Python bytes objects. For example, it can be\n",
    "used to handle binary data stored in files or coming in from network\n",
    "connections."
   ]
  },
  {
   "cell_type": "code",
   "execution_count": 39,
   "id": "dfbb4d08",
   "metadata": {},
   "outputs": [
    {
     "name": "stdout",
     "output_type": "stream",
     "text": [
      "b'\\x17\\x00\\x00\\x00\\x00\\x00\\x00\\x00\\x00\\x00(B'\n"
     ]
    },
    {
     "data": {
      "text/plain": [
       "(23, False, 42.0)"
      ]
     },
     "execution_count": 39,
     "metadata": {},
     "output_type": "execute_result"
    }
   ],
   "source": [
    "from struct import Struct\n",
    "MyStruct = Struct('i?f')\n",
    "data = MyStruct.pack(23, False, 42.)\n",
    "print(data)\n",
    "MyStruct.unpack(data)"
   ]
  },
  {
   "cell_type": "markdown",
   "id": "dc57cd65",
   "metadata": {},
   "source": [
    "A **set** is an unordered collection of objects that does not allow duplicate elements. sets are used to quickly test a value for mem-\n",
    "bership in the set, to insert or delete new values from a set, and to\n",
    "compute the union or intersection of two sets.\n",
    "\n",
    "The **frozenset** class implements an immutable version of set that\n",
    "cannot be changed after it has been constructed."
   ]
  },
  {
   "cell_type": "code",
   "execution_count": 41,
   "id": "fa3df71f",
   "metadata": {},
   "outputs": [
    {
     "name": "stdout",
     "output_type": "stream",
     "text": [
      "True\n",
      "{'e', 'o', 'i', 'u', 'a'}\n",
      "{0, 1, 64, 4, 36, 9, 16, 49, 81, 25}\n"
     ]
    },
    {
     "data": {
      "text/plain": [
       "{'a', 'e', 'i'}"
      ]
     },
     "execution_count": 41,
     "metadata": {},
     "output_type": "execute_result"
    }
   ],
   "source": [
    "vowels = {'a', 'e', 'i', 'o', 'u'}\n",
    "squares = {x*x for x in range(10)}\n",
    "print('e' in vowels)\n",
    "print(vowels)\n",
    "print(squares)\n",
    "\n",
    "letters = set('alice')\n",
    "letters.intersection(vowels)\n",
    "\n",
    "vowels = forzenset({'a', 'e', 'i', 'o', 'u'})"
   ]
  },
  {
   "cell_type": "markdown",
   "id": "ae9d7c18",
   "metadata": {},
   "source": [
    "A short and beautiful algorithm using a stack is depth-first search (DFS) on a tree or graph data structure.\n",
    "\n",
    "The deque class implements a double-ended queue that supports\n",
    "adding and removing elements from either end in O(1) time (non-\n",
    "amortized)."
   ]
  },
  {
   "cell_type": "code",
   "execution_count": 46,
   "id": "192a9d9c",
   "metadata": {},
   "outputs": [
    {
     "data": {
      "text/plain": [
       "deque(['eat', 'sleep', 'code'])"
      ]
     },
     "execution_count": 46,
     "metadata": {},
     "output_type": "execute_result"
    }
   ],
   "source": [
    "# stack using deque\n",
    "from collections import deque\n",
    "s = deque()\n",
    "s.append('eat')\n",
    "s.append('sleep')\n",
    "s.append('code')\n",
    "s"
   ]
  },
  {
   "cell_type": "code",
   "execution_count": 47,
   "id": "f9e460a5",
   "metadata": {},
   "outputs": [
    {
     "data": {
      "text/plain": [
       "'code'"
      ]
     },
     "execution_count": 47,
     "metadata": {},
     "output_type": "execute_result"
    }
   ],
   "source": [
    "s.pop()"
   ]
  },
  {
   "cell_type": "code",
   "execution_count": 48,
   "id": "08a5ea23",
   "metadata": {},
   "outputs": [
    {
     "data": {
      "text/plain": [
       "'sleep'"
      ]
     },
     "execution_count": 48,
     "metadata": {},
     "output_type": "execute_result"
    }
   ],
   "source": [
    "s.pop()"
   ]
  },
  {
   "cell_type": "code",
   "execution_count": 49,
   "id": "032a209e",
   "metadata": {},
   "outputs": [
    {
     "data": {
      "text/plain": [
       "'eat'"
      ]
     },
     "execution_count": 49,
     "metadata": {},
     "output_type": "execute_result"
    }
   ],
   "source": [
    "s.pop()"
   ]
  },
  {
   "cell_type": "code",
   "execution_count": 50,
   "id": "dd2e7b68",
   "metadata": {},
   "outputs": [
    {
     "ename": "IndexError",
     "evalue": "pop from an empty deque",
     "output_type": "error",
     "traceback": [
      "\u001b[0;31m---------------------------------------------------------------------------\u001b[0m",
      "\u001b[0;31mIndexError\u001b[0m                                Traceback (most recent call last)",
      "\u001b[0;32m<ipython-input-50-c88c8c48122b>\u001b[0m in \u001b[0;36m<module>\u001b[0;34m\u001b[0m\n\u001b[0;32m----> 1\u001b[0;31m \u001b[0ms\u001b[0m\u001b[0;34m.\u001b[0m\u001b[0mpop\u001b[0m\u001b[0;34m(\u001b[0m\u001b[0;34m)\u001b[0m\u001b[0;34m\u001b[0m\u001b[0;34m\u001b[0m\u001b[0m\n\u001b[0m",
      "\u001b[0;31mIndexError\u001b[0m: pop from an empty deque"
     ]
    }
   ],
   "source": [
    "s.pop()"
   ]
  },
  {
   "cell_type": "code",
   "execution_count": 51,
   "id": "1536f155",
   "metadata": {},
   "outputs": [
    {
     "data": {
      "text/plain": [
       "<queue.LifoQueue at 0x7f29e009f430>"
      ]
     },
     "execution_count": 51,
     "metadata": {},
     "output_type": "execute_result"
    }
   ],
   "source": [
    "from queue import LifoQueue\n",
    "s = LifoQueue()\n",
    "s.put('eat')\n",
    "s.put('sleep')\n",
    "s.put('code')\n",
    "s"
   ]
  },
  {
   "cell_type": "code",
   "execution_count": 52,
   "id": "c6a33371",
   "metadata": {},
   "outputs": [
    {
     "data": {
      "text/plain": [
       "('code', 'sleep', 'eat')"
      ]
     },
     "execution_count": 52,
     "metadata": {},
     "output_type": "execute_result"
    }
   ],
   "source": [
    "s.get(), s.get(), s.get()"
   ]
  },
  {
   "cell_type": "markdown",
   "id": "6194a475",
   "metadata": {},
   "source": [
    "A priority queue is a container data structure that manages a set of\n",
    "records with totally-ordered 39 keys (for example, a numeric weight\n",
    "value) to provide quick access to the record with the smallest or largest\n",
    "key in the set.\n",
    "\n",
    "**cookie-cutter pattern**?"
   ]
  },
  {
   "cell_type": "code",
   "execution_count": 53,
   "id": "e423ba19",
   "metadata": {},
   "outputs": [
    {
     "data": {
      "text/plain": [
       "[0, 4, 16, 36, 64]"
      ]
     },
     "execution_count": 53,
     "metadata": {},
     "output_type": "execute_result"
    }
   ],
   "source": [
    "even_squares = [x * x for x in range(10) if x % 2 == 0]\n",
    "even_squares"
   ]
  },
  {
   "cell_type": "markdown",
   "id": "7d096819",
   "metadata": {},
   "source": [
    "Python’s iterator protocol: Objects that support the `__iter__` and `__next__` dunder methods automatically work with for-in loops."
   ]
  }
 ],
 "metadata": {
  "kernelspec": {
   "display_name": "Python 3",
   "language": "python",
   "name": "python3"
  },
  "language_info": {
   "codemirror_mode": {
    "name": "ipython",
    "version": 3
   },
   "file_extension": ".py",
   "mimetype": "text/x-python",
   "name": "python",
   "nbconvert_exporter": "python",
   "pygments_lexer": "ipython3",
   "version": "3.8.8"
  }
 },
 "nbformat": 4,
 "nbformat_minor": 5
}
