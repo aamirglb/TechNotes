{
 "cells": [
  {
   "cell_type": "markdown",
   "id": "11b273f6",
   "metadata": {},
   "source": [
    "# Python Tricks \n",
    "              Dan Bader "
   ]
  },
  {
   "cell_type": "code",
   "execution_count": null,
   "id": "70a7efa7",
   "metadata": {},
   "outputs": [],
   "source": [
    "# price amount in cents to avoid currency rounding\n",
    "shoes = {'name': 'Fancy Shoes', 'price': 14900} \n",
    "\n",
    "def apply_discount(product, discount):\n",
    "    price = int(product['price'] * (1.0 - discount))\n",
    "    assert 0 <= price <= product['price']\n",
    "    return price\n",
    "\n",
    "apply_discount(shoes, 0.25), apply_discount(shoes, 0.5), apply_discount(shoes, 1.0), apply_discount(shoes, 1.5)"
   ]
  },
  {
   "cell_type": "markdown",
   "id": "d058eb72",
   "metadata": {},
   "source": [
    "Assertions are meant to be *internal self-checks*. Pythons's assert statement is a debugging aid, not a mechanism for handling run-time errors."
   ]
  },
  {
   "cell_type": "code",
   "execution_count": null,
   "id": "70222d4c",
   "metadata": {},
   "outputs": [],
   "source": [
    "# Assertion implementation\n",
    "if __debug__:\n",
    "    if not expression1:\n",
    "        raise AssertionError(expression2)\n"
   ]
  },
  {
   "cell_type": "markdown",
   "id": "b9ddb878",
   "metadata": {},
   "source": [
    "__debug__ is a global variable which is **true** under normal circumstances and **false** if optimizations are requested.\n",
    "\n",
    "In computer programming jargon, a **heisenbug** is a software bug that seems to disappear or alter its behavior when one attempts to study it."
   ]
  },
  {
   "cell_type": "markdown",
   "id": "e98babd2",
   "metadata": {},
   "source": [
    "Assertions can be globally disabled with -O and -OO command lin switches as wll as `PYTHONOPTIMIZE` environment variable in CPython."
   ]
  },
  {
   "cell_type": "code",
   "execution_count": null,
   "id": "2c44cd28",
   "metadata": {},
   "outputs": [],
   "source": [
    "def delete_product(prod_id, user):\n",
    "    assert user.is_admin(),\n",
    "    assert store.has_product(prod_id),\n",
    "    store.get_product(prod_id).delete()"
   ]
  },
  {
   "cell_type": "code",
   "execution_count": null,
   "id": "32f66205",
   "metadata": {},
   "outputs": [],
   "source": [
    "# Better version\n",
    "def delete_product(prod_id, user):\n",
    "    if not user.is_admin():\n",
    "        raise AuthError('Must be admin to delete')\n",
    "    if not store.has_product(prod_id):\n",
    "        raise ValueError('Unknow product id')\n",
    "    store.get_product(prod_id).delete()"
   ]
  },
  {
   "cell_type": "code",
   "execution_count": 9,
   "id": "0b100146",
   "metadata": {},
   "outputs": [
    {
     "name": "stderr",
     "output_type": "stream",
     "text": [
      "<>:1: SyntaxWarning: assertion is always true, perhaps remove parentheses?\n",
      "<>:1: SyntaxWarning: assertion is always true, perhaps remove parentheses?\n",
      "<ipython-input-9-2c057bd7fe24>:1: SyntaxWarning: assertion is always true, perhaps remove parentheses?\n",
      "  assert(1 == 2, 'This should fail')\n"
     ]
    }
   ],
   "source": [
    "assert(1 == 2, 'This should fail')"
   ]
  },
  {
   "cell_type": "code",
   "execution_count": 10,
   "id": "9c801e6c",
   "metadata": {},
   "outputs": [
    {
     "ename": "AssertionError",
     "evalue": "this should fail",
     "output_type": "error",
     "traceback": [
      "\u001b[0;31m---------------------------------------------------------------------------\u001b[0m",
      "\u001b[0;31mAssertionError\u001b[0m                            Traceback (most recent call last)",
      "\u001b[0;32m<ipython-input-10-08ff04bbf765>\u001b[0m in \u001b[0;36m<module>\u001b[0;34m\u001b[0m\n\u001b[0;32m----> 1\u001b[0;31m \u001b[0;32massert\u001b[0m \u001b[0;36m1\u001b[0m \u001b[0;34m==\u001b[0m \u001b[0;36m2\u001b[0m\u001b[0;34m,\u001b[0m \u001b[0;34m\"this should fail\"\u001b[0m\u001b[0;34m\u001b[0m\u001b[0;34m\u001b[0m\u001b[0m\n\u001b[0m",
      "\u001b[0;31mAssertionError\u001b[0m: this should fail"
     ]
    }
   ],
   "source": [
    "assert 1 == 2, \"this should fail\""
   ]
  },
  {
   "cell_type": "code",
   "execution_count": 11,
   "id": "8cfaba56",
   "metadata": {},
   "outputs": [
    {
     "name": "stdout",
     "output_type": "stream",
     "text": [
      "['Alice', 'Bob', 'DilbertJane']\n"
     ]
    }
   ],
   "source": [
    "names = [\n",
    "    'Alice',\n",
    "    'Bob',\n",
    "    'Dilbert'\n",
    "    'Jane'\n",
    "]\n",
    "print(names)"
   ]
  },
  {
   "cell_type": "markdown",
   "id": "ddb3d5c7",
   "metadata": {},
   "source": [
    "In Python, a comma can be placed after every item in a list, dict, or set constant, including the last item."
   ]
  },
  {
   "cell_type": "markdown",
   "id": "d1fa458b",
   "metadata": {},
   "source": [
    "## Context Manager and with statement"
   ]
  },
  {
   "cell_type": "markdown",
   "id": "42c083c7",
   "metadata": {},
   "source": [
    "`with` statement simplifies some common resource management patterns by abstracting their functionality and allowing them to be factored out and reused.\n",
    "\n",
    "Another good example where the `with` statement is used effectively is `threading.Lock` class."
   ]
  },
  {
   "cell_type": "code",
   "execution_count": null,
   "id": "925993c3",
   "metadata": {},
   "outputs": [],
   "source": [
    "with open('hello.txt', 'w') as f:\n",
    "    f.write('Hello World!!')"
   ]
  },
  {
   "cell_type": "markdown",
   "id": "e06e1257",
   "metadata": {},
   "source": [
    "A class can support `with` statement by implementing so-called _context managers_. Context manager is a simple protocol/interface that your object needs to follow in order to support `with` statement. "
   ]
  },
  {
   "cell_type": "markdown",
   "id": "bc5dce1a",
   "metadata": {},
   "source": [
    "A class/object must add `__enter__` and `__exit__` methods it it want to function as a context manager.\n"
   ]
  },
  {
   "cell_type": "code",
   "execution_count": null,
   "id": "826755e0",
   "metadata": {},
   "outputs": [],
   "source": [
    "class ManagedFile:\n",
    "    def __init__(self, name):\n",
    "        self.name = name\n",
    "    \n",
    "    def __enter__(self):\n",
    "        self.file = open(self.name, 'w')\n",
    "        return self.file\n",
    "    \n",
    "    def __exit__(self, exc_type, exc_val, exc_tb):\n",
    "        if self.file:\n",
    "            self.file.close()"
   ]
  },
  {
   "cell_type": "code",
   "execution_count": null,
   "id": "de4c25e9",
   "metadata": {},
   "outputs": [],
   "source": [
    "with ManagedFile('hello.txt') as f:\n",
    "    f.write('hello world')\n",
    "    f.write('good byte')"
   ]
  },
  {
   "cell_type": "markdown",
   "id": "7a1db64f",
   "metadata": {},
   "source": [
    "The `contextlib` utility module in the standard library provides a few more abstractions built on top of the basic context manager protocol."
   ]
  },
  {
   "cell_type": "code",
   "execution_count": 12,
   "id": "467539c4",
   "metadata": {},
   "outputs": [],
   "source": [
    "from contextlib import contextmanager\n",
    "\n",
    "@contextmanager\n",
    "def managed_file(name):  # generator()\n",
    "    try:\n",
    "        f = open(name, 'w')\n",
    "        yield f\n",
    "    finally:\n",
    "        f.close()\n",
    "        \n",
    "with managed_file('hello.txt') as f:\n",
    "    f.write('hello and byte')"
   ]
  },
  {
   "cell_type": "code",
   "execution_count": 14,
   "id": "3e10010d",
   "metadata": {},
   "outputs": [
    {
     "name": "stdout",
     "output_type": "stream",
     "text": [
      "....hi!\n",
      "........hello!!\n",
      "............bonjour\n",
      "....bye\n"
     ]
    }
   ],
   "source": [
    "class Indenter:\n",
    "    def __init__(self):\n",
    "        self.level = 0\n",
    "        self.spacing = [\n",
    "            '....',\n",
    "            '****',\n",
    "            '++++',\n",
    "        ]\n",
    "    \n",
    "    def __enter__(self):\n",
    "        self.level += 1\n",
    "        return self\n",
    "    \n",
    "    def __exit__(self, exc_type, exc_val, exc_tb):\n",
    "        self.level -= 1\n",
    "        \n",
    "    def print(self, text):\n",
    "        print('....' * self.level + text)\n",
    "        \n",
    "\n",
    "with Indenter() as indent:\n",
    "    indent.print('hi!')\n",
    "    with indent:\n",
    "        indent.print('hello!!')\n",
    "        with indent:\n",
    "            indent.print('bonjour')\n",
    "    indent.print('bye')"
   ]
  },
  {
   "cell_type": "markdown",
   "id": "ae6ee85b",
   "metadata": {},
   "source": [
    "**Excercise:** implementing a context manager that measures the execution time of a code block using the time.time function. Be sure to try out writ ing both a decorator-based and a class-based variant to drive home the difference between the two"
   ]
  },
  {
   "cell_type": "markdown",
   "id": "93048eb8",
   "metadata": {},
   "source": [
    "**Single Leading Underscore:** `_var` (Convention only)\n",
    "Leading underscores impact how names get imported from modules. Python will _not_ import names with a leading underscore unless the module defines an `__all__` list\n",
    "\n",
    "**Single Trailing Underscore:** `var_` \n",
    "Use by convention to avoid naming conflicts with Python keywords.\n",
    "\n",
    "**Double Leading Underscore:** `__var` (Name Mangling)\n",
    "Causes Python interpreter to rewrite the attribute names in order to avoid naming conflicts in subclasses. \n",
    "\n",
    "**Double Leading and Trailing Underscore:** `__var__` (No Name Mangling) \n",
    "Reserved for special use in the language.\n",
    "\n",
    "**Single Underscore:** `_`\n",
    "In REPLs, represents result of last expression evaluated by interpreter."
   ]
  },
  {
   "cell_type": "code",
   "execution_count": 1,
   "id": "99439af4",
   "metadata": {},
   "outputs": [
    {
     "name": "stdout",
     "output_type": "stream",
     "text": [
      "11 22\n"
     ]
    }
   ],
   "source": [
    "class Test:\n",
    "    def __init__(self):\n",
    "        self.foo = 11\n",
    "        self._bar = 22\n",
    "\n",
    "t = Test()\n",
    "print(t.foo, t._bar)"
   ]
  },
  {
   "cell_type": "code",
   "execution_count": null,
   "id": "30748794",
   "metadata": {},
   "outputs": [],
   "source": [
    "# my_module.py\n",
    "def external_func():\n",
    "    return 22\n",
    "\n",
    "def _internal_func():\n",
    "    return 42\n",
    "\n",
    "from my_module import *   # Wild card imports should be avoided\n",
    "external_func()   # OK\n",
    "_internal_func()  # NameError\n",
    "\n",
    "import my_module   # Regular import\n",
    "my_module.external_func()\n",
    "my_module._internal_func()  # OK"
   ]
  },
  {
   "cell_type": "code",
   "execution_count": null,
   "id": "afb76655",
   "metadata": {},
   "outputs": [],
   "source": [
    "class Test:\n",
    "    def __init__(self):\n",
    "        self.foo = 11\n",
    "        self._bar = 22\n",
    "        self.__baz = 44\n",
    "\n",
    "class ExtendedTest(Test):\n",
    "    def __init__(self):\n",
    "        super().__init__()\n",
    "        self.foo = 'overridden'\n",
    "        self._bar = 'overridden'\n",
    "        self.__baz = 'overridden'\n",
    "        \n",
    "t = Test()\n",
    "print(dir(t))\n",
    "\n",
    "t2 = ExtendedTest()\n",
    "print(t2.foo, t2._bar, t2.__baz)"
   ]
  },
  {
   "cell_type": "markdown",
   "id": "335df9ea",
   "metadata": {},
   "source": [
    "Most important skills for a programmer is \"pattern recognition\" and knowing where to look things up.\n",
    "\n",
    "Double underscores are often referred to as **\"dunders\"** in Python community."
   ]
  },
  {
   "cell_type": "code",
   "execution_count": 5,
   "id": "617a8542",
   "metadata": {},
   "outputs": [],
   "source": [
    "car = ('red', 'auto', 12, 3812.4)\n",
    "color, _, _, mileage = car # _ as placeholder"
   ]
  },
  {
   "cell_type": "markdown",
   "id": "c902029e",
   "metadata": {},
   "source": [
    "Strings in Python have a unique built-in operation that can be accessed with the **% operator**."
   ]
  },
  {
   "cell_type": "code",
   "execution_count": 11,
   "id": "e274809f",
   "metadata": {},
   "outputs": [
    {
     "name": "stdout",
     "output_type": "stream",
     "text": [
      "Hey Bob, there is a 0xbadc0ffee error!\n",
      "Hey Bob, there is a 0xbadc0ffee error!\n",
      "Hey Bob, there is a 0xbadc0ffee error!\n",
      "Hey Bob, there is a 0xbadc0ffee error!\n"
     ]
    }
   ],
   "source": [
    "errno = 50159747054\n",
    "name = 'Bob'\n",
    "\n",
    "# old style string formatting\n",
    "print('Hey %s, there is a 0x%x error!' % (name, errno))\n",
    "print('Hey %(name)s, there is a 0x%(errno)x error!' % {\"name\": name, \"errno\": errno })\n",
    "\n",
    "# New style string formatting\n",
    "print('Hey {}, there is a 0x{:x} error!'.format(name, errno))\n",
    "print('Hey {name}, there is a 0x{errno:x} error!'.format(name=name, errno=errno))\n",
    "\n",
    "# Literal string interpolation (Python 3.6+)\n"
   ]
  },
  {
   "cell_type": "code",
   "execution_count": 12,
   "id": "f70f3040",
   "metadata": {},
   "outputs": [
    {
     "name": "stdout",
     "output_type": "stream",
     "text": [
      "  2           0 LOAD_CONST               1 ('Hello, ')\n",
      "              2 LOAD_FAST                0 (name)\n",
      "              4 FORMAT_VALUE             0\n",
      "              6 LOAD_CONST               2 (\"! How's it \")\n",
      "              8 LOAD_FAST                1 (question)\n",
      "             10 FORMAT_VALUE             0\n",
      "             12 LOAD_CONST               3 ('?')\n",
      "             14 BUILD_STRING             5\n",
      "             16 RETURN_VALUE\n"
     ]
    }
   ],
   "source": [
    "def greet(name, question):\n",
    "    return f\"Hello, {name}! How's it {question}?\"\n",
    "\n",
    "# gets translated into\n",
    "# def greet(name, question):\n",
    "#     return (\"Hello, \" + name + \" ! How's it \" + question + \"?\")\n",
    "\n",
    "import dis\n",
    "dis.dis(greet)"
   ]
  },
  {
   "cell_type": "markdown",
   "id": "a084f1ce",
   "metadata": {},
   "source": [
    "**grokking**: understand (something) intuitively or by empathy.\n",
    "\"corporate leaders seemed to grok this concept fairly quickly\""
   ]
  },
  {
   "cell_type": "code",
   "execution_count": 13,
   "id": "7acd571d",
   "metadata": {},
   "outputs": [
    {
     "name": "stdout",
     "output_type": "stream",
     "text": [
      "HI!\n",
      "yell\n"
     ]
    }
   ],
   "source": [
    "def yell(text):\n",
    "    return text.upper() + '!'\n",
    "\n",
    "bark = yell\n",
    "del yell\n",
    "print(bark('hi'))\n",
    "print(bark.__name__)"
   ]
  },
  {
   "cell_type": "markdown",
   "id": "dca58b29",
   "metadata": {},
   "source": [
    "Python attaches a string identifier to every function at creation\n",
    "time for debugging purposes. You can access this internal identifier with the `__name__` attribute.\n",
    "\n",
    "Functions that can accept other functions as arguments are also called _higher-order functions_. They are a necessity for the functional programming style.\n",
    "\n",
    "Python allows functions to be defined inside other functions.\n",
    "\n",
    "The inner functions can also _capture and carry some of the parent function's state_ with them. Functions that captures parent's state are called **lexical closures** or just **closures**."
   ]
  },
  {
   "cell_type": "code",
   "execution_count": 19,
   "id": "a15250b2",
   "metadata": {},
   "outputs": [
    {
     "name": "stdout",
     "output_type": "stream",
     "text": [
      "<function yell at 0x7fb2e85cbaf0> HEY THERE!\n",
      "<method 'lower' of 'str' objects> hey there\n",
      "<method 'capitalize' of 'str' objects> Hey there\n",
      "HI, I AM A PYTHON PROGRAM!\n",
      "hi, i am a python program\n"
     ]
    },
    {
     "data": {
      "text/plain": [
       "(None, None)"
      ]
     },
     "execution_count": 19,
     "metadata": {},
     "output_type": "execute_result"
    }
   ],
   "source": [
    "funcs = [bark, str.lower, str.capitalize]\n",
    "for f in funcs:\n",
    "    print(f, f('hey there'))\n",
    "funcs[0]('hello!!')\n",
    "\n",
    "def greet(func):\n",
    "    greeting = func('Hi, I am a Python program')\n",
    "    print(greeting)\n",
    "    \n",
    "greet(bark), greet(str.lower)"
   ]
  },
  {
   "cell_type": "code",
   "execution_count": 20,
   "id": "286b1821",
   "metadata": {},
   "outputs": [
    {
     "data": {
      "text/plain": [
       "['HELLO!', 'HEY!', 'HI!']"
      ]
     },
     "execution_count": 20,
     "metadata": {},
     "output_type": "execute_result"
    }
   ],
   "source": [
    "list(map(bark, ['hello', 'hey', 'hi']))"
   ]
  },
  {
   "cell_type": "code",
   "execution_count": 21,
   "id": "ce211e58",
   "metadata": {},
   "outputs": [
    {
     "name": "stdout",
     "output_type": "stream",
     "text": [
      "hello, world...\n"
     ]
    }
   ],
   "source": [
    "def speak(text):\n",
    "    def whisper(t):\n",
    "        return t.lower() + '...'\n",
    "    return whisper(text)\n",
    "print(speak('Hello, World'))\n",
    "\n",
    "# whisper is not accessible outside speak\n",
    "whisper('Yo')   # Error\n",
    "speak.whisper   # Error"
   ]
  },
  {
   "cell_type": "code",
   "execution_count": 24,
   "id": "bec4a33a",
   "metadata": {},
   "outputs": [
    {
     "name": "stdout",
     "output_type": "stream",
     "text": [
      "<function get_speak_func.<locals>.whisper at 0x7fb2e85cb430> hello...\n",
      "<function get_speak_func.<locals>.yell at 0x7fb2e85cbe50> BYE!\n"
     ]
    }
   ],
   "source": [
    "def get_speak_func(volume):\n",
    "    def whisper(text):\n",
    "        return text.lower() + '...'\n",
    "    def yell(text):\n",
    "        return text.upper() + '!'\n",
    "    \n",
    "    if volume > 0.5:\n",
    "        return yell\n",
    "    else:\n",
    "        return whisper\n",
    "    \n",
    "f = get_speak_func(0.3)\n",
    "print(f, f('hello'))\n",
    "\n",
    "g = get_speak_func(0.7)\n",
    "print(g, g('bye'))"
   ]
  },
  {
   "cell_type": "code",
   "execution_count": 26,
   "id": "f01bd892",
   "metadata": {},
   "outputs": [
    {
     "data": {
      "text/plain": [
       "'HELLO WORLD!'"
      ]
     },
     "execution_count": 26,
     "metadata": {},
     "output_type": "execute_result"
    }
   ],
   "source": [
    "def get_speak_func(text, volume):\n",
    "    def whisper():\n",
    "        # inner function captures the 'text' argument of parent\n",
    "        return text.lower() + '...'\n",
    "    def yell():\n",
    "        return text.upper() + '!'\n",
    "    \n",
    "    if volume > 0.5:\n",
    "        return yell\n",
    "    else:\n",
    "        return whisper\n",
    "    \n",
    "get_speak_func('Hello World', 0.8)()\n",
    "    "
   ]
  },
  {
   "cell_type": "code",
   "execution_count": 27,
   "id": "6766b5d1",
   "metadata": {},
   "outputs": [
    {
     "name": "stdout",
     "output_type": "stream",
     "text": [
      "13\n",
      "15\n"
     ]
    }
   ],
   "source": [
    "def make_adder(n):\n",
    "    def add(x):\n",
    "        return x+n\n",
    "    return add\n",
    "\n",
    "plus_3 = make_adder(3)\n",
    "plus_5 = make_adder(5)\n",
    "\n",
    "print(plus_3(10))\n",
    "print(plus_5(10))"
   ]
  },
  {
   "cell_type": "markdown",
   "id": "9003bf82",
   "metadata": {},
   "source": [
    "class objects can be made _callable_, which allows objects to be treated like a functions. If an object is callable it means you can use the round parentheses function call syntax on it and even pass in function call arguments."
   ]
  },
  {
   "cell_type": "code",
   "execution_count": 29,
   "id": "9461f8d5",
   "metadata": {},
   "outputs": [
    {
     "name": "stdout",
     "output_type": "stream",
     "text": [
      "7\n"
     ]
    },
    {
     "data": {
      "text/plain": [
       "True"
      ]
     },
     "execution_count": 29,
     "metadata": {},
     "output_type": "execute_result"
    }
   ],
   "source": [
    "class Adder:\n",
    "    def __init__(self, n):\n",
    "        self.n = n\n",
    "    \n",
    "    def __call__(self, x):\n",
    "        return self.n + x\n",
    "    \n",
    "plus_3 = Adder(3)\n",
    "print(plus_3(4)) # call object instance as function \n",
    "\n",
    "callable(plus_3)"
   ]
  },
  {
   "cell_type": "markdown",
   "id": "25a14ab6",
   "metadata": {},
   "source": [
    "The `lambda` keyword in Python provides a shortcut for declaring small anonymous functions. Lambda functions are restricted to a single expression. Lambda evaluates its expression and then automatically returns the expression's result."
   ]
  },
  {
   "cell_type": "code",
   "execution_count": 30,
   "id": "23e25551",
   "metadata": {},
   "outputs": [
    {
     "data": {
      "text/plain": [
       "9"
      ]
     },
     "execution_count": 30,
     "metadata": {},
     "output_type": "execute_result"
    }
   ],
   "source": [
    "(lambda x, y: x+y)(5, 4) # function expression"
   ]
  },
  {
   "cell_type": "code",
   "execution_count": 31,
   "id": "044c4a26",
   "metadata": {},
   "outputs": [
    {
     "name": "stdout",
     "output_type": "stream",
     "text": [
      "[(1, 'd'), (2, 'b'), (3, 'c'), (4, 'a')]\n",
      "[(4, 'a'), (2, 'b'), (3, 'c'), (1, 'd')]\n"
     ]
    }
   ],
   "source": [
    "tuples = [(1, 'd'), (2, 'b'), (4, 'a'), (3, 'c')]\n",
    "print(sorted(tuples))\n",
    "print(sorted(tuples, key=lambda x: x[1]))"
   ]
  },
  {
   "cell_type": "code",
   "execution_count": 33,
   "id": "84d00725",
   "metadata": {},
   "outputs": [
    {
     "name": "stdout",
     "output_type": "stream",
     "text": [
      "[-5, -4, -3, -2, -1, 0, 1, 2, 3, 4, 5]\n",
      "[0, -1, 1, -2, 2, -3, 3, -4, 4, -5, 5]\n"
     ]
    }
   ],
   "source": [
    "print(sorted(range(-5, 6)))\n",
    "print(sorted(range(-5, 6), key=lambda x: x*x))"
   ]
  },
  {
   "cell_type": "markdown",
   "id": "156c5e7b",
   "metadata": {},
   "source": [
    "Python’s **decorators** allow you to extend and modify the\n",
    "behavior of a callable (functions, methods, and classes) without permanently modifying the callable itself.\n",
    "\n",
    "Python's decorators _\"decorate”_ or _“wrap”_ another function\n",
    "and let you execute code _before_ and _after_ the wrapped function runs.\n",
    "\n",
    "A decorator is a _callable that takes a callable as input and returns another callable_.\n",
    "\n",
    "Putting an @null_decorator line in front of the function definition is the same as defining the function first and then running through the decorator.\n",
    "\n",
    "Python’s `*args` and `**kwargs` feature for dealing with variable\n",
    "numbers of arguments. `*` and `**` collect all positional and keyword arguments and stores them in variables `args` and `kwargs`. "
   ]
  },
  {
   "cell_type": "code",
   "execution_count": 37,
   "id": "76ab4667",
   "metadata": {},
   "outputs": [
    {
     "name": "stdout",
     "output_type": "stream",
     "text": [
      "Hello!\n",
      "HELLO\n"
     ]
    }
   ],
   "source": [
    "# Null decorator\n",
    "def null_decorator(func):\n",
    "    return func\n",
    "\n",
    "def greet():\n",
    "    return 'Hello'\n",
    "\n",
    "greet = null_decorator(greet)\n",
    "\n",
    "@null_decorator   # same as above explicit initialization\n",
    "def greet():\n",
    "    return 'Hello!'\n",
    "\n",
    "print(greet())\n",
    "\n",
    "# Another decorator\n",
    "def uppercase(func):\n",
    "    def wrapper():\n",
    "        original_result = func()\n",
    "        modified_result = original_result.upper()\n",
    "        return modified_result\n",
    "    return wrapper\n",
    "\n",
    "@uppercase\n",
    "def greet():\n",
    "    return 'Hello'\n",
    "\n",
    "print(greet())"
   ]
  },
  {
   "cell_type": "code",
   "execution_count": 40,
   "id": "73e20d41",
   "metadata": {},
   "outputs": [
    {
     "name": "stdout",
     "output_type": "stream",
     "text": [
      "<strong><em>Hello!</em></strong>\n"
     ]
    }
   ],
   "source": [
    "def strong(func):\n",
    "    def wrapper():\n",
    "        return '<strong>' + func() + '</strong>'\n",
    "    return wrapper\n",
    "\n",
    "def emphasis(func):\n",
    "    def wrapper():\n",
    "        return '<em>' + func() + '</em>'\n",
    "    return wrapper\n",
    "\n",
    "# Both are same \n",
    "# decorated_greet = strong(emphasis(greet))\n",
    "\n",
    "@strong\n",
    "@emphasis\n",
    "def greet():\n",
    "    return 'Hello!'\n",
    "\n",
    "print(greet())"
   ]
  },
  {
   "cell_type": "code",
   "execution_count": 44,
   "id": "7b62314d",
   "metadata": {},
   "outputs": [
    {
     "name": "stdout",
     "output_type": "stream",
     "text": [
      "TRACE: calling say() with ('ABC', 'def'), {}\n",
      "TRACE: say()returned ABC: def\n",
      "ABC: def\n"
     ]
    }
   ],
   "source": [
    "def proxy(func):\n",
    "    def wrapper(*args, **kwargs):\n",
    "        return func(*argc, **kwargs)\n",
    "    return wrapper\n",
    "\n",
    "\n",
    "def trace(func):\n",
    "    def wrapper(*args, **kwargs):\n",
    "        print(f'TRACE: calling {func.__name__}()'\n",
    "              f' with {args}, {kwargs}')\n",
    "        \n",
    "        original_result = func(*args, **kwargs)\n",
    "        \n",
    "        print(f'TRACE: {func.__name__}()' \n",
    "             f'returned {original_result}')\n",
    "        return original_result\n",
    "    return wrapper\n",
    "\n",
    "\n",
    "@trace\n",
    "def say(name, line):\n",
    "    return f'{name}: {line}'\n",
    "\n",
    "print(say('ABC', 'def'))"
   ]
  },
  {
   "cell_type": "markdown",
   "id": "e57184c5",
   "metadata": {},
   "source": [
    "One downside of decorator is that it \"hides\" some of the metadata attached to the original (undecorated) function.\n",
    "\n",
    "Use `functools.wraps` decorator in user defined decorators to copy over the lost metadata from undecorated function."
   ]
  },
  {
   "cell_type": "code",
   "execution_count": 52,
   "id": "db943488",
   "metadata": {},
   "outputs": [
    {
     "name": "stdout",
     "output_type": "stream",
     "text": [
      "greet\n",
      "Return a friendly greeting\n"
     ]
    }
   ],
   "source": [
    "def greet():\n",
    "    \"\"\"Return a friendly greeting\"\"\"\n",
    "    return 'Hello'\n",
    "\n",
    "decorated_greet = uppercase(greet)\n",
    "\n",
    "# print(greet.__name__)\n",
    "# print(greet.__doc__)\n",
    "print(decorated_greet.__name__)\n",
    "print(decorated_greet.__doc__)\n",
    "\n",
    "# import functools\n",
    "\n",
    "# def uppercase(func):\n",
    "#     @functools.wraps(func)\n",
    "#     def wrapper():\n",
    "#         return func().upper()\n",
    "#     return wrapper\n",
    "\n",
    "# @uppercase\n",
    "# def greet():\n",
    "#     \"\"\"Return a friendly greeting\"\"\"\n",
    "#     return 'Hello'\n",
    "\n",
    "# print(greet.__name__)\n",
    "# print(greet.__doc__)\n",
    "    "
   ]
  },
  {
   "cell_type": "code",
   "execution_count": null,
   "id": "a1b6be86",
   "metadata": {},
   "outputs": [],
   "source": []
  }
 ],
 "metadata": {
  "kernelspec": {
   "display_name": "Python 3",
   "language": "python",
   "name": "python3"
  },
  "language_info": {
   "codemirror_mode": {
    "name": "ipython",
    "version": 3
   },
   "file_extension": ".py",
   "mimetype": "text/x-python",
   "name": "python",
   "nbconvert_exporter": "python",
   "pygments_lexer": "ipython3",
   "version": "3.8.8"
  }
 },
 "nbformat": 4,
 "nbformat_minor": 5
}
