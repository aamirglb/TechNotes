{
 "cells": [
  {
   "cell_type": "markdown",
   "id": "11b273f6",
   "metadata": {},
   "source": [
    "# Python Tricks \n",
    "              Dan Bader "
   ]
  },
  {
   "cell_type": "code",
   "execution_count": null,
   "id": "70a7efa7",
   "metadata": {},
   "outputs": [],
   "source": [
    "# price amount in cents to avoid currency rounding\n",
    "shoes = {'name': 'Fancy Shoes', 'price': 14900} \n",
    "\n",
    "def apply_discount(product, discount):\n",
    "    price = int(product['price'] * (1.0 - discount))\n",
    "    assert 0 <= price <= product['price']\n",
    "    return price\n",
    "\n",
    "apply_discount(shoes, 0.25), apply_discount(shoes, 0.5), apply_discount(shoes, 1.0), apply_discount(shoes, 1.5)"
   ]
  },
  {
   "cell_type": "markdown",
   "id": "d058eb72",
   "metadata": {},
   "source": [
    "Assertions are meant to be *internal self-checks*. Pythons's assert statement is a debugging aid, not a mechanism for handling run-time errors."
   ]
  },
  {
   "cell_type": "code",
   "execution_count": null,
   "id": "70222d4c",
   "metadata": {},
   "outputs": [],
   "source": [
    "# Assertion implementation\n",
    "if __debug__:\n",
    "    if not expression1:\n",
    "        raise AssertionError(expression2)\n"
   ]
  },
  {
   "cell_type": "markdown",
   "id": "b9ddb878",
   "metadata": {},
   "source": [
    "__debug__ is a global variable which is **true** under normal circumstances and **false** if optimizations are requested.\n",
    "\n",
    "In computer programming jargon, a **heisenbug** is a software bug that seems to disappear or alter its behavior when one attempts to study it."
   ]
  },
  {
   "cell_type": "markdown",
   "id": "e98babd2",
   "metadata": {},
   "source": [
    "Assertions can be globally disabled with -O and -OO command lin switches as wll as `PYTHONOPTIMIZE` environment variable in CPython."
   ]
  },
  {
   "cell_type": "code",
   "execution_count": null,
   "id": "2c44cd28",
   "metadata": {},
   "outputs": [],
   "source": [
    "def delete_product(prod_id, user):\n",
    "    assert user.is_admin(),\n",
    "    assert store.has_product(prod_id),\n",
    "    store.get_product(prod_id).delete()"
   ]
  },
  {
   "cell_type": "code",
   "execution_count": null,
   "id": "32f66205",
   "metadata": {},
   "outputs": [],
   "source": [
    "# Better version\n",
    "def delete_product(prod_id, user):\n",
    "    if not user.is_admin():\n",
    "        raise AuthError('Must be admin to delete')\n",
    "    if not store.has_product(prod_id):\n",
    "        raise ValueError('Unknow product id')\n",
    "    store.get_product(prod_id).delete()"
   ]
  },
  {
   "cell_type": "code",
   "execution_count": 9,
   "id": "0b100146",
   "metadata": {},
   "outputs": [
    {
     "name": "stderr",
     "output_type": "stream",
     "text": [
      "<>:1: SyntaxWarning: assertion is always true, perhaps remove parentheses?\n",
      "<>:1: SyntaxWarning: assertion is always true, perhaps remove parentheses?\n",
      "<ipython-input-9-2c057bd7fe24>:1: SyntaxWarning: assertion is always true, perhaps remove parentheses?\n",
      "  assert(1 == 2, 'This should fail')\n"
     ]
    }
   ],
   "source": [
    "assert(1 == 2, 'This should fail')"
   ]
  },
  {
   "cell_type": "code",
   "execution_count": 10,
   "id": "9c801e6c",
   "metadata": {},
   "outputs": [
    {
     "ename": "AssertionError",
     "evalue": "this should fail",
     "output_type": "error",
     "traceback": [
      "\u001b[0;31m---------------------------------------------------------------------------\u001b[0m",
      "\u001b[0;31mAssertionError\u001b[0m                            Traceback (most recent call last)",
      "\u001b[0;32m<ipython-input-10-08ff04bbf765>\u001b[0m in \u001b[0;36m<module>\u001b[0;34m\u001b[0m\n\u001b[0;32m----> 1\u001b[0;31m \u001b[0;32massert\u001b[0m \u001b[0;36m1\u001b[0m \u001b[0;34m==\u001b[0m \u001b[0;36m2\u001b[0m\u001b[0;34m,\u001b[0m \u001b[0;34m\"this should fail\"\u001b[0m\u001b[0;34m\u001b[0m\u001b[0;34m\u001b[0m\u001b[0m\n\u001b[0m",
      "\u001b[0;31mAssertionError\u001b[0m: this should fail"
     ]
    }
   ],
   "source": [
    "assert 1 == 2, \"this should fail\""
   ]
  },
  {
   "cell_type": "code",
   "execution_count": 11,
   "id": "8cfaba56",
   "metadata": {},
   "outputs": [
    {
     "name": "stdout",
     "output_type": "stream",
     "text": [
      "['Alice', 'Bob', 'DilbertJane']\n"
     ]
    }
   ],
   "source": [
    "names = [\n",
    "    'Alice',\n",
    "    'Bob',\n",
    "    'Dilbert'\n",
    "    'Jane'\n",
    "]\n",
    "print(names)"
   ]
  },
  {
   "cell_type": "markdown",
   "id": "ddb3d5c7",
   "metadata": {},
   "source": [
    "In Python, a comma can be placed after every item in a list, dict, or set constant, including the last item."
   ]
  },
  {
   "cell_type": "markdown",
   "id": "d1fa458b",
   "metadata": {},
   "source": [
    "## Context Manager and with statement"
   ]
  },
  {
   "cell_type": "markdown",
   "id": "42c083c7",
   "metadata": {},
   "source": [
    "`with` statement simplifies some common resource management patterns by abstracting their functionality and allowing them to be factored out and reused.\n",
    "\n",
    "Another good example where the `with` statement is used effectively is `threading.Lock` class."
   ]
  },
  {
   "cell_type": "code",
   "execution_count": null,
   "id": "925993c3",
   "metadata": {},
   "outputs": [],
   "source": [
    "with open('hello.txt', 'w') as f:\n",
    "    f.write('Hello World!!')"
   ]
  },
  {
   "cell_type": "markdown",
   "id": "e06e1257",
   "metadata": {},
   "source": [
    "A class can support `with` statement by implementing so-called _context managers_. Context manager is a simple protocol/interface that your object needs to follow in order to support `with` statement. "
   ]
  },
  {
   "cell_type": "markdown",
   "id": "bc5dce1a",
   "metadata": {},
   "source": [
    "A class/object must add `__enter__` and `__exit__` methods it it want to function as a context manager.\n"
   ]
  },
  {
   "cell_type": "code",
   "execution_count": null,
   "id": "826755e0",
   "metadata": {},
   "outputs": [],
   "source": [
    "class ManagedFile:\n",
    "    def __init__(self, name):\n",
    "        self.name = name\n",
    "    \n",
    "    def __enter__(self):\n",
    "        self.file = open(self.name, 'w')\n",
    "        return self.file\n",
    "    \n",
    "    def __exit__(self, exc_type, exc_val, exc_tb):\n",
    "        if self.file:\n",
    "            self.file.close()"
   ]
  },
  {
   "cell_type": "code",
   "execution_count": null,
   "id": "de4c25e9",
   "metadata": {},
   "outputs": [],
   "source": [
    "with ManagedFile('hello.txt') as f:\n",
    "    f.write('hello world')\n",
    "    f.write('good byte')"
   ]
  },
  {
   "cell_type": "markdown",
   "id": "7a1db64f",
   "metadata": {},
   "source": [
    "The `contextlib` utility module in the standard library provides a few more abstractions built on top of the basic context manager protocol."
   ]
  },
  {
   "cell_type": "code",
   "execution_count": 12,
   "id": "467539c4",
   "metadata": {},
   "outputs": [],
   "source": [
    "from contextlib import contextmanager\n",
    "\n",
    "@contextmanager\n",
    "def managed_file(name):  # generator()\n",
    "    try:\n",
    "        f = open(name, 'w')\n",
    "        yield f\n",
    "    finally:\n",
    "        f.close()\n",
    "        \n",
    "with managed_file('hello.txt') as f:\n",
    "    f.write('hello and byte')"
   ]
  },
  {
   "cell_type": "code",
   "execution_count": 14,
   "id": "3e10010d",
   "metadata": {},
   "outputs": [
    {
     "name": "stdout",
     "output_type": "stream",
     "text": [
      "....hi!\n",
      "........hello!!\n",
      "............bonjour\n",
      "....bye\n"
     ]
    }
   ],
   "source": [
    "class Indenter:\n",
    "    def __init__(self):\n",
    "        self.level = 0\n",
    "        self.spacing = [\n",
    "            '....',\n",
    "            '****',\n",
    "            '++++',\n",
    "        ]\n",
    "    \n",
    "    def __enter__(self):\n",
    "        self.level += 1\n",
    "        return self\n",
    "    \n",
    "    def __exit__(self, exc_type, exc_val, exc_tb):\n",
    "        self.level -= 1\n",
    "        \n",
    "    def print(self, text):\n",
    "        print('....' * self.level + text)\n",
    "        \n",
    "\n",
    "with Indenter() as indent:\n",
    "    indent.print('hi!')\n",
    "    with indent:\n",
    "        indent.print('hello!!')\n",
    "        with indent:\n",
    "            indent.print('bonjour')\n",
    "    indent.print('bye')"
   ]
  },
  {
   "cell_type": "markdown",
   "id": "ae6ee85b",
   "metadata": {},
   "source": [
    "Excercise: implementing a context manager that measures the execution time of a code block using the time.time function. Be sure to try out writ ing both a decorator-based and a class-based variant to drive home the difference between the two"
   ]
  },
  {
   "cell_type": "code",
   "execution_count": null,
   "id": "015a904c",
   "metadata": {},
   "outputs": [],
   "source": []
  }
 ],
 "metadata": {
  "kernelspec": {
   "display_name": "Python 3",
   "language": "python",
   "name": "python3"
  },
  "language_info": {
   "codemirror_mode": {
    "name": "ipython",
    "version": 3
   },
   "file_extension": ".py",
   "mimetype": "text/x-python",
   "name": "python",
   "nbconvert_exporter": "python",
   "pygments_lexer": "ipython3",
   "version": "3.8.8"
  }
 },
 "nbformat": 4,
 "nbformat_minor": 5
}
